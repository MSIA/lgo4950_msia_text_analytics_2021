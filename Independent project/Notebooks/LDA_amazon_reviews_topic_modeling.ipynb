{
 "cells": [
  {
   "cell_type": "markdown",
   "metadata": {},
   "source": [
    "### References\n",
    "\n",
    "https://www.datacamp.com/community/tutorials/discovering-hidden-topics-python\n",
    "\n",
    "https://towardsdatascience.com/the-complete-guide-for-topics-extraction-in-python-a6aaa6cedbbc"
   ]
  },
  {
   "cell_type": "markdown",
   "metadata": {},
   "source": [
    "# Read in raw data, transform and prepare for topic extraction"
   ]
  },
  {
   "cell_type": "code",
   "execution_count": 1,
   "metadata": {},
   "outputs": [],
   "source": [
    "import numpy as np\n",
    "import pandas as pd\n",
    "import regex as re\n",
    "import json\n",
    "import sklearn\n",
    "import eli5\n",
    "import matplotlib\n",
    "import matplotlib.pyplot as plt\n",
    "import seaborn as sns\n",
    "\n",
    "from sklearn.utils import shuffle\n",
    "from sklearn import metrics\n",
    "from sklearn.linear_model import LogisticRegression\n",
    "from sklearn.metrics import confusion_matrix\n",
    "from sklearn.feature_extraction.text import CountVectorizer, TfidfVectorizer\n",
    "from sklearn.model_selection import train_test_split\n",
    "from nltk.tokenize import word_tokenize\n",
    "\n",
    "import warnings\n",
    "warnings.filterwarnings(\"ignore\")"
   ]
  },
  {
   "cell_type": "code",
   "execution_count": 2,
   "metadata": {},
   "outputs": [],
   "source": [
    "import os.path\n",
    "from gensim import corpora\n",
    "from gensim.models import LsiModel, LdaModel\n",
    "from nltk.tokenize import RegexpTokenizer\n",
    "from nltk.corpus import stopwords\n",
    "from nltk.stem.porter import PorterStemmer\n",
    "from gensim.models.coherencemodel import CoherenceModel \n",
    "import matplotlib.pyplot as plt"
   ]
  },
  {
   "cell_type": "code",
   "execution_count": 3,
   "metadata": {},
   "outputs": [],
   "source": [
    "def convert_json_review_to_pd(json_path):\n",
    "    ''' Takes jason path, reads in all entries, then returns pd dataframe object'''\n",
    "\n",
    "    # Read in json file\n",
    "    reviews = []\n",
    "    with open(json_path) as json_file:\n",
    "        for rec in json_file:\n",
    "            dic = json.loads(rec)\n",
    "            reviews.append(dic)\n",
    "\n",
    "    # Return pd dataframe object\n",
    "    reviews_pd = pd.DataFrame.from_records(reviews)\n",
    "    # reviews_pd['category'] = cat_name\n",
    "\n",
    "    return reviews_pd\n",
    "\n",
    "\n",
    "def prepare_text(text):\n",
    "    '''Cleaning and tokenizing text for analysis'''\n",
    "\n",
    "    text = str(text)\n",
    "\n",
    "    # Replace contractions with full text form\n",
    "    text = text.split()\n",
    "    new_text = []\n",
    "    for word in text:\n",
    "        if word in contractions:\n",
    "            new_text.append(contractions[word])\n",
    "        else:\n",
    "            new_text.append(word)\n",
    "    text = \" \".join(new_text)\n",
    "\n",
    "    # Removal of white space\n",
    "    text = re.sub('\\s+', ' ', text)\n",
    "    # Removal of digits\n",
    "    text = re.sub(r'\\d+', '', text)\n",
    "\n",
    "    # Convert words to lower case\n",
    "    text = text.lower()\n",
    "\n",
    "    # Remove other signs including punctuation\n",
    "    text = re.sub(r'[_\"\\-;%()|+&=*%.,!?:#$@\\[\\]/]', ' ', text)\n",
    "    text = re.sub(r'\\'', ' ', text)\n",
    "\n",
    "    return text\n",
    "\n",
    "\n",
    "def remove_stopwords(list_words):\n",
    "    no_stop_words = [i for i in list_words if not i in stopwords]\n",
    "    return no_stop_words\n",
    "\n",
    "\n",
    "def stem_all_words(list_words):\n",
    "    # Create p_stemmer of class PorterStemmer\n",
    "    p_stemmer = PorterStemmer()\n",
    "    stemmed_list = [p_stemmer.stem(i) for i in list_words]\n",
    "    return stemmed_list\n",
    "\n",
    "\n",
    "def preprocess(df, cat_name):\n",
    "    ''' Takes raw pd dataframe object, keeps only rating and star review, then balances set for equal balance\n",
    "    between 1/2 star reviews and 4/5 star reviews '''\n",
    "\n",
    "    # Select only subset of columns\n",
    "    df = df[['overall', 'reviewText']]\n",
    "\n",
    "    # Remove average ratings (3 stars)\n",
    "    df = df[df['overall'] != 3]\n",
    "\n",
    "    # Group poor and strong ratings together (1 and 2 vs 4 and 5)\n",
    "    df['overall'] = np.where(df['overall'] <= 2, 1, 5)\n",
    "\n",
    "    # Split low and high scores\n",
    "    low_scores = df[df['overall'] == 1].reset_index()\n",
    "    high_scores = df[df['overall'] == 5].reset_index()\n",
    "\n",
    "    # Select number of rows such that dataset is balanced\n",
    "    min_rows = min(low_scores.shape[0], high_scores.shape[0]) - 1\n",
    "    low_scores = low_scores[0:min_rows]\n",
    "    high_scores = high_scores[0:min_rows]\n",
    "\n",
    "    # Re-merge low and high scores\n",
    "    df = low_scores.append(high_scores)\n",
    "\n",
    "    # Shuffle resulting df\n",
    "    df = shuffle(df).reset_index()\n",
    "\n",
    "    # Complete pre-processing step\n",
    "    df['clean_text'] = list(map(prepare_text, df['reviewText']))\n",
    "    df['tokenized_words'] = list(map(word_tokenize, df['clean_text']))\n",
    "    df['tokenized_words'] = list(map(remove_stopwords, df['tokenized_words']))\n",
    "    df['tokenized_words'] = list(map(stem_all_words, df['tokenized_words']))\n",
    "    df['category'] = cat_name\n",
    "    \n",
    "    df = df[['category', 'overall', 'reviewText', 'clean_text', 'tokenized_words']]\n",
    "\n",
    "    return df\n",
    "\n",
    "\n",
    "def append_data_frame(list_dfs):\n",
    "\n",
    "    ''' Creates one unique df from multipe different product categories'''\n",
    "    \n",
    "    # Find size of shortest df, ensure that no df is longer (to ensure balanced claa)\n",
    "    length_df = []\n",
    "    for cat in category_df_list:\n",
    "        length_df.append(cat.shape[0])\n",
    "    max_rows = np.min(length_df)\n",
    "\n",
    "    for i in range(0,len(list_dfs)-1):\n",
    "        if i == 0:\n",
    "            df = list_dfs[0][0:max_rows]\n",
    "            df = df.append(list_dfs[1][0:max_rows])\n",
    "        else:\n",
    "            df = df.append(list_dfs[i + 1][0:max_rows])\n",
    "    return df\n",
    "\n",
    "\n",
    "stopwords = set(stopwords.words('english'))\n",
    "\n",
    "contractions = {\"ain't\": \"am not\", \"aren't\": \"are not\", \"can't\": \"cannot\", \"can't've\": \"cannot have\",\n",
    "                \"'cause\": \"because\", \"could've\": \"could have\", \"couldn't\": \"could not\", \"couldn't've\": \"could not have\",\n",
    "                \"didn't\": \"did not\", \"doesn't\": \"does not\", \"don't\": \"do not\",\n",
    "                \"hadn't\": \"had not\", \"hadn't've\": \"had not have\", \"hasn't\": \"has not\",\n",
    "                \"haven't\": \"have not\", \"he'd\": \"he would\", \"he'd've\": \"he would have\",\n",
    "                \"he'll\": \"he will\", \"he's\": \"he is\", \"how'd\": \"how did\", \"how'll\": \"how will\",\n",
    "                \"how's\": \"how is\", \"i'd\": \"i would\", \"i'll\": \"i will\", \"i'm\": \"i am\", \"i've\": \"i have\",\n",
    "                \"isn't\": \"is not\", \"it'd\": \"it would\", \"it'll\": \"it will\", \"it's\": \"it is\", \"let's\": \"let us\",\n",
    "                \"ma'am\": \"madam\", \"mayn't\": \"may not\", \"might've\": \"might have\", \"mightn't\": \"might not\",\n",
    "                \"must've\": \"must have\", \"mustn't\": \"must not\", \"needn't\": \"need not\", \"oughtn't\": \"ought not\",\n",
    "                \"shan't\": \"shall not\", \"sha'n't\": \"shall not\", \"she'd\": \"she would\", \"she'll\": \"she will\",\n",
    "                \"she's\": \"she is\", \"should've\": \"should have\", \"shouldn't\": \"should not\", \"that'd\": \"that would\",\n",
    "                \"that's\": \"that is\", \"there'd\": \"there had\", \"there's\": \"there is\", \"they'd\": \"they would\",\n",
    "                \"they'll\": \"they will\", \"they're\": \"they are\", \"they've\": \"they have\", \"wasn't\": \"was not\",\n",
    "                \"we'd\": \"we would\", \"we'll\": \"we will\", \"we're\": \"we are\", \"we've\": \"we have\",\n",
    "                \"weren't\": \"were not\", \"what'll\": \"what will\", \"what're\": \"what are\", \"what's\": \"what is\",\n",
    "                \"what've\": \"what have\", \"where'd\": \"where did\", \"where's\": \"where is\", \"who'll\": \"who will\",\n",
    "                \"who's\": \"who is\", \"won't\": \"will not\", \"wouldn't\": \"would not\", \"you'd\": \"you would\",\n",
    "                \"you'll\": \"you will\", \"you're\": \"you are\"}"
   ]
  },
  {
   "cell_type": "code",
   "execution_count": 4,
   "metadata": {},
   "outputs": [
    {
     "name": "stdout",
     "output_type": "stream",
     "text": [
      "- Datasets loaded\n",
      "- Text preprocessed\n"
     ]
    }
   ],
   "source": [
    "# Read reviews data\n",
    "data_path = '/Users/louisgenereux/Desktop/Term 4/Text_analytics/Amazon reviews/Per product'\n",
    "musical_instruments = convert_json_review_to_pd(data_path + '/Musical_Instruments.json')\n",
    "magazine_subscriptions = convert_json_review_to_pd(data_path + '/Magazine_Subscriptions.json')\n",
    "fashion = convert_json_review_to_pd(data_path + '/AMAZON_FASHION.json')\n",
    "appliances = convert_json_review_to_pd(data_path + '/Appliances.json')\n",
    "grocery_and_food = convert_json_review_to_pd(data_path + '/Grocery_and_Gourmet_Food_sub.json')\n",
    "toys_and_games = convert_json_review_to_pd(data_path + '/Toys_and_Games_sub.json')\n",
    "print('- Datasets loaded')\n",
    "\n",
    "# Pre-process data\n",
    "musical_instruments = preprocess(musical_instruments, 'musical instrument')\n",
    "magazine_subscriptions = preprocess(magazine_subscriptions, 'magazine subscriptions')\n",
    "fashion = preprocess(fashion, 'fashion')\n",
    "appliances = preprocess(appliances, 'appliances')\n",
    "grocery_and_food = preprocess(grocery_and_food, 'grocery and food')\n",
    "toys_and_games = preprocess(toys_and_games, 'toy and games')\n",
    "print('- Text preprocessed')\n",
    "\n",
    "# Appending all dfs into one aggregated df\n",
    "category_df_list = [musical_instruments, magazine_subscriptions, fashion, appliances, \n",
    "                    grocery_and_food, toys_and_games]\n",
    "ratings_df = append_data_frame(category_df_list)"
   ]
  },
  {
   "cell_type": "code",
   "execution_count": 12,
   "metadata": {},
   "outputs": [
    {
     "data": {
      "text/html": [
       "<div>\n",
       "<style scoped>\n",
       "    .dataframe tbody tr th:only-of-type {\n",
       "        vertical-align: middle;\n",
       "    }\n",
       "\n",
       "    .dataframe tbody tr th {\n",
       "        vertical-align: top;\n",
       "    }\n",
       "\n",
       "    .dataframe thead th {\n",
       "        text-align: right;\n",
       "    }\n",
       "</style>\n",
       "<table border=\"1\" class=\"dataframe\">\n",
       "  <thead>\n",
       "    <tr style=\"text-align: right;\">\n",
       "      <th></th>\n",
       "      <th>category</th>\n",
       "      <th>overall</th>\n",
       "      <th>reviewText</th>\n",
       "      <th>clean_text</th>\n",
       "      <th>tokenized_words</th>\n",
       "    </tr>\n",
       "  </thead>\n",
       "  <tbody>\n",
       "    <tr>\n",
       "      <th>1</th>\n",
       "      <td>musical instrument</td>\n",
       "      <td>5</td>\n",
       "      <td>Legendary sound and reliability. Always priced the same wherever they are sold.</td>\n",
       "      <td>legendary sound and reliability  always priced the same wherever they are sold</td>\n",
       "      <td>[legendari, sound, reliabl, alway, price, wherev, sold]</td>\n",
       "    </tr>\n",
       "    <tr>\n",
       "      <th>3</th>\n",
       "      <td>musical instrument</td>\n",
       "      <td>5</td>\n",
       "      <td>It's a great string winder, and it is so nice being able to wind and cut the string with the same tool. It's a brilliant idea haha. It's very good quality, like all planet waves products.</td>\n",
       "      <td>it s a great string winder  and it is so nice being able to wind and cut the string with the same tool  it s a brilliant idea haha  it s very good quality  like all planet waves products</td>\n",
       "      <td>[great, string, winder, nice, abl, wind, cut, string, tool, brilliant, idea, haha, good, qualiti, like, planet, wave, product]</td>\n",
       "    </tr>\n",
       "    <tr>\n",
       "      <th>9</th>\n",
       "      <td>musical instrument</td>\n",
       "      <td>5</td>\n",
       "      <td>Great product shipping was puntual</td>\n",
       "      <td>great product shipping was puntual</td>\n",
       "      <td>[great, product, ship, puntual]</td>\n",
       "    </tr>\n",
       "    <tr>\n",
       "      <th>13</th>\n",
       "      <td>musical instrument</td>\n",
       "      <td>5</td>\n",
       "      <td>I use EJ16s on all my acoustics. I love the sound of a new set of strings. Buy them in the 10 back and they are very affordable. They have a decent life span for a non coated string and are the bench mark I use to compare other strings, but I always come back to these. Nice bright clear sound.  I got the 3 pack as a gift.</td>\n",
       "      <td>i use ejs on all my acoustics  i love the sound of a new set of strings  buy them in the  back and they are very affordable  they have a decent life span for a non coated string and are the bench mark i use to compare other strings  but i always come back to these  nice bright clear sound  i got the  pack as a gift</td>\n",
       "      <td>[use, ej, acoust, love, sound, new, set, string, buy, back, afford, decent, life, span, non, coat, string, bench, mark, use, compar, string, alway, come, back, nice, bright, clear, sound, got, pack, gift]</td>\n",
       "    </tr>\n",
       "    <tr>\n",
       "      <th>19</th>\n",
       "      <td>musical instrument</td>\n",
       "      <td>5</td>\n",
       "      <td>Basic guitar strap, it works. Just remember to take the picks out of the pocket before you put the guitar down, they will fall out.</td>\n",
       "      <td>basic guitar strap  it works  just remember to take the picks out of the pocket before you put the guitar down  they will fall out</td>\n",
       "      <td>[basic, guitar, strap, work, rememb, take, pick, pocket, put, guitar, fall]</td>\n",
       "    </tr>\n",
       "  </tbody>\n",
       "</table>\n",
       "</div>"
      ],
      "text/plain": [
       "              category  overall  \\\n",
       "1   musical instrument        5   \n",
       "3   musical instrument        5   \n",
       "9   musical instrument        5   \n",
       "13  musical instrument        5   \n",
       "19  musical instrument        5   \n",
       "\n",
       "                                                                                                                                                                                                                                                                                                                             reviewText  \\\n",
       "1                                                                                                                                                                                                                                                       Legendary sound and reliability. Always priced the same wherever they are sold.   \n",
       "3                                                                                                                                           It's a great string winder, and it is so nice being able to wind and cut the string with the same tool. It's a brilliant idea haha. It's very good quality, like all planet waves products.   \n",
       "9                                                                                                                                                                                                                                                                                                    Great product shipping was puntual   \n",
       "13  I use EJ16s on all my acoustics. I love the sound of a new set of strings. Buy them in the 10 back and they are very affordable. They have a decent life span for a non coated string and are the bench mark I use to compare other strings, but I always come back to these. Nice bright clear sound.  I got the 3 pack as a gift.   \n",
       "19                                                                                                                                                                                                  Basic guitar strap, it works. Just remember to take the picks out of the pocket before you put the guitar down, they will fall out.   \n",
       "\n",
       "                                                                                                                                                                                                                                                                                                                       clean_text  \\\n",
       "1                                                                                                                                                                                                                                                 legendary sound and reliability  always priced the same wherever they are sold    \n",
       "3                                                                                                                                     it s a great string winder  and it is so nice being able to wind and cut the string with the same tool  it s a brilliant idea haha  it s very good quality  like all planet waves products    \n",
       "9                                                                                                                                                                                                                                                                                              great product shipping was puntual   \n",
       "13  i use ejs on all my acoustics  i love the sound of a new set of strings  buy them in the  back and they are very affordable  they have a decent life span for a non coated string and are the bench mark i use to compare other strings  but i always come back to these  nice bright clear sound  i got the  pack as a gift    \n",
       "19                                                                                                                                                                                            basic guitar strap  it works  just remember to take the picks out of the pocket before you put the guitar down  they will fall out    \n",
       "\n",
       "                                                                                                                                                                                                 tokenized_words  \n",
       "1                                                                                                                                                        [legendari, sound, reliabl, alway, price, wherev, sold]  \n",
       "3                                                                                 [great, string, winder, nice, abl, wind, cut, string, tool, brilliant, idea, haha, good, qualiti, like, planet, wave, product]  \n",
       "9                                                                                                                                                                                [great, product, ship, puntual]  \n",
       "13  [use, ej, acoust, love, sound, new, set, string, buy, back, afford, decent, life, span, non, coat, string, bench, mark, use, compar, string, alway, come, back, nice, bright, clear, sound, got, pack, gift]  \n",
       "19                                                                                                                                   [basic, guitar, strap, work, rememb, take, pick, pocket, put, guitar, fall]  "
      ]
     },
     "execution_count": 12,
     "metadata": {},
     "output_type": "execute_result"
    }
   ],
   "source": [
    "ratings_positive = ratings_df[ratings_df['overall']==5]\n",
    "pd.set_option('max_colwidth', 500)\n",
    "ratings_positive.head()"
   ]
  },
  {
   "cell_type": "markdown",
   "metadata": {},
   "source": [
    "# Performing topic extraction"
   ]
  },
  {
   "cell_type": "code",
   "execution_count": 6,
   "metadata": {},
   "outputs": [],
   "source": [
    "def create_term_dict_and_doc_term_matrix(doc_clean):\n",
    "    \"\"\"\n",
    "    Input  : clean document\n",
    "    Purpose: create term dictionary of our courpus and Converting list of documents (corpus) into Document Term Matrix\n",
    "    Output : term dictionary and Document Term Matrix\n",
    "    \"\"\"\n",
    "    # Creating the term dictionary of our courpus, where every unique term is assigned an index. dictionary = corpora.Dictionary(doc_clean)\n",
    "    dictionary = corpora.Dictionary(doc_clean)\n",
    "    # Converting list of documents (corpus) into Document Term Matrix using dictionary prepared above.\n",
    "    doc_term_matrix = [dictionary.doc2bow(doc) for doc in doc_clean]\n",
    "    # generate LDA model\n",
    "    return dictionary,doc_term_matrix"
   ]
  },
  {
   "cell_type": "code",
   "execution_count": 7,
   "metadata": {},
   "outputs": [],
   "source": [
    "def create_gensim_lsa_model(doc_clean,number_of_topics,words):\n",
    "    \"\"\"\n",
    "    Input  : clean document, number of topics and number of words associated with each topic\n",
    "    Purpose: create LSA model using gensim\n",
    "    Output : return LSA model\n",
    "    \"\"\"\n",
    "    dictionary,doc_term_matrix=create_term_dict_and_doc_term_matrix(doc_clean)\n",
    "    # generate LSA model\n",
    "    # lsamodel = LsiModel(doc_term_matrix, num_topics=number_of_topics, id2word = dictionary)  # train model\n",
    "    lsamodel = LdaModel(doc_term_matrix, num_topics=number_of_topics, id2word = dictionary)  # train model\n",
    "    print(lsamodel.print_topics(num_topics=number_of_topics, num_words=words))\n",
    "    return lsamodel"
   ]
  },
  {
   "cell_type": "code",
   "execution_count": 8,
   "metadata": {},
   "outputs": [],
   "source": [
    "def compute_coherence_values(dictionary, doc_term_matrix, doc_clean, stop, start=2, step=3):\n",
    "    \"\"\"\n",
    "    Input   : dictionary : Gensim dictionary\n",
    "              corpus : Gensim corpus\n",
    "              texts : List of input texts\n",
    "              stop : Max num of topics\n",
    "    purpose : Compute c_v coherence for various number of topics\n",
    "    Output  : model_list : List of LSA topic models\n",
    "              coherence_values : Coherence values corresponding to the LDA model with respective number of topics\n",
    "    \"\"\"\n",
    "    coherence_values = []\n",
    "    model_list = []\n",
    "    # for num_topics in range(start, stop, step):\n",
    "    for number_of_topics in range(start, stop, step):\n",
    "\n",
    "        # generate LSA model\n",
    "        # model = LsiModel(doc_term_matrix, num_topics=number_of_topics, id2word = dictionary)  # train model\n",
    "        model = LdaModel(doc_term_matrix, num_topics=number_of_topics, id2word = dictionary)  # train model\n",
    "        model_list.append(model)\n",
    "        coherencemodel = CoherenceModel(model=model, texts=doc_clean, dictionary=dictionary, coherence='c_v')\n",
    "        coherence_values.append(coherencemodel.get_coherence())\n",
    "    return model_list, coherence_values"
   ]
  },
  {
   "cell_type": "code",
   "execution_count": 9,
   "metadata": {},
   "outputs": [],
   "source": [
    "def plot_graph(doc_clean,start, stop, step):\n",
    "    dictionary,doc_term_matrix=create_term_dict_and_doc_term_matrix(doc_clean)\n",
    "    model_list, coherence_values = compute_coherence_values(dictionary, doc_term_matrix,doc_clean,\n",
    "                                                            stop, start, step)\n",
    "    # Show graph\n",
    "    x = range(start, stop, step)\n",
    "    plt.plot(x, coherence_values)\n",
    "    plt.xlabel(\"Number of Topics\")\n",
    "    plt.ylabel(\"Coherence score\")\n",
    "    plt.legend((\"coherence_values\"), loc='best')\n",
    "    plt.show()\n",
    "    \n",
    "    return coherence_values"
   ]
  },
  {
   "cell_type": "markdown",
   "metadata": {},
   "source": [
    "### Determining how many topics should be used"
   ]
  },
  {
   "cell_type": "code",
   "execution_count": 13,
   "metadata": {},
   "outputs": [
    {
     "data": {
      "image/png": "[encoded data removed]",
      "text/plain": [
       "<Figure size 432x288 with 1 Axes>"
      ]
     },
     "metadata": {
      "needs_background": "light"
     },
     "output_type": "display_data"
    }
   ],
   "source": [
    "start,stop,step=2,12,1\n",
    "coherence_values = plot_graph(ratings_positive.tokenized_words,start,stop,step)"
   ]
  },
  {
   "cell_type": "markdown",
   "metadata": {},
   "source": [
    "### Training a model with the ideal number of topics"
   ]
  },
  {
   "cell_type": "code",
   "execution_count": 14,
   "metadata": {},
   "outputs": [],
   "source": [
    "# Identifying ideal number of topics\n",
    "max_score_coherence= np.max(coherence_values)\n",
    "max_index = coherence_values.index(max_score_coherence)\n",
    "number_of_topics = max_index + start"
   ]
  },
  {
   "cell_type": "code",
   "execution_count": 15,
   "metadata": {},
   "outputs": [
    {
     "name": "stdout",
     "output_type": "stream",
     "text": [
      "[(0, '0.050*\"game\" + 0.024*\"play\" + 0.019*\"fun\" + 0.010*\"one\" + 0.010*\"use\" + 0.010*\"kid\" + 0.009*\"get\" + 0.008*\"famili\" + 0.008*\"make\" + 0.008*\"like\"'), (1, '0.056*\"love\" + 0.043*\"great\" + 0.024*\"toy\" + 0.021*\"old\" + 0.021*\"year\" + 0.020*\"good\" + 0.017*\"tea\" + 0.015*\"play\" + 0.014*\"son\" + 0.014*\"product\"'), (2, '0.015*\"use\" + 0.011*\"one\" + 0.011*\"set\" + 0.010*\"work\" + 0.009*\"well\" + 0.009*\"easi\" + 0.009*\"get\" + 0.008*\"littl\" + 0.008*\"old\" + 0.007*\"put\"'), (3, '0.020*\"color\" + 0.015*\"like\" + 0.013*\"card\" + 0.012*\"love\" + 0.011*\"littl\" + 0.008*\"nice\" + 0.008*\"would\" + 0.008*\"one\" + 0.008*\"size\" + 0.007*\"perfect\"')]\n"
     ]
    }
   ],
   "source": [
    "# Creating the model\n",
    "words=10\n",
    "clean_text=ratings_positive.tokenized_words\n",
    "model=create_gensim_lsa_model(clean_text,number_of_topics,words)"
   ]
  },
  {
   "cell_type": "code",
   "execution_count": 16,
   "metadata": {},
   "outputs": [
    {
     "name": "stdout",
     "output_type": "stream",
     "text": [
      "0: 0.050*\"game\" + 0.024*\"play\" + 0.019*\"fun\" + 0.010*\"one\" + 0.010*\"use\" + 0.010*\"kid\" + 0.009*\"get\" + 0.008*\"famili\" + 0.008*\"make\" + 0.008*\"like\" + 0.008*\"year\" + 0.007*\"great\" + 0.007*\"time\" + 0.007*\"learn\" + 0.006*\"tast\" + 0.006*\"enjoy\" + 0.005*\"love\" + 0.005*\"even\" + 0.005*\"also\" + 0.005*\"lot\"\n",
      "1: 0.056*\"love\" + 0.043*\"great\" + 0.024*\"toy\" + 0.021*\"old\" + 0.021*\"year\" + 0.020*\"good\" + 0.017*\"tea\" + 0.015*\"play\" + 0.014*\"son\" + 0.014*\"product\" + 0.013*\"daughter\" + 0.013*\"gift\" + 0.012*\"bought\" + 0.012*\"price\" + 0.011*\"one\" + 0.011*\"kid\" + 0.010*\"time\" + 0.010*\"purchas\" + 0.009*\"christma\" + 0.008*\"buy\"\n",
      "2: 0.015*\"use\" + 0.011*\"one\" + 0.011*\"set\" + 0.010*\"work\" + 0.009*\"well\" + 0.009*\"easi\" + 0.009*\"get\" + 0.008*\"littl\" + 0.008*\"old\" + 0.007*\"put\" + 0.006*\"like\" + 0.006*\"piec\" + 0.006*\"would\" + 0.006*\"around\" + 0.006*\"time\" + 0.005*\"push\" + 0.005*\"need\" + 0.005*\"go\" + 0.005*\"good\" + 0.005*\"togeth\"\n",
      "3: 0.020*\"color\" + 0.015*\"like\" + 0.013*\"card\" + 0.012*\"love\" + 0.011*\"littl\" + 0.008*\"nice\" + 0.008*\"would\" + 0.008*\"one\" + 0.008*\"size\" + 0.007*\"perfect\" + 0.007*\"look\" + 0.007*\"small\" + 0.007*\"bag\" + 0.006*\"fit\" + 0.006*\"coffe\" + 0.006*\"get\" + 0.006*\"realli\" + 0.005*\"make\" + 0.005*\"toddler\" + 0.004*\"use\"\n",
      "\n"
     ]
    }
   ],
   "source": [
    "for i,topic in model.show_topics(formatted=True, num_topics=number_of_topics, num_words=20): print(str(i)+\": \"+ topic)\n",
    "print()"
   ]
  },
  {
   "cell_type": "markdown",
   "metadata": {},
   "source": [
    "### Assigning topic to each text review"
   ]
  },
  {
   "cell_type": "code",
   "execution_count": 17,
   "metadata": {},
   "outputs": [],
   "source": [
    "dictionary,doc_term_matrix = create_term_dict_and_doc_term_matrix(ratings_positive.tokenized_words)"
   ]
  },
  {
   "cell_type": "code",
   "execution_count": 18,
   "metadata": {},
   "outputs": [],
   "source": [
    "def score_review_for_topic(model_object, doc_term_matrix_entry):\n",
    "    '''Takes doc term matrix entry, returns the score for each topic'''\n",
    "    \n",
    "    score_list = model_object[doc_term_matrix_entry]\n",
    "    \n",
    "    return score_list"
   ]
  },
  {
   "cell_type": "code",
   "execution_count": 19,
   "metadata": {},
   "outputs": [],
   "source": [
    "def identify_topic(topic_scoring_list):\n",
    "    '''returns topic and score, for a specific list of (topic_number, score) entry corresponding to one text review'''\n",
    "    \n",
    "    # Finding topic with the highest score\n",
    "    list_scores = []\n",
    "    for topic_score in topic_scoring_list:\n",
    "        score_string = str(topic_score).split(', ')[1]\n",
    "        list_scores.append(float(score_string[:(len(score_string)-1)]))\n",
    "    max_score = np.max(list_scores)\n",
    "    \n",
    "    # Finding the index of the topic with the highest score\n",
    "    max_index = list_scores.index(max_score)\n",
    "    \n",
    "    return max_index"
   ]
  },
  {
   "cell_type": "code",
   "execution_count": 20,
   "metadata": {},
   "outputs": [],
   "source": [
    "score_for_each_topic = [score_review_for_topic(model, i) for i in doc_term_matrix[:]]"
   ]
  },
  {
   "cell_type": "code",
   "execution_count": 21,
   "metadata": {},
   "outputs": [],
   "source": [
    "main_topic = list(map(identify_topic, score_for_each_topic))"
   ]
  },
  {
   "cell_type": "code",
   "execution_count": 22,
   "metadata": {},
   "outputs": [
    {
     "data": {
      "text/html": [
       "<div>\n",
       "<style scoped>\n",
       "    .dataframe tbody tr th:only-of-type {\n",
       "        vertical-align: middle;\n",
       "    }\n",
       "\n",
       "    .dataframe tbody tr th {\n",
       "        vertical-align: top;\n",
       "    }\n",
       "\n",
       "    .dataframe thead th {\n",
       "        text-align: right;\n",
       "    }\n",
       "</style>\n",
       "<table border=\"1\" class=\"dataframe\">\n",
       "  <thead>\n",
       "    <tr style=\"text-align: right;\">\n",
       "      <th></th>\n",
       "      <th>category</th>\n",
       "      <th>overall</th>\n",
       "      <th>reviewText</th>\n",
       "      <th>clean_text</th>\n",
       "      <th>tokenized_words</th>\n",
       "      <th>topic_scores</th>\n",
       "      <th>main_topic</th>\n",
       "    </tr>\n",
       "  </thead>\n",
       "  <tbody>\n",
       "    <tr>\n",
       "      <th>1</th>\n",
       "      <td>musical instrument</td>\n",
       "      <td>5</td>\n",
       "      <td>Legendary sound and reliability. Always priced the same wherever they are sold.</td>\n",
       "      <td>legendary sound and reliability  always priced the same wherever they are sold</td>\n",
       "      <td>[legendari, sound, reliabl, alway, price, wherev, sold]</td>\n",
       "      <td>[(0, 0.034340188), (1, 0.59405357), (2, 0.15533085), (3, 0.21627541)]</td>\n",
       "      <td>1</td>\n",
       "    </tr>\n",
       "    <tr>\n",
       "      <th>3</th>\n",
       "      <td>musical instrument</td>\n",
       "      <td>5</td>\n",
       "      <td>It's a great string winder, and it is so nice being able to wind and cut the string with the same tool. It's a brilliant idea haha. It's very good quality, like all planet waves products.</td>\n",
       "      <td>it s a great string winder  and it is so nice being able to wind and cut the string with the same tool  it s a brilliant idea haha  it s very good quality  like all planet waves products</td>\n",
       "      <td>[great, string, winder, nice, abl, wind, cut, string, tool, brilliant, idea, haha, good, qualiti, like, planet, wave, product]</td>\n",
       "      <td>[(0, 0.28725424), (1, 0.44099405), (2, 0.25725982), (3, 0.014491884)]</td>\n",
       "      <td>1</td>\n",
       "    </tr>\n",
       "    <tr>\n",
       "      <th>9</th>\n",
       "      <td>musical instrument</td>\n",
       "      <td>5</td>\n",
       "      <td>Great product shipping was puntual</td>\n",
       "      <td>great product shipping was puntual</td>\n",
       "      <td>[great, product, ship, puntual]</td>\n",
       "      <td>[(0, 0.060373425), (1, 0.818597), (2, 0.060509603), (3, 0.060519993)]</td>\n",
       "      <td>1</td>\n",
       "    </tr>\n",
       "    <tr>\n",
       "      <th>13</th>\n",
       "      <td>musical instrument</td>\n",
       "      <td>5</td>\n",
       "      <td>I use EJ16s on all my acoustics. I love the sound of a new set of strings. Buy them in the 10 back and they are very affordable. They have a decent life span for a non coated string and are the bench mark I use to compare other strings, but I always come back to these. Nice bright clear sound.  I got the 3 pack as a gift.</td>\n",
       "      <td>i use ejs on all my acoustics  i love the sound of a new set of strings  buy them in the  back and they are very affordable  they have a decent life span for a non coated string and are the bench mark i use to compare other strings  but i always come back to these  nice bright clear sound  i got the  pack as a gift</td>\n",
       "      <td>[use, ej, acoust, love, sound, new, set, string, buy, back, afford, decent, life, span, non, coat, string, bench, mark, use, compar, string, alway, come, back, nice, bright, clear, sound, got, pack, gift]</td>\n",
       "      <td>[(0, 0.12565266), (1, 0.4021218), (2, 0.2667203), (3, 0.20550519)]</td>\n",
       "      <td>1</td>\n",
       "    </tr>\n",
       "    <tr>\n",
       "      <th>19</th>\n",
       "      <td>musical instrument</td>\n",
       "      <td>5</td>\n",
       "      <td>Basic guitar strap, it works. Just remember to take the picks out of the pocket before you put the guitar down, they will fall out.</td>\n",
       "      <td>basic guitar strap  it works  just remember to take the picks out of the pocket before you put the guitar down  they will fall out</td>\n",
       "      <td>[basic, guitar, strap, work, rememb, take, pick, pocket, put, guitar, fall]</td>\n",
       "      <td>[(0, 0.022490714), (1, 0.022407146), (2, 0.32849774), (3, 0.6266044)]</td>\n",
       "      <td>3</td>\n",
       "    </tr>\n",
       "  </tbody>\n",
       "</table>\n",
       "</div>"
      ],
      "text/plain": [
       "              category  overall  \\\n",
       "1   musical instrument        5   \n",
       "3   musical instrument        5   \n",
       "9   musical instrument        5   \n",
       "13  musical instrument        5   \n",
       "19  musical instrument        5   \n",
       "\n",
       "                                                                                                                                                                                                                                                                                                                             reviewText  \\\n",
       "1                                                                                                                                                                                                                                                       Legendary sound and reliability. Always priced the same wherever they are sold.   \n",
       "3                                                                                                                                           It's a great string winder, and it is so nice being able to wind and cut the string with the same tool. It's a brilliant idea haha. It's very good quality, like all planet waves products.   \n",
       "9                                                                                                                                                                                                                                                                                                    Great product shipping was puntual   \n",
       "13  I use EJ16s on all my acoustics. I love the sound of a new set of strings. Buy them in the 10 back and they are very affordable. They have a decent life span for a non coated string and are the bench mark I use to compare other strings, but I always come back to these. Nice bright clear sound.  I got the 3 pack as a gift.   \n",
       "19                                                                                                                                                                                                  Basic guitar strap, it works. Just remember to take the picks out of the pocket before you put the guitar down, they will fall out.   \n",
       "\n",
       "                                                                                                                                                                                                                                                                                                                       clean_text  \\\n",
       "1                                                                                                                                                                                                                                                 legendary sound and reliability  always priced the same wherever they are sold    \n",
       "3                                                                                                                                     it s a great string winder  and it is so nice being able to wind and cut the string with the same tool  it s a brilliant idea haha  it s very good quality  like all planet waves products    \n",
       "9                                                                                                                                                                                                                                                                                              great product shipping was puntual   \n",
       "13  i use ejs on all my acoustics  i love the sound of a new set of strings  buy them in the  back and they are very affordable  they have a decent life span for a non coated string and are the bench mark i use to compare other strings  but i always come back to these  nice bright clear sound  i got the  pack as a gift    \n",
       "19                                                                                                                                                                                            basic guitar strap  it works  just remember to take the picks out of the pocket before you put the guitar down  they will fall out    \n",
       "\n",
       "                                                                                                                                                                                                 tokenized_words  \\\n",
       "1                                                                                                                                                        [legendari, sound, reliabl, alway, price, wherev, sold]   \n",
       "3                                                                                 [great, string, winder, nice, abl, wind, cut, string, tool, brilliant, idea, haha, good, qualiti, like, planet, wave, product]   \n",
       "9                                                                                                                                                                                [great, product, ship, puntual]   \n",
       "13  [use, ej, acoust, love, sound, new, set, string, buy, back, afford, decent, life, span, non, coat, string, bench, mark, use, compar, string, alway, come, back, nice, bright, clear, sound, got, pack, gift]   \n",
       "19                                                                                                                                   [basic, guitar, strap, work, rememb, take, pick, pocket, put, guitar, fall]   \n",
       "\n",
       "                                                             topic_scores  \\\n",
       "1   [(0, 0.034340188), (1, 0.59405357), (2, 0.15533085), (3, 0.21627541)]   \n",
       "3   [(0, 0.28725424), (1, 0.44099405), (2, 0.25725982), (3, 0.014491884)]   \n",
       "9   [(0, 0.060373425), (1, 0.818597), (2, 0.060509603), (3, 0.060519993)]   \n",
       "13     [(0, 0.12565266), (1, 0.4021218), (2, 0.2667203), (3, 0.20550519)]   \n",
       "19  [(0, 0.022490714), (1, 0.022407146), (2, 0.32849774), (3, 0.6266044)]   \n",
       "\n",
       "    main_topic  \n",
       "1            1  \n",
       "3            1  \n",
       "9            1  \n",
       "13           1  \n",
       "19           3  "
      ]
     },
     "execution_count": 22,
     "metadata": {},
     "output_type": "execute_result"
    }
   ],
   "source": [
    "ratings_positive['topic_scores'] = score_for_each_topic\n",
    "ratings_positive['main_topic'] = main_topic\n",
    "ratings_positive.head()"
   ]
  },
  {
   "cell_type": "markdown",
   "metadata": {},
   "source": [
    "### Creating summary and visualizing"
   ]
  },
  {
   "cell_type": "markdown",
   "metadata": {},
   "source": [
    "##### Frequency of each topic"
   ]
  },
  {
   "cell_type": "code",
   "execution_count": 23,
   "metadata": {},
   "outputs": [],
   "source": [
    "topic_summary = pd.pivot_table(ratings_positive, values=['clean_text'] ,index=['category'],\n",
    "                    columns=['main_topic'], aggfunc='count')"
   ]
  },
  {
   "cell_type": "markdown",
   "metadata": {},
   "source": [
    "##### Relative frequency of each topic per category"
   ]
  },
  {
   "cell_type": "code",
   "execution_count": 24,
   "metadata": {},
   "outputs": [
    {
     "data": {
      "text/html": [
       "<div>\n",
       "<style scoped>\n",
       "    .dataframe tbody tr th:only-of-type {\n",
       "        vertical-align: middle;\n",
       "    }\n",
       "\n",
       "    .dataframe tbody tr th {\n",
       "        vertical-align: top;\n",
       "    }\n",
       "\n",
       "    .dataframe thead th {\n",
       "        text-align: right;\n",
       "    }\n",
       "</style>\n",
       "<table border=\"1\" class=\"dataframe\">\n",
       "  <thead>\n",
       "    <tr style=\"text-align: right;\">\n",
       "      <th>main_topic</th>\n",
       "      <th>0</th>\n",
       "      <th>1</th>\n",
       "      <th>2</th>\n",
       "      <th>3</th>\n",
       "    </tr>\n",
       "    <tr>\n",
       "      <th>category</th>\n",
       "      <th></th>\n",
       "      <th></th>\n",
       "      <th></th>\n",
       "      <th></th>\n",
       "    </tr>\n",
       "  </thead>\n",
       "  <tbody>\n",
       "    <tr>\n",
       "      <th>appliances</th>\n",
       "      <td>0.150235</td>\n",
       "      <td>0.388743</td>\n",
       "      <td>0.362798</td>\n",
       "      <td>0.098224</td>\n",
       "    </tr>\n",
       "    <tr>\n",
       "      <th>fashion</th>\n",
       "      <td>0.041485</td>\n",
       "      <td>0.380378</td>\n",
       "      <td>0.232104</td>\n",
       "      <td>0.346033</td>\n",
       "    </tr>\n",
       "    <tr>\n",
       "      <th>grocery and food</th>\n",
       "      <td>0.434159</td>\n",
       "      <td>0.384972</td>\n",
       "      <td>0.044429</td>\n",
       "      <td>0.136439</td>\n",
       "    </tr>\n",
       "    <tr>\n",
       "      <th>magazine subscriptions</th>\n",
       "      <td>0.707526</td>\n",
       "      <td>0.243062</td>\n",
       "      <td>0.021045</td>\n",
       "      <td>0.028367</td>\n",
       "    </tr>\n",
       "    <tr>\n",
       "      <th>musical instrument</th>\n",
       "      <td>0.122612</td>\n",
       "      <td>0.461429</td>\n",
       "      <td>0.302526</td>\n",
       "      <td>0.113432</td>\n",
       "    </tr>\n",
       "    <tr>\n",
       "      <th>toy and games</th>\n",
       "      <td>0.372379</td>\n",
       "      <td>0.397001</td>\n",
       "      <td>0.150110</td>\n",
       "      <td>0.080510</td>\n",
       "    </tr>\n",
       "  </tbody>\n",
       "</table>\n",
       "</div>"
      ],
      "text/plain": [
       "main_topic                     0         1         2         3\n",
       "category                                                      \n",
       "appliances              0.150235  0.388743  0.362798  0.098224\n",
       "fashion                 0.041485  0.380378  0.232104  0.346033\n",
       "grocery and food        0.434159  0.384972  0.044429  0.136439\n",
       "magazine subscriptions  0.707526  0.243062  0.021045  0.028367\n",
       "musical instrument      0.122612  0.461429  0.302526  0.113432\n",
       "toy and games           0.372379  0.397001  0.150110  0.080510"
      ]
     },
     "execution_count": 24,
     "metadata": {},
     "output_type": "execute_result"
    }
   ],
   "source": [
    "topic_summary_pct = topic_summary.div(topic_summary.sum(axis=1), axis=0)\n",
    "topic_summary_pct = topic_summary_pct.droplevel(level=0, axis=1)\n",
    "topic_summary_pct"
   ]
  },
  {
   "cell_type": "code",
   "execution_count": 25,
   "metadata": {},
   "outputs": [],
   "source": [
    "def plot_sns_heatmap(df):\n",
    "\n",
    "    sns.set()\n",
    "\n",
    "    fig, ax1 = matplotlib.pyplot.subplots(figsize=(20,10))\n",
    "    ax2 = sns.heatmap(df,\n",
    "                     #annot=True,\n",
    "                     cmap=\"YlGnBu\", cbar=True)\n",
    "    ax2.set_xticklabels(ax2.get_xmajorticklabels(),\n",
    "                        #fontsize = 12,\n",
    "                        rotation=360)\n",
    "    ax2.set(title='Frequency of document topics across categories')\n",
    "    ax2.set(xlabel='Topic number')\n",
    "    ax2.set(ylabel='Product category')\n",
    "\n",
    "    sns.set(font_scale=1.3)\n",
    "    # return ax2\n",
    "    fig.data = df\n",
    "\n",
    "    plt.show()"
   ]
  },
  {
   "cell_type": "markdown",
   "metadata": {},
   "source": [
    "##### Visualization"
   ]
  },
  {
   "cell_type": "code",
   "execution_count": 26,
   "metadata": {},
   "outputs": [
    {
     "data": {
      "image/png": "[encoded data removed]",
      "text/plain": [
       "<Figure size 1440x720 with 2 Axes>"
      ]
     },
     "metadata": {},
     "output_type": "display_data"
    }
   ],
   "source": [
    "plot_sns_heatmap(topic_summary_pct)"
   ]
  }
 ],
 "metadata": {
  "kernelspec": {
   "display_name": "Python 3",
   "language": "python",
   "name": "python3"
  },
  "language_info": {
   "codemirror_mode": {
    "name": "ipython",
    "version": 3
   },
   "file_extension": ".py",
   "mimetype": "text/x-python",
   "name": "python",
   "nbconvert_exporter": "python",
   "pygments_lexer": "ipython3",
   "version": "3.7.9"
  }
 },
 "nbformat": 4,
 "nbformat_minor": 4
}
