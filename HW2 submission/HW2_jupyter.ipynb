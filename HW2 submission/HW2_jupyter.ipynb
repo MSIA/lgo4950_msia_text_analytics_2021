{
 "cells": [
  {
   "cell_type": "markdown",
   "metadata": {},
   "source": [
    "# Description of notebook\n",
    "\n",
    "### A: Preprocessing demonstration\n",
    "* Corpus 1: Jane Austen's pride and prejudice\n",
    "* Corpus 2: 20 Newsgroups corpus\n",
    "\n",
    "### B: Preprocessing detailed (step by step)\n",
    "\n",
    "### C: Word2Vec model"
   ]
  },
  {
   "cell_type": "markdown",
   "metadata": {},
   "source": [
    " "
   ]
  },
  {
   "cell_type": "markdown",
   "metadata": {},
   "source": [
    " "
   ]
  },
  {
   "cell_type": "markdown",
   "metadata": {},
   "source": [
    " "
   ]
  },
  {
   "cell_type": "markdown",
   "metadata": {},
   "source": [
    "# A: Preprocessing"
   ]
  },
  {
   "cell_type": "code",
   "execution_count": 1,
   "metadata": {},
   "outputs": [],
   "source": [
    "import os\n",
    "import pandas as pd\n",
    "import re \n",
    "import string \n",
    "\n",
    "import nltk\n",
    "from nltk.tokenize import sent_tokenize\n",
    "from nltk.tokenize import word_tokenize\n",
    "import gensim\n",
    "# from gensim.test.utils import common_texts, get_tmpfile\n",
    "from gensim.models import Word2Vec"
   ]
  },
  {
   "cell_type": "markdown",
   "metadata": {},
   "source": [
    "### Corpus 1"
   ]
  },
  {
   "cell_type": "markdown",
   "metadata": {},
   "source": [
    "Obtaining text"
   ]
  },
  {
   "cell_type": "code",
   "execution_count": 2,
   "metadata": {},
   "outputs": [],
   "source": [
    "with open('../HW1/Pride and Prejudice - Jane Austen Chapter 1 to 20.txt') as f:\n",
    "    corpus_1 = f.read()"
   ]
  },
  {
   "cell_type": "code",
   "execution_count": 3,
   "metadata": {},
   "outputs": [
    {
     "name": "stdout",
     "output_type": "stream",
     "text": [
      "Chapter 1\n",
      "\n",
      "      It is a truth universally acknowledged, that a single man in\n",
      "      possession of a good fortune, must be in want of a wife.\n",
      "\n",
      "      However little known the feelings or views of such a man may be\n",
      "      on his first entering a neighbourhood, this truth is so well\n",
      "      fixed in the minds of the surrounding families, that he is\n",
      "      considered as the rightful property of some one or other of their\n",
      "      daughters.\n",
      "\n",
      "      “My dear Mr. Bennet,” said his lady to him one day, “have yo\n"
     ]
    }
   ],
   "source": [
    "print(corpus_1[0:500])"
   ]
  },
  {
   "cell_type": "markdown",
   "metadata": {},
   "source": [
    "Cleaning"
   ]
  },
  {
   "cell_type": "code",
   "execution_count": 4,
   "metadata": {},
   "outputs": [],
   "source": [
    "def preprocessing_corpus_1(corpus):\n",
    "    \n",
    "    '''Takes string from novel, normalizes and tokenizes into sentences'''\n",
    "    \n",
    "    #Removal of white space\n",
    "    step_1 = re.sub('\\s+', ' ', corpus)\n",
    "    # Removal of chapter tags\n",
    "    step_2 = re.sub(r'Chapter \\d* ', '', step_1)\n",
    "    # Removal of digits\n",
    "    step_3 = re.sub(r'\\d+', '', step_2)\n",
    "    # Remove other signs\n",
    "    step_4 = re.sub(r'[\"_“”\\'\\`\\-\\*\\(\\)]','',step_3)\n",
    "    #Tokenize to sentences while punctuation is still in place\n",
    "    tokens_jane_austen = sent_tokenize(step_4)\n",
    "    # Convert each token to lowercase\n",
    "    lower_token = list(map(lambda token: token.lower(), tokens_jane_austen))\n",
    "    # Remove punctuation from lowercase token\n",
    "    punct_less_token = list(map(lambda token: \n",
    "                            token.translate(str.maketrans('', '', string.punctuation)), lower_token))\n",
    "    \n",
    "    return punct_less_token"
   ]
  },
  {
   "cell_type": "code",
   "execution_count": 5,
   "metadata": {},
   "outputs": [
    {
     "data": {
      "text/plain": [
       "['it is a truth universally acknowledged that a single man in possession of a good fortune must be in want of a wife',\n",
       " 'however little known the feelings or views of such a man may be on his first entering a neighbourhood this truth is so well fixed in the minds of the surrounding families that he is considered as the rightful property of some one or other of their daughters',\n",
       " 'my dear mr bennet said his lady to him one day have you heard that netherfield park is let at last',\n",
       " 'mr bennet replied that he had not',\n",
       " 'but it is returned she for mrs long has just been here and she told me all about it',\n",
       " 'mr bennet made no answer',\n",
       " 'do not you want to know who has taken it',\n",
       " 'cried his wife impatiently',\n",
       " 'you want to tell me and i have no objection to hearing it',\n",
       " 'this was invitation enough']"
      ]
     },
     "execution_count": 5,
     "metadata": {},
     "output_type": "execute_result"
    }
   ],
   "source": [
    "processed_1 = preprocessing_corpus_1(corpus_1)\n",
    "processed_1[0:10]"
   ]
  },
  {
   "cell_type": "markdown",
   "metadata": {},
   "source": [
    "Writing to text file - including spacing between each"
   ]
  },
  {
   "cell_type": "code",
   "execution_count": 6,
   "metadata": {},
   "outputs": [],
   "source": [
    "textfile = open(\"corpus_1_text_file.txt\", \"w\")\n",
    "for element in processed_1:\n",
    "    textfile.write(element + \"\\n\" + \"\\n\")\n",
    "textfile.close()"
   ]
  },
  {
   "cell_type": "markdown",
   "metadata": {},
   "source": [
    "### Corpus 2:"
   ]
  },
  {
   "cell_type": "markdown",
   "metadata": {},
   "source": [
    "Obtaining text"
   ]
  },
  {
   "cell_type": "code",
   "execution_count": 7,
   "metadata": {},
   "outputs": [],
   "source": [
    "files_list = []\n",
    "path = os.getcwd() + '/20news-bydate-train/'\n",
    "for root, dirs, files in os.walk(path, topdown = False):\n",
    "    for name in files:\n",
    "        files_list.append(os.path.join(root, name))\n",
    "\n",
    "corpus_2_list = []\n",
    "for i in files_list:\n",
    "    with open(i, 'r', encoding=\"utf8\", errors=\"ignore\") as f:\n",
    "        file = f.read()\n",
    "        corpus_2_list.append(file)"
   ]
  },
  {
   "cell_type": "code",
   "execution_count": 60,
   "metadata": {},
   "outputs": [
    {
     "data": {
      "text/plain": [
       "'From: zowie@daedalus.stanford.edu (Craig \"Powderkeg\" DeForest)\\nSubject: Re: 5W30, 10W40, or 20W50\\nArticle-I.D.: daedalus.ZOWIE.93Apr5215616\\nOrganization: Stanford Center for Space Science and Astrophysics\\nLines: 37\\nNNTP-Posting-Host: daedalus.stanford.edu\\nIn-reply-to: Brad Thone\\'s message of Fri, 02 Apr 93 21:41:53 CST\\n\\nIn article <foo> Brad Thone <C09615BT@WUVMD> writes:\\nWell, there *is* a difference.\\n\\nI don\\'t happen to have my SAE manual handy, but oil viscosity in general\\n_decreases_ with temperature.  The SAE numbers are based on a `typical\\'\\ncurve that oils used to all have, running from (say) the viscosity of a\\nroom-temperature 90-weight at 0C, down to (say) that of a room-temperature \\n5-weight at 20C, for a typical 40-weight oil.\\n\\nOils that are designed for operation in `normal\\' temperatures just have\\na weight specification.  Oils that are designed for operation in exceedingly\\ncold temperatures have a `W\\' tacked on the end, so in winter in a cold\\nplace, you\\'d stick 10W in your car in the winter and 40 in it in the summer,\\nto approximate the appropriate viscosity throughout the year.\\n\\nModern multi-viscosity oils change viscosity much less with temperature.\\nAs a result, their viscosity graphs cross over several curves.  A multi-vis\\nspecification pegs the curve at two temperatures, a `normal\\' operating\\ntemperature and a `cold\\' one (though I can\\'t remember the numbers...).\\n\\nIn any event, the weights do indicate a significant difference.  Remember\\nthat your engine is temperature-regulated (by the thermostat and\\nradiator or air fins) most of the time -- unless you overheat it or\\nsomething.\\n\\nAny weight of oil is better than no oil, or than very old, carbonized\\noil.  Thin oil won\\'t (in general) lubricate as well at temperature,\\nthicker oil will (like a 20W50) will lubricate better at temperature, \\nbut not as well during startup, when most engine wear occurs.  \\n\\nIf you\\'re planning on making long drives, the 20W50 is probably fine\\n(esp. in the summer) in your 10W40 car.  But if you\\'re making short drives,\\nstick to the 10W40.\\n\\n\\n--\\nDON\\'T DRINK SOAP! DILUTE DILUTE! OK!\\n'"
      ]
     },
     "execution_count": 60,
     "metadata": {},
     "output_type": "execute_result"
    }
   ],
   "source": [
    "corpus_2_list[1000]"
   ]
  },
  {
   "cell_type": "markdown",
   "metadata": {},
   "source": [
    "Cleaning"
   ]
  },
  {
   "cell_type": "code",
   "execution_count": 61,
   "metadata": {},
   "outputs": [],
   "source": [
    "def preprocessing_corpus_2(corpus):\n",
    "    \n",
    "    '''Takes string from news corpus, normalizes and tokenizes into sentences'''\n",
    "    \n",
    "    #Removal of white space\n",
    "    step_1 = re.sub('\\s+', ' ', corpus)\n",
    "    # RFrom/To and subject line of email\n",
    "    step_2 = re.sub(r'\\bFrom: .*? writes: ', '', step_1)\n",
    "    # Removal of digits\n",
    "    step_3 = re.sub(r'\\d+', '', step_2)\n",
    "    # Remove other signs\n",
    "    step_4 = re.sub(r'[\"_“”\\'\\`\\-\\*\\(\\)]','',step_3)\n",
    "    #Tokenize to sentences while punctuation is still in place\n",
    "    tokens_news = sent_tokenize(step_4)\n",
    "    # Convert each token to lowercase\n",
    "    lower_token = list(map(lambda token: token.lower(), tokens_news))\n",
    "    # Remove punctuation from lowercase token\n",
    "    punct_less_token = list(map(lambda token: \n",
    "                            token.translate(str.maketrans('', '', string.punctuation)), lower_token))\n",
    "    \n",
    "    return punct_less_token "
   ]
  },
  {
   "cell_type": "code",
   "execution_count": 62,
   "metadata": {},
   "outputs": [
    {
     "data": {
      "text/plain": [
       "['well there is a difference',\n",
       " 'i dont happen to have my sae manual handy but oil viscosity in general decreases with temperature',\n",
       " 'the sae numbers are based on a typical curve that oils used to all have running from say the viscosity of a roomtemperature weight at c down to say that of a roomtemperature weight at c for a typical weight oil',\n",
       " 'oils that are designed for operation in normal temperatures just have a weight specification',\n",
       " 'oils that are designed for operation in exceedingly cold temperatures have a w tacked on the end so in winter in a cold place youd stick w in your car in the winter and  in it in the summer to approximate the appropriate viscosity throughout the year',\n",
       " 'modern multiviscosity oils change viscosity much less with temperature',\n",
       " 'as a result their viscosity graphs cross over several curves',\n",
       " 'a multivis specification pegs the curve at two temperatures a normal operating temperature and a cold one though i cant remember the numbers',\n",
       " 'in any event the weights do indicate a significant difference',\n",
       " 'remember that your engine is temperatureregulated by the thermostat and radiator or air fins most of the time  unless you overheat it or something',\n",
       " 'any weight of oil is better than no oil or than very old carbonized oil',\n",
       " 'thin oil wont in general lubricate as well at temperature thicker oil will like a w will lubricate better at temperature but not as well during startup when most engine wear occurs',\n",
       " 'if youre planning on making long drives the w is probably fine esp',\n",
       " 'in the summer in your w car',\n",
       " 'but if youre making short drives stick to the w  dont drink soap',\n",
       " 'dilute dilute',\n",
       " 'ok']"
      ]
     },
     "execution_count": 62,
     "metadata": {},
     "output_type": "execute_result"
    }
   ],
   "source": [
    "preprocessing_corpus_2(corpus_2_list[1000])"
   ]
  },
  {
   "cell_type": "markdown",
   "metadata": {},
   "source": [
    "Writing to text file - including spacing between each"
   ]
  },
  {
   "cell_type": "code",
   "execution_count": 63,
   "metadata": {},
   "outputs": [],
   "source": [
    "textfile = open(\"corpus_2_text_file.txt\", \"w\")\n",
    "for news_story in corpus_2_list:\n",
    "    tokenized_story = preprocessing_corpus_2(news_story)\n",
    "    for sentence in tokenized_story:\n",
    "        textfile.write(sentence + \"\\n\" + \"\\n\")\n",
    "textfile.close()"
   ]
  },
  {
   "cell_type": "markdown",
   "metadata": {},
   "source": [
    " "
   ]
  },
  {
   "cell_type": "markdown",
   "metadata": {},
   "source": [
    "# B: Preprocessing detailed"
   ]
  },
  {
   "cell_type": "markdown",
   "metadata": {},
   "source": [
    "### Corpus 1"
   ]
  },
  {
   "cell_type": "markdown",
   "metadata": {},
   "source": [
    "__Book before cleaning__"
   ]
  },
  {
   "cell_type": "code",
   "execution_count": 64,
   "metadata": {},
   "outputs": [
    {
     "data": {
      "text/plain": [
       "'Chapter 1\\n\\n      It is a truth universally acknowledged, that a single man in\\n      possession of a good fortune, must be in want of a wife.\\n\\n      However little known the feelings or views of such a man may be\\n      on his first entering a neighbourhood, this truth is so well\\n      fixed in the minds of the surrounding families, that he is\\n      considered as the rightful property of some one or other of their\\n      daughters.\\n\\n      “My dear Mr. Bennet,” said his lady to him one day, “have you\\n      heard that Netherfield Park is let at last?”\\n\\n      Mr. Bennet replied that he had not.\\n\\n      “But it is,” returned she; “for Mrs. Long has just been here, and\\n      she told me all about it.”\\n\\n      Mr. Bennet made no answer.\\n\\n      “Do not you want to know who has taken it?” cried his wife\\n      impatiently.\\n\\n      “_You_ want to tell me, and I have no objection to hearing it.”\\n\\n      This was invitation enough.\\n\\n      “Why, my dear, you must know, Mrs. Long says that Netherfield is\\n '"
      ]
     },
     "execution_count": 64,
     "metadata": {},
     "output_type": "execute_result"
    }
   ],
   "source": [
    "corpus_1[0:1000]"
   ]
  },
  {
   "cell_type": "markdown",
   "metadata": {},
   "source": [
    "__Removal of white space__"
   ]
  },
  {
   "cell_type": "code",
   "execution_count": 65,
   "metadata": {},
   "outputs": [
    {
     "data": {
      "text/plain": [
       "'Chapter 1 It is a truth universally acknowledged, that a single man in possession of a good fortune, must be in want of a wife. However little known the feelings or views of such a man may be on his first entering a neighbourhood, this truth is so well fixed in the minds of the surrounding families, that he is considered as the rightful property of some one or other of their daughters. “My dear Mr. Bennet,” said his lady to him one day, “have you heard that Netherfield Park is let at last?” Mr. Bennet replied that he had not. “But it is,” returned she; “for Mrs. Long has just been here, and she told me all about it.” Mr. Bennet made no answer. “Do not you want to know who has taken it?” cried his wife impatiently. “_You_ want to tell me, and I have no objection to hearing it.” This was invitation enough. “Why, my dear, you must know, Mrs. Long says that Netherfield is taken by a young man of large fortune from the north of England; that he came down on Monday in a chaise and four to se'"
      ]
     },
     "execution_count": 65,
     "metadata": {},
     "output_type": "execute_result"
    }
   ],
   "source": [
    "# Remove white space and new lines\n",
    "step_1 = re.sub('\\s+', ' ', corpus_1)\n",
    "step_1[0:1000]"
   ]
  },
  {
   "cell_type": "markdown",
   "metadata": {},
   "source": [
    "__Removal of chapter tags__"
   ]
  },
  {
   "cell_type": "markdown",
   "metadata": {},
   "source": [
    "The word chapter appears 20 times"
   ]
  },
  {
   "cell_type": "code",
   "execution_count": 66,
   "metadata": {},
   "outputs": [
    {
     "data": {
      "text/plain": [
       "20"
      ]
     },
     "execution_count": 66,
     "metadata": {},
     "output_type": "execute_result"
    }
   ],
   "source": [
    "len(re.findall(r'Chapter ', step_1))"
   ]
  },
  {
   "cell_type": "markdown",
   "metadata": {},
   "source": [
    "All of these 20 times are for new chapters (therefore the word does not appear in the text itself)"
   ]
  },
  {
   "cell_type": "code",
   "execution_count": 67,
   "metadata": {},
   "outputs": [
    {
     "data": {
      "text/plain": [
       "['Chapter 19 ', 'Chapter 20 ']"
      ]
     },
     "execution_count": 67,
     "metadata": {},
     "output_type": "execute_result"
    }
   ],
   "source": [
    "re.findall(r'Chapter \\d* ', step_1)[18:20]"
   ]
  },
  {
   "cell_type": "code",
   "execution_count": 68,
   "metadata": {},
   "outputs": [
    {
     "data": {
      "text/plain": [
       "'It is a truth universally acknowledged, that a single man in possession of a good fortune, must be in want of a wife. However little known the feelings or views of such a man may be on his first entering a neighbourhood, this truth is so well fixed in the minds of the surrounding families, that he is considered as the rightful property of some one or other of their daughters. “My dear Mr. Bennet,” said his lady to him one day, “have you heard that Netherfield Park is let at last?” Mr. Bennet replied that he had not. “But it is,” returned she; “for Mrs. Long has just been here, and she told me all about it.” Mr. Bennet made no answer. “Do not you want to know who has taken it?” cried his wife impatiently. “_You_ want to tell me, and I have no objection to hearing it.” This was invitation enough. “Why, my dear, you must know, Mrs. Long says that Netherfield is taken by a young man of large fortune from the north of England; that he came down on Monday in a chaise and four to see the plac'"
      ]
     },
     "execution_count": 68,
     "metadata": {},
     "output_type": "execute_result"
    }
   ],
   "source": [
    "# Remove chapter tags\n",
    "step_2 = re.sub(r'Chapter \\d* ', '', step_1)\n",
    "step_2[0:1000]"
   ]
  },
  {
   "cell_type": "markdown",
   "metadata": {},
   "source": [
    "__Removal of digits__"
   ]
  },
  {
   "cell_type": "markdown",
   "metadata": {},
   "source": [
    "Digits appear twice in the text"
   ]
  },
  {
   "cell_type": "code",
   "execution_count": 69,
   "metadata": {},
   "outputs": [
    {
     "data": {
      "text/plain": [
       "['15', '18']"
      ]
     },
     "execution_count": 69,
     "metadata": {},
     "output_type": "execute_result"
    }
   ],
   "source": [
    "re.findall(r'\\d+', step_2)"
   ]
  },
  {
   "cell_type": "markdown",
   "metadata": {},
   "source": [
    "Here is one example"
   ]
  },
  {
   "cell_type": "code",
   "execution_count": 70,
   "metadata": {},
   "outputs": [
    {
     "data": {
      "text/plain": [
       "['Monday, November 18th, by four o’clock, and shall probably trespass on your hospitality ']"
      ]
     },
     "execution_count": 70,
     "metadata": {},
     "output_type": "execute_result"
    }
   ],
   "source": [
    "re.findall(r'Monday, November 18th, by four o’clock, and shall probably trespass on your hospitality ', step_2)"
   ]
  },
  {
   "cell_type": "code",
   "execution_count": 71,
   "metadata": {},
   "outputs": [
    {
     "data": {
      "text/plain": [
       "'It is a truth universally acknowledged, that a single man in possession of a good fortune, must be in want of a wife. However little known the feelings or views of such a man may be on his first entering a neighbourhood, this truth is so well fixed in the minds of the surrounding families, that he is considered as the rightful property of some one or other of their daughters. “My dear Mr. Bennet,” said his lady to him one day, “have you heard that Netherfield Park is let at last?” Mr. Bennet replied that he had not. “But it is,” returned she; “for Mrs. Long has just been here, and she told me all about it.” Mr. Bennet made no answer. “Do not you want to know who has taken it?” cried his wife impatiently. “_You_ want to tell me, and I have no objection to hearing it.” This was invitation enough. “Why, my dear, you must know, Mrs. Long says that Netherfield is taken by a young man of large fortune from the north of England; that he came down on Monday in a chaise and four to see the plac'"
      ]
     },
     "execution_count": 71,
     "metadata": {},
     "output_type": "execute_result"
    }
   ],
   "source": [
    "# Remove all digits\n",
    "step_3 = re.sub(r'\\d+', '', step_2)\n",
    "step_3[0:1000]"
   ]
  },
  {
   "cell_type": "markdown",
   "metadata": {},
   "source": [
    "__Remove futile symbols (non punctuation)__"
   ]
  },
  {
   "cell_type": "code",
   "execution_count": 72,
   "metadata": {},
   "outputs": [
    {
     "data": {
      "text/plain": [
       "'It is a truth universally acknowledged, that a single man in possession of a good fortune, must be in want of a wife. However little known the feelings or views of such a man may be on his first entering a neighbourhood, this truth is so well fixed in the minds of the surrounding families, that he is considered as the rightful property of some one or other of their daughters. My dear Mr. Bennet, said his lady to him one day, have you heard that Netherfield Park is let at last? Mr. Bennet replied that he had not. But it is, returned she; for Mrs. Long has just been here, and she told me all about it. Mr. Bennet made no answer. Do not you want to know who has taken it? cried his wife impatiently. You want to tell me, and I have no objection to hearing it. This was invitation enough. Why, my dear, you must know, Mrs. Long says that Netherfield is taken by a young man of large fortune from the north of England; that he came down on Monday in a chaise and four to see the place, and was so m'"
      ]
     },
     "execution_count": 72,
     "metadata": {},
     "output_type": "execute_result"
    }
   ],
   "source": [
    "# Remove other signs\n",
    "step_4 = re.sub(r'[\"_“”\\'\\`\\-\\*\\(\\)]','',step_3)\n",
    "step_4[0:1000]"
   ]
  },
  {
   "cell_type": "markdown",
   "metadata": {},
   "source": [
    "__Tokenize to sentences while punctuation is still in place__"
   ]
  },
  {
   "cell_type": "code",
   "execution_count": 73,
   "metadata": {},
   "outputs": [
    {
     "data": {
      "text/plain": [
       "['It is a truth universally acknowledged, that a single man in possession of a good fortune, must be in want of a wife.',\n",
       " 'However little known the feelings or views of such a man may be on his first entering a neighbourhood, this truth is so well fixed in the minds of the surrounding families, that he is considered as the rightful property of some one or other of their daughters.',\n",
       " 'My dear Mr. Bennet, said his lady to him one day, have you heard that Netherfield Park is let at last?',\n",
       " 'Mr. Bennet replied that he had not.',\n",
       " 'But it is, returned she; for Mrs. Long has just been here, and she told me all about it.',\n",
       " 'Mr. Bennet made no answer.',\n",
       " 'Do not you want to know who has taken it?',\n",
       " 'cried his wife impatiently.',\n",
       " 'You want to tell me, and I have no objection to hearing it.',\n",
       " 'This was invitation enough.']"
      ]
     },
     "execution_count": 73,
     "metadata": {},
     "output_type": "execute_result"
    }
   ],
   "source": [
    "# Tokenize\n",
    "tokens_jane_austen = sent_tokenize(step_4)\n",
    "tokens_jane_austen[0:10]"
   ]
  },
  {
   "cell_type": "markdown",
   "metadata": {},
   "source": [
    "__Convert each token to lowercase__"
   ]
  },
  {
   "cell_type": "code",
   "execution_count": 74,
   "metadata": {},
   "outputs": [
    {
     "data": {
      "text/plain": [
       "['it is a truth universally acknowledged, that a single man in possession of a good fortune, must be in want of a wife.',\n",
       " 'however little known the feelings or views of such a man may be on his first entering a neighbourhood, this truth is so well fixed in the minds of the surrounding families, that he is considered as the rightful property of some one or other of their daughters.',\n",
       " 'my dear mr. bennet, said his lady to him one day, have you heard that netherfield park is let at last?',\n",
       " 'mr. bennet replied that he had not.',\n",
       " 'but it is, returned she; for mrs. long has just been here, and she told me all about it.']"
      ]
     },
     "execution_count": 74,
     "metadata": {},
     "output_type": "execute_result"
    }
   ],
   "source": [
    "# Lowercase\n",
    "lower_token = list(map(lambda token: token.lower(), tokens_jane_austen))\n",
    "lower_token[0:5]"
   ]
  },
  {
   "cell_type": "markdown",
   "metadata": {},
   "source": [
    "__Remove punctuation from lowercase token__"
   ]
  },
  {
   "cell_type": "code",
   "execution_count": 75,
   "metadata": {},
   "outputs": [
    {
     "data": {
      "text/plain": [
       "['it is a truth universally acknowledged that a single man in possession of a good fortune must be in want of a wife',\n",
       " 'however little known the feelings or views of such a man may be on his first entering a neighbourhood this truth is so well fixed in the minds of the surrounding families that he is considered as the rightful property of some one or other of their daughters',\n",
       " 'my dear mr bennet said his lady to him one day have you heard that netherfield park is let at last',\n",
       " 'mr bennet replied that he had not',\n",
       " 'but it is returned she for mrs long has just been here and she told me all about it']"
      ]
     },
     "execution_count": 75,
     "metadata": {},
     "output_type": "execute_result"
    }
   ],
   "source": [
    "punct_less_token = list(map(lambda token: \n",
    "                            token.translate(str.maketrans('', '', string.punctuation)), lower_token))\n",
    "punct_less_token[0:5]"
   ]
  },
  {
   "cell_type": "markdown",
   "metadata": {},
   "source": [
    "### Corpus 2"
   ]
  },
  {
   "cell_type": "markdown",
   "metadata": {},
   "source": [
    "__Sample string before treatment__"
   ]
  },
  {
   "cell_type": "code",
   "execution_count": 76,
   "metadata": {},
   "outputs": [
    {
     "data": {
      "text/plain": [
       "'From: zowie@daedalus.stanford.edu (Craig \"Powderkeg\" DeForest)\\nSubject: Re: 5W30, 10W40, or 20W50\\nArticle-I.D.: daedalus.ZOWIE.93Apr5215616\\nOrganization: Stanford Center for Space Science and Astrophysics\\nLines: 37\\nNNTP-Posting-Host: daedalus.stanford.edu\\nIn-reply-to: Brad Thone\\'s message of Fri, 02 Apr 93 21:41:53 CST\\n\\nIn article <foo> Brad Thone <C09615BT@WUVMD> writes:\\nWell, there *is* a difference.\\n\\nI don\\'t happen to have my SAE manual handy, but oil viscosity in general\\n_decreases_ with temperature.  The SAE numbers are based on a `typical\\'\\ncurve that oils used to all have, running from (say) the viscosity of a\\nroom-temperature 90-weight at 0C, down to (say) that of a room-temperature \\n5-weight at 20C, for a typical 40-weight oil.\\n\\nOils that are designed for operation in `normal\\' temperatures just have\\na weight specification.  Oils that are designed for operation in exceedingly\\ncold temperatures have a `W\\' tacked on the end, so in winter in a cold\\nplace, you\\'d stick 10W in your car in the winter and 40 in it in the summer,\\nto approximate the appropriate viscosity throughout the year.\\n\\nModern multi-viscosity oils change viscosity much less with temperature.\\nAs a result, their viscosity graphs cross over several curves.  A multi-vis\\nspecification pegs the curve at two temperatures, a `normal\\' operating\\ntemperature and a `cold\\' one (though I can\\'t remember the numbers...).\\n\\nIn any event, the weights do indicate a significant difference.  Remember\\nthat your engine is temperature-regulated (by the thermostat and\\nradiator or air fins) most of the time -- unless you overheat it or\\nsomething.\\n\\nAny weight of oil is better than no oil, or than very old, carbonized\\noil.  Thin oil won\\'t (in general) lubricate as well at temperature,\\nthicker oil will (like a 20W50) will lubricate better at temperature, \\nbut not as well during startup, when most engine wear occurs.  \\n\\nIf you\\'re planning on making long drives, the 20W50 is probably fine\\n(esp. in the summer) in your 10W40 car.  But if you\\'re making short drives,\\nstick to the 10W40.\\n\\n\\n--\\nDON\\'T DRINK SOAP! DILUTE DILUTE! OK!\\n'"
      ]
     },
     "execution_count": 76,
     "metadata": {},
     "output_type": "execute_result"
    }
   ],
   "source": [
    "sample_string = corpus_2_list[1000]\n",
    "sample_string"
   ]
  },
  {
   "cell_type": "markdown",
   "metadata": {},
   "source": [
    "__Removing blank spaces and new lines__"
   ]
  },
  {
   "cell_type": "code",
   "execution_count": 77,
   "metadata": {},
   "outputs": [
    {
     "data": {
      "text/plain": [
       "'From: zowie@daedalus.stanford.edu (Craig \"Powderkeg\" DeForest) Subject: Re: 5W30, 10W40, or 20W50 Article-I.D.: daedalus.ZOWIE.93Apr5215616 Organization: Stanford Center for Space Science and Astrophysics Lines: 37 NNTP-Posting-Host: daedalus.stanford.edu In-reply-to: Brad Thone\\'s message of Fri, 02 Apr 93 21:41:53 CST In article <foo> Brad Thone <C09615BT@WUVMD> writes: Well, there *is* a difference. I don\\'t happen to have my SAE manual handy, but oil viscosity in general _decreases_ with temperature. The SAE numbers are based on a `typical\\' curve that oils used to all have, running from (say) the viscosity of a room-temperature 90-weight at 0C, down to (say) that of a room-temperature 5-weight at 20C, for a typical 40-weight oil. Oils that are designed for operation in `normal\\' temperatures just have a weight specification. Oils that are designed for operation in exceedingly cold temperatures have a `W\\' tacked on the end, so in winter in a cold place, you\\'d stick 10W in your car in the winter and 40 in it in the summer, to approximate the appropriate viscosity throughout the year. Modern multi-viscosity oils change viscosity much less with temperature. As a result, their viscosity graphs cross over several curves. A multi-vis specification pegs the curve at two temperatures, a `normal\\' operating temperature and a `cold\\' one (though I can\\'t remember the numbers...). In any event, the weights do indicate a significant difference. Remember that your engine is temperature-regulated (by the thermostat and radiator or air fins) most of the time -- unless you overheat it or something. Any weight of oil is better than no oil, or than very old, carbonized oil. Thin oil won\\'t (in general) lubricate as well at temperature, thicker oil will (like a 20W50) will lubricate better at temperature, but not as well during startup, when most engine wear occurs. If you\\'re planning on making long drives, the 20W50 is probably fine (esp. in the summer) in your 10W40 car. But if you\\'re making short drives, stick to the 10W40. -- DON\\'T DRINK SOAP! DILUTE DILUTE! OK! '"
      ]
     },
     "execution_count": 77,
     "metadata": {},
     "output_type": "execute_result"
    }
   ],
   "source": [
    "step_1 = re.sub('\\s+', ' ', sample_string)\n",
    "step_1"
   ]
  },
  {
   "cell_type": "markdown",
   "metadata": {},
   "source": [
    "__Removing From/To and subject line of email__"
   ]
  },
  {
   "cell_type": "markdown",
   "metadata": {},
   "source": [
    "Finding from to section"
   ]
  },
  {
   "cell_type": "code",
   "execution_count": 78,
   "metadata": {},
   "outputs": [
    {
     "data": {
      "text/plain": [
       "['From: zowie@daedalus.stanford.edu (Craig \"Powderkeg\" DeForest) Subject: Re: 5W30, 10W40, or 20W50 Article-I.D.: daedalus.ZOWIE.93Apr5215616 Organization: Stanford Center for Space Science and Astrophysics Lines: 37 NNTP-Posting-Host: daedalus.stanford.edu In-reply-to: Brad Thone\\'s message of Fri, 02 Apr 93 21:41:53 CST In article <foo> Brad Thone <C09615BT@WUVMD> writes: ']"
      ]
     },
     "execution_count": 78,
     "metadata": {},
     "output_type": "execute_result"
    }
   ],
   "source": [
    "re.findall(r'\\bFrom: .*? writes: ', step_1)"
   ]
  },
  {
   "cell_type": "code",
   "execution_count": 79,
   "metadata": {},
   "outputs": [
    {
     "data": {
      "text/plain": [
       "\"Well, there *is* a difference. I don't happen to have my SAE manual handy, but oil viscosity in general _decreases_ with temperature. The SAE numbers are based on a `typical' curve that oils used to all have, running from (say) the viscosity of a room-temperature 90-weight at 0C, down to (say) that of a room-temperature 5-weight at 20C, for a typical 40-weight oil. Oils that are designed for operation in `normal' temperatures just have a weight specification. Oils that are designed for operation in exceedingly cold temperatures have a `W' tacked on the end, so in winter in a cold place, you'd stick 10W in your car in the winter and 40 in it in the summer, to approximate the appropriate viscosity throughout the year. Modern multi-viscosity oils change viscosity much less with temperature. As a result, their viscosity graphs cross over several curves. A multi-vis specification pegs the curve at two temperatures, a `normal' operating temperature and a `cold' one (though I can't remember the numbers...). In any event, the weights do indicate a significant difference. Remember that your engine is temperature-regulated (by the thermostat and radiator or air fins) most of the time -- unless you overheat it or something. Any weight of oil is better than no oil, or than very old, carbonized oil. Thin oil won't (in general) lubricate as well at temperature, thicker oil will (like a 20W50) will lubricate better at temperature, but not as well during startup, when most engine wear occurs. If you're planning on making long drives, the 20W50 is probably fine (esp. in the summer) in your 10W40 car. But if you're making short drives, stick to the 10W40. -- DON'T DRINK SOAP! DILUTE DILUTE! OK! \""
      ]
     },
     "execution_count": 79,
     "metadata": {},
     "output_type": "execute_result"
    }
   ],
   "source": [
    "step_2 = re.sub(r'\\bFrom: .*? writes: ', '', step_1)\n",
    "step_2"
   ]
  },
  {
   "cell_type": "markdown",
   "metadata": {},
   "source": [
    "__Removal of digits__"
   ]
  },
  {
   "cell_type": "code",
   "execution_count": 80,
   "metadata": {},
   "outputs": [
    {
     "data": {
      "text/plain": [
       "\"Well, there *is* a difference. I don't happen to have my SAE manual handy, but oil viscosity in general _decreases_ with temperature. The SAE numbers are based on a `typical' curve that oils used to all have, running from (say) the viscosity of a room-temperature -weight at C, down to (say) that of a room-temperature -weight at C, for a typical -weight oil. Oils that are designed for operation in `normal' temperatures just have a weight specification. Oils that are designed for operation in exceedingly cold temperatures have a `W' tacked on the end, so in winter in a cold place, you'd stick W in your car in the winter and  in it in the summer, to approximate the appropriate viscosity throughout the year. Modern multi-viscosity oils change viscosity much less with temperature. As a result, their viscosity graphs cross over several curves. A multi-vis specification pegs the curve at two temperatures, a `normal' operating temperature and a `cold' one (though I can't remember the numbers...). In any event, the weights do indicate a significant difference. Remember that your engine is temperature-regulated (by the thermostat and radiator or air fins) most of the time -- unless you overheat it or something. Any weight of oil is better than no oil, or than very old, carbonized oil. Thin oil won't (in general) lubricate as well at temperature, thicker oil will (like a W) will lubricate better at temperature, but not as well during startup, when most engine wear occurs. If you're planning on making long drives, the W is probably fine (esp. in the summer) in your W car. But if you're making short drives, stick to the W. -- DON'T DRINK SOAP! DILUTE DILUTE! OK! \""
      ]
     },
     "execution_count": 80,
     "metadata": {},
     "output_type": "execute_result"
    }
   ],
   "source": [
    "# Remove all digits\n",
    "step_3 = re.sub(r'\\d+', '', step_2)\n",
    "step_3"
   ]
  },
  {
   "cell_type": "markdown",
   "metadata": {},
   "source": [
    "__Remove futile symbols (non punctuation)__"
   ]
  },
  {
   "cell_type": "code",
   "execution_count": 81,
   "metadata": {},
   "outputs": [
    {
     "data": {
      "text/plain": [
       "'Well, there is a difference. I dont happen to have my SAE manual handy, but oil viscosity in general decreases with temperature. The SAE numbers are based on a typical curve that oils used to all have, running from say the viscosity of a roomtemperature weight at C, down to say that of a roomtemperature weight at C, for a typical weight oil. Oils that are designed for operation in normal temperatures just have a weight specification. Oils that are designed for operation in exceedingly cold temperatures have a W tacked on the end, so in winter in a cold place, youd stick W in your car in the winter and  in it in the summer, to approximate the appropriate viscosity throughout the year. Modern multiviscosity oils change viscosity much less with temperature. As a result, their viscosity graphs cross over several curves. A multivis specification pegs the curve at two temperatures, a normal operating temperature and a cold one though I cant remember the numbers.... In any event, the weights do indicate a significant difference. Remember that your engine is temperatureregulated by the thermostat and radiator or air fins most of the time  unless you overheat it or something. Any weight of oil is better than no oil, or than very old, carbonized oil. Thin oil wont in general lubricate as well at temperature, thicker oil will like a W will lubricate better at temperature, but not as well during startup, when most engine wear occurs. If youre planning on making long drives, the W is probably fine esp. in the summer in your W car. But if youre making short drives, stick to the W.  DONT DRINK SOAP! DILUTE DILUTE! OK! '"
      ]
     },
     "execution_count": 81,
     "metadata": {},
     "output_type": "execute_result"
    }
   ],
   "source": [
    "# Remove other signs\n",
    "step_4 = re.sub(r'[\"_“”\\'\\`\\-\\*\\(\\)]','',step_3)\n",
    "step_4"
   ]
  },
  {
   "cell_type": "markdown",
   "metadata": {},
   "source": [
    "__Tokenize to sentences while punctuation is still in place__"
   ]
  },
  {
   "cell_type": "code",
   "execution_count": 82,
   "metadata": {},
   "outputs": [
    {
     "data": {
      "text/plain": [
       "['Well, there is a difference.',\n",
       " 'I dont happen to have my SAE manual handy, but oil viscosity in general decreases with temperature.',\n",
       " 'The SAE numbers are based on a typical curve that oils used to all have, running from say the viscosity of a roomtemperature weight at C, down to say that of a roomtemperature weight at C, for a typical weight oil.',\n",
       " 'Oils that are designed for operation in normal temperatures just have a weight specification.',\n",
       " 'Oils that are designed for operation in exceedingly cold temperatures have a W tacked on the end, so in winter in a cold place, youd stick W in your car in the winter and  in it in the summer, to approximate the appropriate viscosity throughout the year.',\n",
       " 'Modern multiviscosity oils change viscosity much less with temperature.',\n",
       " 'As a result, their viscosity graphs cross over several curves.',\n",
       " 'A multivis specification pegs the curve at two temperatures, a normal operating temperature and a cold one though I cant remember the numbers....',\n",
       " 'In any event, the weights do indicate a significant difference.',\n",
       " 'Remember that your engine is temperatureregulated by the thermostat and radiator or air fins most of the time  unless you overheat it or something.',\n",
       " 'Any weight of oil is better than no oil, or than very old, carbonized oil.',\n",
       " 'Thin oil wont in general lubricate as well at temperature, thicker oil will like a W will lubricate better at temperature, but not as well during startup, when most engine wear occurs.',\n",
       " 'If youre planning on making long drives, the W is probably fine esp.',\n",
       " 'in the summer in your W car.',\n",
       " 'But if youre making short drives, stick to the W.  DONT DRINK SOAP!',\n",
       " 'DILUTE DILUTE!',\n",
       " 'OK!']"
      ]
     },
     "execution_count": 82,
     "metadata": {},
     "output_type": "execute_result"
    }
   ],
   "source": [
    "# Tokenize\n",
    "tokens_news = sent_tokenize(step_4)\n",
    "tokens_news"
   ]
  },
  {
   "cell_type": "markdown",
   "metadata": {},
   "source": [
    "__Convert each token to lowercase__"
   ]
  },
  {
   "cell_type": "code",
   "execution_count": 83,
   "metadata": {},
   "outputs": [
    {
     "data": {
      "text/plain": [
       "['well, there is a difference.',\n",
       " 'i dont happen to have my sae manual handy, but oil viscosity in general decreases with temperature.',\n",
       " 'the sae numbers are based on a typical curve that oils used to all have, running from say the viscosity of a roomtemperature weight at c, down to say that of a roomtemperature weight at c, for a typical weight oil.',\n",
       " 'oils that are designed for operation in normal temperatures just have a weight specification.',\n",
       " 'oils that are designed for operation in exceedingly cold temperatures have a w tacked on the end, so in winter in a cold place, youd stick w in your car in the winter and  in it in the summer, to approximate the appropriate viscosity throughout the year.']"
      ]
     },
     "execution_count": 83,
     "metadata": {},
     "output_type": "execute_result"
    }
   ],
   "source": [
    "# Lowercase\n",
    "lower_token = list(map(lambda token: token.lower(), tokens_news))\n",
    "lower_token[0:5]"
   ]
  },
  {
   "cell_type": "markdown",
   "metadata": {},
   "source": [
    "__Remove punctuation from lowercase token__"
   ]
  },
  {
   "cell_type": "code",
   "execution_count": 84,
   "metadata": {},
   "outputs": [
    {
     "data": {
      "text/plain": [
       "['well there is a difference',\n",
       " 'i dont happen to have my sae manual handy but oil viscosity in general decreases with temperature',\n",
       " 'the sae numbers are based on a typical curve that oils used to all have running from say the viscosity of a roomtemperature weight at c down to say that of a roomtemperature weight at c for a typical weight oil',\n",
       " 'oils that are designed for operation in normal temperatures just have a weight specification',\n",
       " 'oils that are designed for operation in exceedingly cold temperatures have a w tacked on the end so in winter in a cold place youd stick w in your car in the winter and  in it in the summer to approximate the appropriate viscosity throughout the year']"
      ]
     },
     "execution_count": 84,
     "metadata": {},
     "output_type": "execute_result"
    }
   ],
   "source": [
    "punct_less_token = list(map(lambda token: \n",
    "                            token.translate(str.maketrans('', '', string.punctuation)), lower_token))\n",
    "punct_less_token[0:5]"
   ]
  },
  {
   "cell_type": "markdown",
   "metadata": {},
   "source": [
    " "
   ]
  },
  {
   "cell_type": "markdown",
   "metadata": {},
   "source": [
    "# Word2Vec model"
   ]
  },
  {
   "cell_type": "markdown",
   "metadata": {},
   "source": [
    "__Take clean sentence tokens list, and convert to word tokens list of list__"
   ]
  },
  {
   "cell_type": "code",
   "execution_count": 85,
   "metadata": {},
   "outputs": [
    {
     "data": {
      "text/plain": [
       "[['lebanese',\n",
       "  'resistance',\n",
       "  'forces',\n",
       "  'detonated',\n",
       "  'a',\n",
       "  'bomb',\n",
       "  'under',\n",
       "  'an',\n",
       "  'israeli',\n",
       "  'occupation',\n",
       "  'patrol',\n",
       "  'in',\n",
       "  'lebanese',\n",
       "  'territory',\n",
       "  'two',\n",
       "  'days',\n",
       "  'ago'],\n",
       " ['three', 'soldiers', 'were', 'killed', 'and', 'two', 'wounded']]"
      ]
     },
     "execution_count": 85,
     "metadata": {},
     "output_type": "execute_result"
    }
   ],
   "source": [
    "word_tokens_list_of_list = []\n",
    "\n",
    "for news_story in corpus_2_list:\n",
    "    tokenized_story = preprocessing_corpus_2(news_story)\n",
    "    for sentence in tokenized_story:\n",
    "        word_tokens_list = word_tokenize(sentence)\n",
    "        word_tokens_list_of_list.append(word_tokens_list)\n",
    "        \n",
    "word_tokens_list_of_list[0:2]"
   ]
  },
  {
   "cell_type": "markdown",
   "metadata": {},
   "source": [
    "__Build models__"
   ]
  },
  {
   "cell_type": "code",
   "execution_count": 86,
   "metadata": {},
   "outputs": [],
   "source": [
    "def build_word2vec(list_of_list, dimension_size, window_size, min_obs, model_type, model_name):\n",
    "\n",
    "    \"\"\"\n",
    "    Creates a model object\n",
    "    Args:\n",
    "        list_of_list (list): preprocessed text corpus\n",
    "        dimension_size (int): size of dimensions in model\n",
    "        window_size (int): window size used for training\n",
    "        min_count (int): minimum observed instances of a word to be considered\n",
    "        model_type (binary 1 or 0): 1 = skipgram, 0 = CBOW\n",
    "        model_name: name of object\n",
    "    Returns: \n",
    "        A trained word2vec model, that is saved as an object\n",
    "    \"\"\"\n",
    "\n",
    "    new_model = gensim.models.Word2Vec(list_of_list, vector_size = dimension_size, window = window_size, \n",
    "                                       sg = model_type, min_count = min_obs)\n",
    "    new_model.save(model_name)\n",
    "\n",
    "    return new_model"
   ]
  },
  {
   "cell_type": "markdown",
   "metadata": {},
   "source": [
    "__Create Skipgram model - with different vector and window parameters__"
   ]
  },
  {
   "cell_type": "code",
   "execution_count": 87,
   "metadata": {},
   "outputs": [],
   "source": [
    "model_sg_50_3 = build_word2vec(word_tokens_list_of_list, 50, 3, 5, 1, \"model_sg_50_3\")\n",
    "model_sg_50_5 = build_word2vec(word_tokens_list_of_list, 50, 5, 5, 1, \"model_sg_50_5\")\n",
    "model_sg_50_7 = build_word2vec(word_tokens_list_of_list, 50, 7, 5, 1, \"model_sg_50_7\")\n",
    "model_sg_100_3 = build_word2vec(word_tokens_list_of_list, 100, 3, 5, 1, \"model_sg_100_3\")\n",
    "model_sg_100_5 = build_word2vec(word_tokens_list_of_list, 100, 5, 5, 1, \"model_sg_100_5\")\n",
    "model_sg_100_7 = build_word2vec(word_tokens_list_of_list, 100, 7, 5, 1, \"model_sg_100_7\")\n",
    "model_sg_200_3 = build_word2vec(word_tokens_list_of_list, 200, 3, 5, 1, \"model_sg_200_3\")\n",
    "model_sg_200_5 = build_word2vec(word_tokens_list_of_list, 200, 5, 5, 1, \"model_sg_200_5\")\n",
    "model_sg_200_7 = build_word2vec(word_tokens_list_of_list, 200, 7, 5, 1, \"model_sg_200_7\")"
   ]
  },
  {
   "cell_type": "markdown",
   "metadata": {},
   "source": [
    "__Create CBOW model - with different vector and window parameters__"
   ]
  },
  {
   "cell_type": "code",
   "execution_count": 88,
   "metadata": {},
   "outputs": [],
   "source": [
    "model_cbow_50_3 = build_word2vec(word_tokens_list_of_list, 50, 3, 5, 1, \"model_cbow_50_3\")\n",
    "model_cbow_50_5 = build_word2vec(word_tokens_list_of_list, 50, 5, 5, 1, \"model_cbow_50_5\")\n",
    "model_cbow_50_7 = build_word2vec(word_tokens_list_of_list, 50, 7, 5, 1, \"model_cbow_50_7\")\n",
    "model_cbow_100_3 = build_word2vec(word_tokens_list_of_list, 100, 3, 5, 1, \"model_cbow_100_3\")\n",
    "model_cbow_100_5 = build_word2vec(word_tokens_list_of_list, 100, 5, 5, 1, \"model_cbow_100_5\")\n",
    "model_cbow_100_7 = build_word2vec(word_tokens_list_of_list, 100, 7, 5, 1, \"model_cbow_100_7\")\n",
    "model_cbow_200_3 = build_word2vec(word_tokens_list_of_list, 200, 3, 5, 1, \"model_cbow_200_3\")\n",
    "model_cbow_200_5 = build_word2vec(word_tokens_list_of_list, 200, 5, 5, 1, \"model_cbow_200_5\")\n",
    "model_cbow_200_7 = build_word2vec(word_tokens_list_of_list, 200, 7, 5, 1, \"model_cbow_200_7\")"
   ]
  },
  {
   "cell_type": "code",
   "execution_count": 89,
   "metadata": {},
   "outputs": [
    {
     "name": "stdout",
     "output_type": "stream",
     "text": [
      "<gensim.models.word2vec.Word2Vec object at 0x7f953f3cc890>\n"
     ]
    }
   ],
   "source": [
    "print(str(model_cbow_200_7.__repr__()))"
   ]
  },
  {
   "cell_type": "markdown",
   "metadata": {},
   "source": [
    "__Evaluate models based on identified nearest neighbors words__"
   ]
  },
  {
   "cell_type": "code",
   "execution_count": 90,
   "metadata": {},
   "outputs": [],
   "source": [
    "evaluation_list = ['government', 'army', 'happy', 'food', 'pride',\n",
    "                   'wealth', 'overwhelming', 'education','family','computer']"
   ]
  },
  {
   "cell_type": "code",
   "execution_count": 91,
   "metadata": {},
   "outputs": [],
   "source": [
    "def evaluate_model_nn(model_object, index_model_name, evaluation_word_lists, top_n):\n",
    "\n",
    "    \"\"\"\n",
    "    Identifies top n nearest words for words in a lit\n",
    "    Args:\n",
    "        model_object (obj): word2vec model\n",
    "        index_model_name (str): name of model for row indices naming\n",
    "        evaluation_word_lists (list): words to be used as reference to identify nearest neighbors\n",
    "        top_n (int): top n number of nearest neighbors\n",
    "    Returns: \n",
    "        A pd dataframe summary\n",
    "    \"\"\"\n",
    "\n",
    "    \n",
    "    # Create blank df\n",
    "    results_df = pd.DataFrame()\n",
    "    \n",
    "    for i, word in enumerate(evaluation_word_lists):\n",
    "\n",
    "        result = model_object.wv.most_similar(word, topn=top_n)\n",
    "        results_df[word] = [result]\n",
    "\n",
    "    results_df.index = [str(index_model_name)]\n",
    "\n",
    "    return results_df"
   ]
  },
  {
   "cell_type": "markdown",
   "metadata": {},
   "source": [
    "__Evaluating all models at once__"
   ]
  },
  {
   "cell_type": "code",
   "execution_count": 92,
   "metadata": {},
   "outputs": [],
   "source": [
    "list_model_objects = [model_sg_50_3, model_sg_50_5, model_sg_50_7,\n",
    "                      model_sg_100_3, model_sg_100_5, model_sg_100_7,\n",
    "                      model_sg_200_3, model_sg_200_5, model_sg_200_7,\n",
    "                     model_cbow_50_3, model_cbow_50_5, model_cbow_50_7,\n",
    "                      model_cbow_100_3, model_cbow_100_5, model_cbow_100_7,\n",
    "                      model_cbow_200_3, model_cbow_200_5, model_cbow_200_7]\n",
    "list_index_names = ['sg_50_3', 'sg_50_5', 'sg_50_7',\n",
    "                      'sg_100_3', 'sg_100_5', 'sg_100_7',\n",
    "                      'sg_200_3', 'sg_200_5', 'sg_200_7',\n",
    "                     'cbow_50_3', 'cbow_50_5', 'cbow_50_7',\n",
    "                      'cbow_100_3', 'cbow_100_5', 'cbow_100_7',\n",
    "                      'cbow_200_3', 'cbow_200_5', 'cbow_200_7']\n",
    "\n",
    "agg_results = evaluate_model_nn(list_model_objects[0], list_index_names[0], evaluation_list, 3)\n",
    "\n",
    "for i in range(1,18):\n",
    "    # Add row to summary table\n",
    "    new_row = pd.DataFrame(evaluate_model_nn(list_model_objects[i], list_index_names[i], evaluation_list, 3))\n",
    "    agg_results = agg_results.append(new_row)"
   ]
  },
  {
   "cell_type": "code",
   "execution_count": 93,
   "metadata": {},
   "outputs": [
    {
     "data": {
      "text/html": [
       "<div>\n",
       "<style scoped>\n",
       "    .dataframe tbody tr th:only-of-type {\n",
       "        vertical-align: middle;\n",
       "    }\n",
       "\n",
       "    .dataframe tbody tr th {\n",
       "        vertical-align: top;\n",
       "    }\n",
       "\n",
       "    .dataframe thead th {\n",
       "        text-align: right;\n",
       "    }\n",
       "</style>\n",
       "<table border=\"1\" class=\"dataframe\">\n",
       "  <thead>\n",
       "    <tr style=\"text-align: right;\">\n",
       "      <th></th>\n",
       "      <th>government</th>\n",
       "      <th>army</th>\n",
       "      <th>happy</th>\n",
       "      <th>food</th>\n",
       "      <th>pride</th>\n",
       "      <th>wealth</th>\n",
       "      <th>overwhelming</th>\n",
       "      <th>education</th>\n",
       "      <th>family</th>\n",
       "      <th>computer</th>\n",
       "    </tr>\n",
       "  </thead>\n",
       "  <tbody>\n",
       "    <tr>\n",
       "      <th>sg_50_3</th>\n",
       "      <td>[(greek, 0.804038941860199), (policies, 0.7906...</td>\n",
       "      <td>[(ottoman, 0.8858816623687744), (forces, 0.885...</td>\n",
       "      <td>[(surprised, 0.9102444648742676), (proud, 0.90...</td>\n",
       "      <td>[(trucks, 0.9271546602249146), (minimal, 0.917...</td>\n",
       "      <td>[(husbands, 0.9686049222946167), (mothers, 0.9...</td>\n",
       "      <td>[(steps, 0.9660560488700867), (substance, 0.96...</td>\n",
       "      <td>[(reduction, 0.9647369980812073), (defining, 0...</td>\n",
       "      <td>[(computers, 0.916782021522522), (administrati...</td>\n",
       "      <td>[(escaped, 0.8627897500991821), (dozens, 0.848...</td>\n",
       "      <td>[(voice, 0.8226866722106934), (network, 0.8091...</td>\n",
       "    </tr>\n",
       "    <tr>\n",
       "      <th>sg_50_5</th>\n",
       "      <td>[(greek, 0.8535125255584717), (genocide, 0.847...</td>\n",
       "      <td>[(russian, 0.8825209140777588), (dictatorship,...</td>\n",
       "      <td>[(careful, 0.8871726989746094), (comfortable, ...</td>\n",
       "      <td>[(friendly, 0.9072898030281067), (wives, 0.903...</td>\n",
       "      <td>[(hearts, 0.9454027414321899), (husbands, 0.94...</td>\n",
       "      <td>[(permits, 0.9637768864631653), (element, 0.94...</td>\n",
       "      <td>[(reduction, 0.9561704397201538), (determining...</td>\n",
       "      <td>[(fredom, 0.8925520181655884), (administrative...</td>\n",
       "      <td>[(whom, 0.8423151969909668), (attackers, 0.835...</td>\n",
       "      <td>[(science, 0.8152944445610046), (fax, 0.812277...</td>\n",
       "    </tr>\n",
       "    <tr>\n",
       "      <th>sg_50_7</th>\n",
       "      <td>[(xsoviet, 0.836116373538971), (removing, 0.81...</td>\n",
       "      <td>[(dictatorship, 0.9182860851287842), (organize...</td>\n",
       "      <td>[(careful, 0.8877199292182922), (confusing, 0....</td>\n",
       "      <td>[(wives, 0.8881337642669678), (clothing, 0.885...</td>\n",
       "      <td>[(husbands, 0.9269348978996277), (ancestors, 0...</td>\n",
       "      <td>[(element, 0.9534955620765686), (tendency, 0.9...</td>\n",
       "      <td>[(legitimacy, 0.9583801627159119), (promote, 0...</td>\n",
       "      <td>[(fredom, 0.9046643972396851), (psychology, 0....</td>\n",
       "      <td>[(mothers, 0.8127586841583252), (fate, 0.81243...</td>\n",
       "      <td>[(science, 0.8129076957702637), (electrical, 0...</td>\n",
       "    </tr>\n",
       "    <tr>\n",
       "      <th>sg_100_3</th>\n",
       "      <td>[(greek, 0.7724157571792603), (xsoviet, 0.7724...</td>\n",
       "      <td>[(forces, 0.8722518086433411), (azeri, 0.87006...</td>\n",
       "      <td>[(surprised, 0.9026287794113159), (glad, 0.893...</td>\n",
       "      <td>[(trucks, 0.9336310029029846), (jobs, 0.915132...</td>\n",
       "      <td>[(husbands, 0.966575026512146), (ears, 0.95711...</td>\n",
       "      <td>[(shelter, 0.9640524983406067), (element, 0.96...</td>\n",
       "      <td>[(injustice, 0.9650481343269348), (characteriz...</td>\n",
       "      <td>[(computers, 0.926155149936676), (labor, 0.920...</td>\n",
       "      <td>[(escaped, 0.865105152130127), (japanese, 0.85...</td>\n",
       "      <td>[(voice, 0.8510004281997681), (engineering, 0....</td>\n",
       "    </tr>\n",
       "    <tr>\n",
       "      <th>sg_100_5</th>\n",
       "      <td>[(xsoviet, 0.7944872975349426), (greek, 0.7880...</td>\n",
       "      <td>[(dictatorship, 0.9032689929008484), (moslem, ...</td>\n",
       "      <td>[(confusing, 0.8958973288536072), (careful, 0....</td>\n",
       "      <td>[(babies, 0.8926121592521667), (clothing, 0.88...</td>\n",
       "      <td>[(husbands, 0.9234886169433594), (colleagues, ...</td>\n",
       "      <td>[(proportional, 0.9533584117889404), (permits,...</td>\n",
       "      <td>[(dominant, 0.9538147449493408), (abuses, 0.95...</td>\n",
       "      <td>[(administrative, 0.8813538551330566), (core, ...</td>\n",
       "      <td>[(vast, 0.8456628322601318), (mothers, 0.84342...</td>\n",
       "      <td>[(science, 0.816775381565094), (electrical, 0....</td>\n",
       "    </tr>\n",
       "    <tr>\n",
       "      <th>sg_100_7</th>\n",
       "      <td>[(fascist, 0.8196161985397339), (xsoviet, 0.81...</td>\n",
       "      <td>[(dictatorship, 0.8783590197563171), (slaughte...</td>\n",
       "      <td>[(bet, 0.879052996635437), (glad, 0.8663113117...</td>\n",
       "      <td>[(clothing, 0.8769946694374084), (tenant, 0.87...</td>\n",
       "      <td>[(affected, 0.9152090549468994), (ancestors, 0...</td>\n",
       "      <td>[(covering, 0.9431804418563843), (element, 0.9...</td>\n",
       "      <td>[(blatant, 0.9583725333213806), (unacceptable,...</td>\n",
       "      <td>[(tourism, 0.8386237621307373), (objectives, 0...</td>\n",
       "      <td>[(fate, 0.8041701316833496), (travel, 0.774843...</td>\n",
       "      <td>[(electrical, 0.8056811094284058), (science, 0...</td>\n",
       "    </tr>\n",
       "    <tr>\n",
       "      <th>sg_200_3</th>\n",
       "      <td>[(genocide, 0.7920501828193665), (forces, 0.77...</td>\n",
       "      <td>[(moslem, 0.8863533735275269), (azeri, 0.88231...</td>\n",
       "      <td>[(confusing, 0.9133730530738831), (lucky, 0.90...</td>\n",
       "      <td>[(babies, 0.911504864692688), (clothing, 0.906...</td>\n",
       "      <td>[(husbands, 0.9670428037643433), (mothers, 0.9...</td>\n",
       "      <td>[(pool, 0.9658800363540649), (sysadmin, 0.9644...</td>\n",
       "      <td>[(rushdies, 0.963191568851471), (reduction, 0....</td>\n",
       "      <td>[(condescending, 0.9098212122917175), (labor, ...</td>\n",
       "      <td>[(mothers, 0.8618623614311218), (leaving, 0.85...</td>\n",
       "      <td>[(phone, 0.8377620577812195), (voice, 0.832298...</td>\n",
       "    </tr>\n",
       "    <tr>\n",
       "      <th>sg_200_5</th>\n",
       "      <td>[(greek, 0.8036022186279297), (xsoviet, 0.7999...</td>\n",
       "      <td>[(moslem, 0.896993100643158), (dictatorship, 0...</td>\n",
       "      <td>[(confusing, 0.8820159435272217), (careful, 0....</td>\n",
       "      <td>[(burn, 0.8931429386138916), (howling, 0.88812...</td>\n",
       "      <td>[(husbands, 0.9505138993263245), (hosts, 0.933...</td>\n",
       "      <td>[(element, 0.9557851552963257), (attribute, 0....</td>\n",
       "      <td>[(unacceptable, 0.9640464186668396), (mercy, 0...</td>\n",
       "      <td>[(fredom, 0.8822068572044373), (welfare, 0.881...</td>\n",
       "      <td>[(millions, 0.8485229015350342), (pictures, 0....</td>\n",
       "      <td>[(mechanical, 0.8181391358375549), (electrical...</td>\n",
       "    </tr>\n",
       "    <tr>\n",
       "      <th>sg_200_7</th>\n",
       "      <td>[(xsoviet, 0.807157576084137), (crime, 0.78833...</td>\n",
       "      <td>[(dictatorship, 0.8981454372406006), (moslem, ...</td>\n",
       "      <td>[(careful, 0.8562300205230713), (honest, 0.854...</td>\n",
       "      <td>[(clothing, 0.901617705821991), (babies, 0.877...</td>\n",
       "      <td>[(husbands, 0.9211340546607971), (ancestors, 0...</td>\n",
       "      <td>[(element, 0.9483727216720581), (abandon, 0.94...</td>\n",
       "      <td>[(promote, 0.9470370411872864), (indirectly, 0...</td>\n",
       "      <td>[(fredom, 0.86467444896698), (psychology, 0.84...</td>\n",
       "      <td>[(fate, 0.8046351671218872), (mothers, 0.79156...</td>\n",
       "      <td>[(electrical, 0.7914138436317444), (engineerin...</td>\n",
       "    </tr>\n",
       "    <tr>\n",
       "      <th>cbow_50_3</th>\n",
       "      <td>[(greek, 0.7928274869918823), (territories, 0....</td>\n",
       "      <td>[(forces, 0.8862621188163757), (azeri, 0.88594...</td>\n",
       "      <td>[(confusing, 0.9049172401428223), (comfortable...</td>\n",
       "      <td>[(trucks, 0.919986367225647), (minimal, 0.9139...</td>\n",
       "      <td>[(mothers, 0.9661276340484619), (wives, 0.9611...</td>\n",
       "      <td>[(steps, 0.9725327491760254), (youngsters, 0.9...</td>\n",
       "      <td>[(reduction, 0.9650214910507202), (characteriz...</td>\n",
       "      <td>[(computers, 0.921135663986206), (core, 0.9075...</td>\n",
       "      <td>[(sons, 0.8635645508766174), (escaped, 0.86204...</td>\n",
       "      <td>[(voice, 0.8237599730491638), (network, 0.8104...</td>\n",
       "    </tr>\n",
       "    <tr>\n",
       "      <th>cbow_50_5</th>\n",
       "      <td>[(xsoviet, 0.8273578882217407), (fascist, 0.80...</td>\n",
       "      <td>[(dictatorship, 0.9162772297859192), (organize...</td>\n",
       "      <td>[(willing, 0.8881098628044128), (comfortable, ...</td>\n",
       "      <td>[(wives, 0.9096857905387878), (knives, 0.90783...</td>\n",
       "      <td>[(husbands, 0.9478599429130554), (hearts, 0.93...</td>\n",
       "      <td>[(steps, 0.9600652456283569), (feeding, 0.9576...</td>\n",
       "      <td>[(promote, 0.9569424986839294), (directed, 0.9...</td>\n",
       "      <td>[(core, 0.874677836894989), (mechanics, 0.8705...</td>\n",
       "      <td>[(knives, 0.8220553994178772), (leaving, 0.820...</td>\n",
       "      <td>[(network, 0.8103729486465454), (science, 0.80...</td>\n",
       "    </tr>\n",
       "    <tr>\n",
       "      <th>cbow_50_7</th>\n",
       "      <td>[(xsoviet, 0.8323005437850952), (greek, 0.8192...</td>\n",
       "      <td>[(dictatorship, 0.8901408910751343), (forces, ...</td>\n",
       "      <td>[(careful, 0.8757197856903076), (enjoy, 0.8647...</td>\n",
       "      <td>[(wives, 0.8991529941558838), (clothing, 0.897...</td>\n",
       "      <td>[(hosts, 0.9286932349205017), (sisters, 0.9258...</td>\n",
       "      <td>[(element, 0.9522138833999634), (discipline, 0...</td>\n",
       "      <td>[(objected, 0.9532362818717957), (abuses, 0.94...</td>\n",
       "      <td>[(fredom, 0.8525769114494324), (psychology, 0....</td>\n",
       "      <td>[(fate, 0.7959296703338623), (millions, 0.7903...</td>\n",
       "      <td>[(network, 0.7938448786735535), (science, 0.78...</td>\n",
       "    </tr>\n",
       "    <tr>\n",
       "      <th>cbow_100_3</th>\n",
       "      <td>[(xsoviet, 0.7732653617858887), (greek, 0.7655...</td>\n",
       "      <td>[(azeri, 0.8809871673583984), (ottoman, 0.8758...</td>\n",
       "      <td>[(surprised, 0.9032120108604431), (confusing, ...</td>\n",
       "      <td>[(trucks, 0.9195510745048523), (jobs, 0.908454...</td>\n",
       "      <td>[(husbands, 0.9672143459320068), (ears, 0.9585...</td>\n",
       "      <td>[(shelter, 0.9618121385574341), (expense, 0.96...</td>\n",
       "      <td>[(injustice, 0.9697826504707336), (characteriz...</td>\n",
       "      <td>[(computers, 0.928633987903595), (welfare, 0.9...</td>\n",
       "      <td>[(escaped, 0.8720951676368713), (japanese, 0.8...</td>\n",
       "      <td>[(voice, 0.862779438495636), (engineering, 0.8...</td>\n",
       "    </tr>\n",
       "    <tr>\n",
       "      <th>cbow_100_5</th>\n",
       "      <td>[(xsoviet, 0.8036972880363464), (greek, 0.7835...</td>\n",
       "      <td>[(dictatorship, 0.8955327868461609), (forces, ...</td>\n",
       "      <td>[(comfortable, 0.8726111054420471), (glad, 0.8...</td>\n",
       "      <td>[(axes, 0.8943283557891846), (wives, 0.8938004...</td>\n",
       "      <td>[(husbands, 0.9391360878944397), (chances, 0.9...</td>\n",
       "      <td>[(feeding, 0.9536522030830383), (steps, 0.9475...</td>\n",
       "      <td>[(promote, 0.9521508812904358), (characterized...</td>\n",
       "      <td>[(core, 0.8733132481575012), (strengthen, 0.86...</td>\n",
       "      <td>[(fate, 0.8170582056045532), (millions, 0.8082...</td>\n",
       "      <td>[(engineering, 0.7942942380905151), (equipment...</td>\n",
       "    </tr>\n",
       "    <tr>\n",
       "      <th>cbow_100_7</th>\n",
       "      <td>[(xsoviet, 0.7987973690032959), (removing, 0.7...</td>\n",
       "      <td>[(dictatorship, 0.8958802819252014), (moslem, ...</td>\n",
       "      <td>[(careful, 0.8588906526565552), (glad, 0.85569...</td>\n",
       "      <td>[(clothing, 0.8817934989929199), (burn, 0.8788...</td>\n",
       "      <td>[(husbands, 0.913381814956665), (ancestors, 0....</td>\n",
       "      <td>[(element, 0.9566784501075745), (abandon, 0.94...</td>\n",
       "      <td>[(legitimacy, 0.9507507681846619), (promote, 0...</td>\n",
       "      <td>[(fredom, 0.8567179441452026), (psychology, 0....</td>\n",
       "      <td>[(mothers, 0.7803947925567627), (fate, 0.77916...</td>\n",
       "      <td>[(electrical, 0.786733865737915), (science, 0....</td>\n",
       "    </tr>\n",
       "    <tr>\n",
       "      <th>cbow_200_3</th>\n",
       "      <td>[(genocide, 0.7881043553352356), (forces, 0.78...</td>\n",
       "      <td>[(russian, 0.8871954083442688), (forces, 0.869...</td>\n",
       "      <td>[(careful, 0.9035475850105286), (lucky, 0.9031...</td>\n",
       "      <td>[(fewer, 0.9280627965927124), (jobs, 0.9272875...</td>\n",
       "      <td>[(husbands, 0.9705095887184143), (mothers, 0.9...</td>\n",
       "      <td>[(respecting, 0.9599226713180542), (regain, 0....</td>\n",
       "      <td>[(heavily, 0.9724051356315613), (entertain, 0....</td>\n",
       "      <td>[(administrative, 0.9153444766998291), (separa...</td>\n",
       "      <td>[(brother, 0.8665512204170227), (mothers, 0.86...</td>\n",
       "      <td>[(network, 0.8645963668823242), (engineering, ...</td>\n",
       "    </tr>\n",
       "    <tr>\n",
       "      <th>cbow_200_5</th>\n",
       "      <td>[(xsoviet, 0.8066669702529907), (movement, 0.7...</td>\n",
       "      <td>[(moslem, 0.890616774559021), (dictatorship, 0...</td>\n",
       "      <td>[(comfortable, 0.9116938710212708), (careful, ...</td>\n",
       "      <td>[(howling, 0.905659556388855), (clothing, 0.89...</td>\n",
       "      <td>[(inferior, 0.9261009693145752), (clothing, 0....</td>\n",
       "      <td>[(permits, 0.9517191052436829), (abandon, 0.95...</td>\n",
       "      <td>[(promote, 0.9631800055503845), (wellknown, 0....</td>\n",
       "      <td>[(labor, 0.8831012845039368), (objectives, 0.8...</td>\n",
       "      <td>[(fate, 0.8395838141441345), (attackers, 0.839...</td>\n",
       "      <td>[(voice, 0.8141821026802063), (engineering, 0....</td>\n",
       "    </tr>\n",
       "    <tr>\n",
       "      <th>cbow_200_7</th>\n",
       "      <td>[(xsoviet, 0.8384032249450684), (greece, 0.814...</td>\n",
       "      <td>[(dictatorship, 0.8854653239250183), (moslem, ...</td>\n",
       "      <td>[(confusing, 0.8708259463310242), (strongly, 0...</td>\n",
       "      <td>[(defenceless, 0.8776113390922546), (passports...</td>\n",
       "      <td>[(feared, 0.923629879951477), (hearts, 0.91840...</td>\n",
       "      <td>[(feeding, 0.9500338435173035), (boycott, 0.94...</td>\n",
       "      <td>[(objected, 0.9533417820930481), (dominant, 0....</td>\n",
       "      <td>[(psychology, 0.8550004959106445), (fredom, 0....</td>\n",
       "      <td>[(fate, 0.8149391412734985), (tortures, 0.7913...</td>\n",
       "      <td>[(engineering, 0.8194853067398071), (electrica...</td>\n",
       "    </tr>\n",
       "  </tbody>\n",
       "</table>\n",
       "</div>"
      ],
      "text/plain": [
       "                                                   government  \\\n",
       "sg_50_3     [(greek, 0.804038941860199), (policies, 0.7906...   \n",
       "sg_50_5     [(greek, 0.8535125255584717), (genocide, 0.847...   \n",
       "sg_50_7     [(xsoviet, 0.836116373538971), (removing, 0.81...   \n",
       "sg_100_3    [(greek, 0.7724157571792603), (xsoviet, 0.7724...   \n",
       "sg_100_5    [(xsoviet, 0.7944872975349426), (greek, 0.7880...   \n",
       "sg_100_7    [(fascist, 0.8196161985397339), (xsoviet, 0.81...   \n",
       "sg_200_3    [(genocide, 0.7920501828193665), (forces, 0.77...   \n",
       "sg_200_5    [(greek, 0.8036022186279297), (xsoviet, 0.7999...   \n",
       "sg_200_7    [(xsoviet, 0.807157576084137), (crime, 0.78833...   \n",
       "cbow_50_3   [(greek, 0.7928274869918823), (territories, 0....   \n",
       "cbow_50_5   [(xsoviet, 0.8273578882217407), (fascist, 0.80...   \n",
       "cbow_50_7   [(xsoviet, 0.8323005437850952), (greek, 0.8192...   \n",
       "cbow_100_3  [(xsoviet, 0.7732653617858887), (greek, 0.7655...   \n",
       "cbow_100_5  [(xsoviet, 0.8036972880363464), (greek, 0.7835...   \n",
       "cbow_100_7  [(xsoviet, 0.7987973690032959), (removing, 0.7...   \n",
       "cbow_200_3  [(genocide, 0.7881043553352356), (forces, 0.78...   \n",
       "cbow_200_5  [(xsoviet, 0.8066669702529907), (movement, 0.7...   \n",
       "cbow_200_7  [(xsoviet, 0.8384032249450684), (greece, 0.814...   \n",
       "\n",
       "                                                         army  \\\n",
       "sg_50_3     [(ottoman, 0.8858816623687744), (forces, 0.885...   \n",
       "sg_50_5     [(russian, 0.8825209140777588), (dictatorship,...   \n",
       "sg_50_7     [(dictatorship, 0.9182860851287842), (organize...   \n",
       "sg_100_3    [(forces, 0.8722518086433411), (azeri, 0.87006...   \n",
       "sg_100_5    [(dictatorship, 0.9032689929008484), (moslem, ...   \n",
       "sg_100_7    [(dictatorship, 0.8783590197563171), (slaughte...   \n",
       "sg_200_3    [(moslem, 0.8863533735275269), (azeri, 0.88231...   \n",
       "sg_200_5    [(moslem, 0.896993100643158), (dictatorship, 0...   \n",
       "sg_200_7    [(dictatorship, 0.8981454372406006), (moslem, ...   \n",
       "cbow_50_3   [(forces, 0.8862621188163757), (azeri, 0.88594...   \n",
       "cbow_50_5   [(dictatorship, 0.9162772297859192), (organize...   \n",
       "cbow_50_7   [(dictatorship, 0.8901408910751343), (forces, ...   \n",
       "cbow_100_3  [(azeri, 0.8809871673583984), (ottoman, 0.8758...   \n",
       "cbow_100_5  [(dictatorship, 0.8955327868461609), (forces, ...   \n",
       "cbow_100_7  [(dictatorship, 0.8958802819252014), (moslem, ...   \n",
       "cbow_200_3  [(russian, 0.8871954083442688), (forces, 0.869...   \n",
       "cbow_200_5  [(moslem, 0.890616774559021), (dictatorship, 0...   \n",
       "cbow_200_7  [(dictatorship, 0.8854653239250183), (moslem, ...   \n",
       "\n",
       "                                                        happy  \\\n",
       "sg_50_3     [(surprised, 0.9102444648742676), (proud, 0.90...   \n",
       "sg_50_5     [(careful, 0.8871726989746094), (comfortable, ...   \n",
       "sg_50_7     [(careful, 0.8877199292182922), (confusing, 0....   \n",
       "sg_100_3    [(surprised, 0.9026287794113159), (glad, 0.893...   \n",
       "sg_100_5    [(confusing, 0.8958973288536072), (careful, 0....   \n",
       "sg_100_7    [(bet, 0.879052996635437), (glad, 0.8663113117...   \n",
       "sg_200_3    [(confusing, 0.9133730530738831), (lucky, 0.90...   \n",
       "sg_200_5    [(confusing, 0.8820159435272217), (careful, 0....   \n",
       "sg_200_7    [(careful, 0.8562300205230713), (honest, 0.854...   \n",
       "cbow_50_3   [(confusing, 0.9049172401428223), (comfortable...   \n",
       "cbow_50_5   [(willing, 0.8881098628044128), (comfortable, ...   \n",
       "cbow_50_7   [(careful, 0.8757197856903076), (enjoy, 0.8647...   \n",
       "cbow_100_3  [(surprised, 0.9032120108604431), (confusing, ...   \n",
       "cbow_100_5  [(comfortable, 0.8726111054420471), (glad, 0.8...   \n",
       "cbow_100_7  [(careful, 0.8588906526565552), (glad, 0.85569...   \n",
       "cbow_200_3  [(careful, 0.9035475850105286), (lucky, 0.9031...   \n",
       "cbow_200_5  [(comfortable, 0.9116938710212708), (careful, ...   \n",
       "cbow_200_7  [(confusing, 0.8708259463310242), (strongly, 0...   \n",
       "\n",
       "                                                         food  \\\n",
       "sg_50_3     [(trucks, 0.9271546602249146), (minimal, 0.917...   \n",
       "sg_50_5     [(friendly, 0.9072898030281067), (wives, 0.903...   \n",
       "sg_50_7     [(wives, 0.8881337642669678), (clothing, 0.885...   \n",
       "sg_100_3    [(trucks, 0.9336310029029846), (jobs, 0.915132...   \n",
       "sg_100_5    [(babies, 0.8926121592521667), (clothing, 0.88...   \n",
       "sg_100_7    [(clothing, 0.8769946694374084), (tenant, 0.87...   \n",
       "sg_200_3    [(babies, 0.911504864692688), (clothing, 0.906...   \n",
       "sg_200_5    [(burn, 0.8931429386138916), (howling, 0.88812...   \n",
       "sg_200_7    [(clothing, 0.901617705821991), (babies, 0.877...   \n",
       "cbow_50_3   [(trucks, 0.919986367225647), (minimal, 0.9139...   \n",
       "cbow_50_5   [(wives, 0.9096857905387878), (knives, 0.90783...   \n",
       "cbow_50_7   [(wives, 0.8991529941558838), (clothing, 0.897...   \n",
       "cbow_100_3  [(trucks, 0.9195510745048523), (jobs, 0.908454...   \n",
       "cbow_100_5  [(axes, 0.8943283557891846), (wives, 0.8938004...   \n",
       "cbow_100_7  [(clothing, 0.8817934989929199), (burn, 0.8788...   \n",
       "cbow_200_3  [(fewer, 0.9280627965927124), (jobs, 0.9272875...   \n",
       "cbow_200_5  [(howling, 0.905659556388855), (clothing, 0.89...   \n",
       "cbow_200_7  [(defenceless, 0.8776113390922546), (passports...   \n",
       "\n",
       "                                                        pride  \\\n",
       "sg_50_3     [(husbands, 0.9686049222946167), (mothers, 0.9...   \n",
       "sg_50_5     [(hearts, 0.9454027414321899), (husbands, 0.94...   \n",
       "sg_50_7     [(husbands, 0.9269348978996277), (ancestors, 0...   \n",
       "sg_100_3    [(husbands, 0.966575026512146), (ears, 0.95711...   \n",
       "sg_100_5    [(husbands, 0.9234886169433594), (colleagues, ...   \n",
       "sg_100_7    [(affected, 0.9152090549468994), (ancestors, 0...   \n",
       "sg_200_3    [(husbands, 0.9670428037643433), (mothers, 0.9...   \n",
       "sg_200_5    [(husbands, 0.9505138993263245), (hosts, 0.933...   \n",
       "sg_200_7    [(husbands, 0.9211340546607971), (ancestors, 0...   \n",
       "cbow_50_3   [(mothers, 0.9661276340484619), (wives, 0.9611...   \n",
       "cbow_50_5   [(husbands, 0.9478599429130554), (hearts, 0.93...   \n",
       "cbow_50_7   [(hosts, 0.9286932349205017), (sisters, 0.9258...   \n",
       "cbow_100_3  [(husbands, 0.9672143459320068), (ears, 0.9585...   \n",
       "cbow_100_5  [(husbands, 0.9391360878944397), (chances, 0.9...   \n",
       "cbow_100_7  [(husbands, 0.913381814956665), (ancestors, 0....   \n",
       "cbow_200_3  [(husbands, 0.9705095887184143), (mothers, 0.9...   \n",
       "cbow_200_5  [(inferior, 0.9261009693145752), (clothing, 0....   \n",
       "cbow_200_7  [(feared, 0.923629879951477), (hearts, 0.91840...   \n",
       "\n",
       "                                                       wealth  \\\n",
       "sg_50_3     [(steps, 0.9660560488700867), (substance, 0.96...   \n",
       "sg_50_5     [(permits, 0.9637768864631653), (element, 0.94...   \n",
       "sg_50_7     [(element, 0.9534955620765686), (tendency, 0.9...   \n",
       "sg_100_3    [(shelter, 0.9640524983406067), (element, 0.96...   \n",
       "sg_100_5    [(proportional, 0.9533584117889404), (permits,...   \n",
       "sg_100_7    [(covering, 0.9431804418563843), (element, 0.9...   \n",
       "sg_200_3    [(pool, 0.9658800363540649), (sysadmin, 0.9644...   \n",
       "sg_200_5    [(element, 0.9557851552963257), (attribute, 0....   \n",
       "sg_200_7    [(element, 0.9483727216720581), (abandon, 0.94...   \n",
       "cbow_50_3   [(steps, 0.9725327491760254), (youngsters, 0.9...   \n",
       "cbow_50_5   [(steps, 0.9600652456283569), (feeding, 0.9576...   \n",
       "cbow_50_7   [(element, 0.9522138833999634), (discipline, 0...   \n",
       "cbow_100_3  [(shelter, 0.9618121385574341), (expense, 0.96...   \n",
       "cbow_100_5  [(feeding, 0.9536522030830383), (steps, 0.9475...   \n",
       "cbow_100_7  [(element, 0.9566784501075745), (abandon, 0.94...   \n",
       "cbow_200_3  [(respecting, 0.9599226713180542), (regain, 0....   \n",
       "cbow_200_5  [(permits, 0.9517191052436829), (abandon, 0.95...   \n",
       "cbow_200_7  [(feeding, 0.9500338435173035), (boycott, 0.94...   \n",
       "\n",
       "                                                 overwhelming  \\\n",
       "sg_50_3     [(reduction, 0.9647369980812073), (defining, 0...   \n",
       "sg_50_5     [(reduction, 0.9561704397201538), (determining...   \n",
       "sg_50_7     [(legitimacy, 0.9583801627159119), (promote, 0...   \n",
       "sg_100_3    [(injustice, 0.9650481343269348), (characteriz...   \n",
       "sg_100_5    [(dominant, 0.9538147449493408), (abuses, 0.95...   \n",
       "sg_100_7    [(blatant, 0.9583725333213806), (unacceptable,...   \n",
       "sg_200_3    [(rushdies, 0.963191568851471), (reduction, 0....   \n",
       "sg_200_5    [(unacceptable, 0.9640464186668396), (mercy, 0...   \n",
       "sg_200_7    [(promote, 0.9470370411872864), (indirectly, 0...   \n",
       "cbow_50_3   [(reduction, 0.9650214910507202), (characteriz...   \n",
       "cbow_50_5   [(promote, 0.9569424986839294), (directed, 0.9...   \n",
       "cbow_50_7   [(objected, 0.9532362818717957), (abuses, 0.94...   \n",
       "cbow_100_3  [(injustice, 0.9697826504707336), (characteriz...   \n",
       "cbow_100_5  [(promote, 0.9521508812904358), (characterized...   \n",
       "cbow_100_7  [(legitimacy, 0.9507507681846619), (promote, 0...   \n",
       "cbow_200_3  [(heavily, 0.9724051356315613), (entertain, 0....   \n",
       "cbow_200_5  [(promote, 0.9631800055503845), (wellknown, 0....   \n",
       "cbow_200_7  [(objected, 0.9533417820930481), (dominant, 0....   \n",
       "\n",
       "                                                    education  \\\n",
       "sg_50_3     [(computers, 0.916782021522522), (administrati...   \n",
       "sg_50_5     [(fredom, 0.8925520181655884), (administrative...   \n",
       "sg_50_7     [(fredom, 0.9046643972396851), (psychology, 0....   \n",
       "sg_100_3    [(computers, 0.926155149936676), (labor, 0.920...   \n",
       "sg_100_5    [(administrative, 0.8813538551330566), (core, ...   \n",
       "sg_100_7    [(tourism, 0.8386237621307373), (objectives, 0...   \n",
       "sg_200_3    [(condescending, 0.9098212122917175), (labor, ...   \n",
       "sg_200_5    [(fredom, 0.8822068572044373), (welfare, 0.881...   \n",
       "sg_200_7    [(fredom, 0.86467444896698), (psychology, 0.84...   \n",
       "cbow_50_3   [(computers, 0.921135663986206), (core, 0.9075...   \n",
       "cbow_50_5   [(core, 0.874677836894989), (mechanics, 0.8705...   \n",
       "cbow_50_7   [(fredom, 0.8525769114494324), (psychology, 0....   \n",
       "cbow_100_3  [(computers, 0.928633987903595), (welfare, 0.9...   \n",
       "cbow_100_5  [(core, 0.8733132481575012), (strengthen, 0.86...   \n",
       "cbow_100_7  [(fredom, 0.8567179441452026), (psychology, 0....   \n",
       "cbow_200_3  [(administrative, 0.9153444766998291), (separa...   \n",
       "cbow_200_5  [(labor, 0.8831012845039368), (objectives, 0.8...   \n",
       "cbow_200_7  [(psychology, 0.8550004959106445), (fredom, 0....   \n",
       "\n",
       "                                                       family  \\\n",
       "sg_50_3     [(escaped, 0.8627897500991821), (dozens, 0.848...   \n",
       "sg_50_5     [(whom, 0.8423151969909668), (attackers, 0.835...   \n",
       "sg_50_7     [(mothers, 0.8127586841583252), (fate, 0.81243...   \n",
       "sg_100_3    [(escaped, 0.865105152130127), (japanese, 0.85...   \n",
       "sg_100_5    [(vast, 0.8456628322601318), (mothers, 0.84342...   \n",
       "sg_100_7    [(fate, 0.8041701316833496), (travel, 0.774843...   \n",
       "sg_200_3    [(mothers, 0.8618623614311218), (leaving, 0.85...   \n",
       "sg_200_5    [(millions, 0.8485229015350342), (pictures, 0....   \n",
       "sg_200_7    [(fate, 0.8046351671218872), (mothers, 0.79156...   \n",
       "cbow_50_3   [(sons, 0.8635645508766174), (escaped, 0.86204...   \n",
       "cbow_50_5   [(knives, 0.8220553994178772), (leaving, 0.820...   \n",
       "cbow_50_7   [(fate, 0.7959296703338623), (millions, 0.7903...   \n",
       "cbow_100_3  [(escaped, 0.8720951676368713), (japanese, 0.8...   \n",
       "cbow_100_5  [(fate, 0.8170582056045532), (millions, 0.8082...   \n",
       "cbow_100_7  [(mothers, 0.7803947925567627), (fate, 0.77916...   \n",
       "cbow_200_3  [(brother, 0.8665512204170227), (mothers, 0.86...   \n",
       "cbow_200_5  [(fate, 0.8395838141441345), (attackers, 0.839...   \n",
       "cbow_200_7  [(fate, 0.8149391412734985), (tortures, 0.7913...   \n",
       "\n",
       "                                                     computer  \n",
       "sg_50_3     [(voice, 0.8226866722106934), (network, 0.8091...  \n",
       "sg_50_5     [(science, 0.8152944445610046), (fax, 0.812277...  \n",
       "sg_50_7     [(science, 0.8129076957702637), (electrical, 0...  \n",
       "sg_100_3    [(voice, 0.8510004281997681), (engineering, 0....  \n",
       "sg_100_5    [(science, 0.816775381565094), (electrical, 0....  \n",
       "sg_100_7    [(electrical, 0.8056811094284058), (science, 0...  \n",
       "sg_200_3    [(phone, 0.8377620577812195), (voice, 0.832298...  \n",
       "sg_200_5    [(mechanical, 0.8181391358375549), (electrical...  \n",
       "sg_200_7    [(electrical, 0.7914138436317444), (engineerin...  \n",
       "cbow_50_3   [(voice, 0.8237599730491638), (network, 0.8104...  \n",
       "cbow_50_5   [(network, 0.8103729486465454), (science, 0.80...  \n",
       "cbow_50_7   [(network, 0.7938448786735535), (science, 0.78...  \n",
       "cbow_100_3  [(voice, 0.862779438495636), (engineering, 0.8...  \n",
       "cbow_100_5  [(engineering, 0.7942942380905151), (equipment...  \n",
       "cbow_100_7  [(electrical, 0.786733865737915), (science, 0....  \n",
       "cbow_200_3  [(network, 0.8645963668823242), (engineering, ...  \n",
       "cbow_200_5  [(voice, 0.8141821026802063), (engineering, 0....  \n",
       "cbow_200_7  [(engineering, 0.8194853067398071), (electrica...  "
      ]
     },
     "execution_count": 93,
     "metadata": {},
     "output_type": "execute_result"
    }
   ],
   "source": [
    "agg_results"
   ]
  },
  {
   "cell_type": "code",
   "execution_count": 94,
   "metadata": {},
   "outputs": [],
   "source": [
    "agg_results.to_csv('results_test.csv')"
   ]
  }
 ],
 "metadata": {
  "kernelspec": {
   "display_name": "Python 3",
   "language": "python",
   "name": "python3"
  },
  "language_info": {
   "codemirror_mode": {
    "name": "ipython",
    "version": 3
   },
   "file_extension": ".py",
   "mimetype": "text/x-python",
   "name": "python",
   "nbconvert_exporter": "python",
   "pygments_lexer": "ipython3",
   "version": "3.7.9"
  }
 },
 "nbformat": 4,
 "nbformat_minor": 4
}
