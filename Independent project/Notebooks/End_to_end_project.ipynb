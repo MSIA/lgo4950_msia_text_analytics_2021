{
 "cells": [
  {
   "cell_type": "markdown",
   "metadata": {},
   "source": [
    "# Read in raw data, transform and run classification model"
   ]
  },
  {
   "cell_type": "code",
   "execution_count": 1,
   "metadata": {},
   "outputs": [],
   "source": [
    "import numpy as np\n",
    "import pandas as pd\n",
    "import regex as re\n",
    "import json\n",
    "import sklearn\n",
    "import eli5\n",
    "\n",
    "from nltk.tokenize import word_tokenize\n",
    "from sklearn.utils import shuffle\n",
    "from sklearn import metrics\n",
    "from sklearn.linear_model import LogisticRegression\n",
    "from sklearn.metrics import confusion_matrix\n",
    "from sklearn.feature_extraction.text import CountVectorizer, TfidfVectorizer\n",
    "from sklearn.model_selection import train_test_split\n",
    "\n",
    "import warnings\n",
    "warnings.filterwarnings(\"ignore\")"
   ]
  },
  {
   "cell_type": "code",
   "execution_count": 2,
   "metadata": {},
   "outputs": [],
   "source": [
    "def convert_json_review_to_pd(json_path):\n",
    "    ''' Takes jason path, reads in all entries, then returns pd dataframe object'''\n",
    "\n",
    "    # Read in json file\n",
    "    reviews = []\n",
    "    with open(json_path) as json_file:\n",
    "        for rec in json_file:\n",
    "            dic = json.loads(rec)\n",
    "            reviews.append(dic)\n",
    "\n",
    "    # Return pd dataframe object\n",
    "    reviews_pd = pd.DataFrame.from_records(reviews)\n",
    "\n",
    "    return reviews_pd\n",
    "\n",
    "\n",
    "def prepare_text(text):\n",
    "    '''Cleaning and tokenizing text for analysis'''\n",
    "\n",
    "    text = str(text)\n",
    "\n",
    "    # Replace contractions with full text form\n",
    "    text = text.split()\n",
    "    new_text = []\n",
    "    for word in text:\n",
    "        if word in contractions:\n",
    "            new_text.append(contractions[word])\n",
    "        else:\n",
    "            new_text.append(word)\n",
    "    text = \" \".join(new_text)\n",
    "\n",
    "    # Removal of white space\n",
    "    text = re.sub('\\s+', ' ', text)\n",
    "    # Removal of digits\n",
    "    text = re.sub(r'\\d+', '', text)\n",
    "\n",
    "    # Convert words to lower case\n",
    "    text = text.lower()\n",
    "\n",
    "    # Remove other signs including punctuation\n",
    "    text = re.sub(r'[_\"\\-;%()|+&=*%.,!?:#$@\\[\\]/]', ' ', text)\n",
    "    text = re.sub(r'\\'', ' ', text)\n",
    "\n",
    "    return text\n",
    "\n",
    "\n",
    "def preprocess(df):\n",
    "    ''' Takes raw pd dataframe object, keeps only rating and star review, then balances set for equal balance\n",
    "    between 1/2 star reviews and 4/5 star reviews '''\n",
    "\n",
    "    # Select only subset of columns\n",
    "    df = df[['overall', 'reviewText']]\n",
    "\n",
    "    # Remove average ratings (3 stars)\n",
    "    df = df[df['overall'] != 3]\n",
    "\n",
    "    # Group poor and strong ratings together (1 and 2 vs 4 and 5)\n",
    "    df['overall'] = np.where(df['overall'] <= 2, 1, 5)\n",
    "\n",
    "    # Split low and high scores\n",
    "    low_scores = df[df['overall'] == 1].reset_index()\n",
    "    high_scores = df[df['overall'] == 5].reset_index()\n",
    "\n",
    "    # Select number of rows such that dataset is balanced\n",
    "    min_rows = min(low_scores.shape[0], high_scores.shape[0]) - 1\n",
    "    low_scores = low_scores[0:min_rows]\n",
    "    high_scores = high_scores[0:min_rows]\n",
    "\n",
    "    # Re-merge low and high scores\n",
    "    df = low_scores.append(high_scores)\n",
    "\n",
    "    # Shuffle resulting df\n",
    "    df = shuffle(df).reset_index()\n",
    "\n",
    "    # Complete pre-processing step\n",
    "    df['clean_text'] = list(map(prepare_text, df['reviewText']))\n",
    "\n",
    "    return df\n",
    "\n",
    "\n",
    "contractions = {\"ain't\": \"am not\", \"aren't\": \"are not\", \"can't\": \"cannot\", \"can't've\": \"cannot have\",\n",
    "                \"'cause\": \"because\", \"could've\": \"could have\", \"couldn't\": \"could not\", \"couldn't've\": \"could not have\",\n",
    "                \"didn't\": \"did not\", \"doesn't\": \"does not\", \"don't\": \"do not\",\n",
    "                \"hadn't\": \"had not\", \"hadn't've\": \"had not have\", \"hasn't\": \"has not\",\n",
    "                \"haven't\": \"have not\", \"he'd\": \"he would\", \"he'd've\": \"he would have\",\n",
    "                \"he'll\": \"he will\", \"he's\": \"he is\", \"how'd\": \"how did\", \"how'll\": \"how will\",\n",
    "                \"how's\": \"how is\", \"i'd\": \"i would\", \"i'll\": \"i will\", \"i'm\": \"i am\", \"i've\": \"i have\",\n",
    "                \"isn't\": \"is not\", \"it'd\": \"it would\", \"it'll\": \"it will\", \"it's\": \"it is\", \"let's\": \"let us\",\n",
    "                \"ma'am\": \"madam\", \"mayn't\": \"may not\", \"might've\": \"might have\", \"mightn't\": \"might not\",\n",
    "                \"must've\": \"must have\", \"mustn't\": \"must not\", \"needn't\": \"need not\", \"oughtn't\": \"ought not\",\n",
    "                \"shan't\": \"shall not\", \"sha'n't\": \"shall not\", \"she'd\": \"she would\", \"she'll\": \"she will\",\n",
    "                \"she's\": \"she is\", \"should've\": \"should have\", \"shouldn't\": \"should not\", \"that'd\": \"that would\",\n",
    "                \"that's\": \"that is\", \"there'd\": \"there had\", \"there's\": \"there is\", \"they'd\": \"they would\",\n",
    "                \"they'll\": \"they will\", \"they're\": \"they are\", \"they've\": \"they have\", \"wasn't\": \"was not\",\n",
    "                \"we'd\": \"we would\", \"we'll\": \"we will\", \"we're\": \"we are\", \"we've\": \"we have\",\n",
    "                \"weren't\": \"were not\", \"what'll\": \"what will\", \"what're\": \"what are\", \"what's\": \"what is\",\n",
    "                \"what've\": \"what have\", \"where'd\": \"where did\", \"where's\": \"where is\", \"who'll\": \"who will\",\n",
    "                \"who's\": \"who is\", \"won't\": \"will not\", \"wouldn't\": \"would not\", \"you'd\": \"you would\",\n",
    "                \"you'll\": \"you will\", \"you're\": \"you are\"}\n",
    "\n",
    "\n",
    "def run_logistic_reg(df, product_category_name):\n",
    "    '''Takes in pd df, then creates embeddings, trains logistic regression and returns most important parameters '''\n",
    "\n",
    "    # Split train and test set\n",
    "    training_data, test_data = train_test_split(df, train_size=0.8, random_state=123)\n",
    "    te_y = test_data['overall']\n",
    "\n",
    "    # Creating unigram + bigram embeddings\n",
    "    vectorizer = TfidfVectorizer(stop_words='english', ngram_range=(1, 1),\n",
    "                                 min_df=3, lowercase=True, max_features=100000)\n",
    "    bow_representation = vectorizer.fit_transform(training_data['clean_text'])\n",
    "    bow_representation_test = vectorizer.transform(test_data['clean_text'])\n",
    "\n",
    "    best_logit = LogisticRegression(C=1, solver='liblinear',\n",
    "                                    penalty='l1', max_iter=1000).fit(bow_representation, training_data['overall'])\n",
    "\n",
    "    # predict\n",
    "    y_test_pred = best_logit.predict(bow_representation_test)\n",
    "\n",
    "    # Evaluate model\n",
    "    c_matrix_test = confusion_matrix(te_y, y_test_pred)\n",
    "    # Accuracy\n",
    "    acc = np.round(sklearn.metrics.accuracy_score(te_y, y_test_pred), 5)\n",
    "    # Precision\n",
    "    prec = np.round(sklearn.metrics.precision_score(te_y, y_test_pred, average=None), 3)\n",
    "    prec_micro = np.round(sklearn.metrics.precision_score(te_y, y_test_pred, average='micro'), 5)\n",
    "    # Recall\n",
    "    rec = np.round(sklearn.metrics.recall_score(te_y, y_test_pred, average=None), 3)\n",
    "    rec_micro = np.round(sklearn.metrics.recall_score(te_y, y_test_pred, average='micro'), 5)\n",
    "    # F1\n",
    "    f1 = np.round(sklearn.metrics.f1_score(te_y, y_test_pred, average=None), 3)\n",
    "    f1_micro = np.round(sklearn.metrics.f1_score(te_y, y_test_pred, average='micro'), 5)\n",
    "\n",
    "    # Print model results\n",
    "    print('Acc: ', acc, ' Prec: ', prec, ' Rec: ', rec, ' f1: ', f1)\n",
    "\n",
    "    # Extract vector names\n",
    "    # feature_names = vectorizer.get_feature_names_out()\n",
    "    feature_names = vectorizer.get_feature_names()\n",
    "\n",
    "    # Create summary pd\n",
    "    top_x, top_y = 50, 50\n",
    "    weights = eli5.show_weights(estimator=best_logit, top=(top_x, top_y),\n",
    "                                target_names=training_data['overall'])\n",
    "    result = pd.read_html(weights.data)[0]\n",
    "    result = result.drop([top_x, (top_x + 1)], axis=0)\n",
    "    result['feature_number'] = list(map(lambda x: int(x[1:]), result.Feature))\n",
    "    result['feature_name'] = list(map(lambda x: feature_names[x], result.feature_number))\n",
    "    result['weight_num'] = list(\n",
    "        map(lambda x: np.where(x[0] == \"+\", float(x[1:]), float(x[1:]) * -1), result['Weight?']))\n",
    "    result['category'] = product_category_name\n",
    "\n",
    "    return result\n",
    "\n",
    "\n",
    "def generate_results_for_category(category_name, path_to_data, product_file_path):\n",
    "    ''' Reads data, preprocesses it, runs logistic regression classification model, returns results'''\n",
    "\n",
    "    print('- Generating results for: ' + category_name)\n",
    "    \n",
    "    # Read in data\n",
    "    df = convert_json_review_to_pd(path_to_data + product_file_path)\n",
    "    \n",
    "    # Preprocess\n",
    "    df = preprocess(df)\n",
    "    df['tokenized_words'] = list(map(word_tokenize, df['clean_text']))\n",
    "    df['number_words'] = list(map(lambda n: len(n), df['tokenized_words']))   \n",
    "    \n",
    "    # Print dataset stats\n",
    "    print('Number of reviews: ' + str(df.shape[0]))\n",
    "    print('Total words: ' + str(df['number_words'].sum()))\n",
    "    \n",
    "    # Run logistic regression\n",
    "    reg_results = run_logistic_reg(df, category_name)\n",
    "    del df\n",
    "    return reg_results"
   ]
  },
  {
   "cell_type": "code",
   "execution_count": 3,
   "metadata": {},
   "outputs": [
    {
     "name": "stdout",
     "output_type": "stream",
     "text": [
      "- Generating results for: musical_instruments\n",
      "Number of reviews: 369776\n",
      "Total words: 18531520\n",
      "Acc:  0.91141  Prec:  [0.912 0.911]  Rec:  [0.911 0.912]  f1:  [0.911 0.912]\n",
      "- Generating results for: magazine_subscriptions\n",
      "Number of reviews: 32502\n",
      "Total words: 1671134\n",
      "Acc:  0.88417  Prec:  [0.873 0.897]  Rec:  [0.903 0.864]  f1:  [0.888 0.88 ]\n",
      "- Generating results for: fashion\n",
      "Number of reviews: 343594\n",
      "Total words: 10050838\n",
      "Acc:  0.91491  Prec:  [0.912 0.918]  Rec:  [0.919 0.911]  f1:  [0.915 0.915]\n",
      "- Generating results for: appliances\n",
      "Number of reviews: 160720\n",
      "Total words: 8073989\n",
      "Acc:  0.91059  Prec:  [0.906 0.916]  Rec:  [0.917 0.904]  f1:  [0.912 0.91 ]\n",
      "- Generating results for: gourmet_food\n",
      "Number of reviews: 211900\n",
      "Total words: 8882375\n",
      "Acc:  0.91034  Prec:  [0.908 0.912]  Rec:  [0.912 0.908]  f1:  [0.91 0.91]\n",
      "- Generating results for: toys_and_games\n",
      "Number of reviews: 244002\n",
      "Total words: 12524412\n",
      "Acc:  0.92535  Prec:  [0.925 0.926]  Rec:  [0.926 0.924]  f1:  [0.926 0.925]\n",
      "- Results stored\n"
     ]
    }
   ],
   "source": [
    "# Data folder path\n",
    "data_path = '/Users/louisgenereux/Desktop/Term 4/Text_analytics/Amazon reviews/Per product'\n",
    "\n",
    "# Read in data, preprocess and run classification models\n",
    "results_musical_instruments = generate_results_for_category('musical_instruments',\n",
    "                                                            data_path, '/Musical_Instruments.json')\n",
    "results_magazine_subscriptions = generate_results_for_category('magazine_subscriptions',\n",
    "                                                               data_path, '/Magazine_Subscriptions.json')\n",
    "results_fashion = generate_results_for_category('fashion', data_path, '/AMAZON_FASHION.json')\n",
    "results_appliances = generate_results_for_category('appliances', data_path, '/Appliances.json')\n",
    "results_grocery_and_food = generate_results_for_category('gourmet_food',\n",
    "                                                         data_path, '/Grocery_and_Gourmet_Food_sub.json')\n",
    "results_toys_and_games = generate_results_for_category('toys_and_games',\n",
    "                                                         data_path, '/Toys_and_Games_sub.json')\n",
    "\n",
    "results_df_list = [results_musical_instruments, results_magazine_subscriptions, results_fashion,\n",
    "                   results_appliances, results_grocery_and_food, results_toys_and_games]\n",
    "\n",
    "# Create list of all results\n",
    "results_df_list = [results_musical_instruments, results_magazine_subscriptions, results_fashion,\n",
    "                   results_appliances, results_grocery_and_food, results_toys_and_games]\n",
    "final_results = pd.DataFrame()\n",
    "for dataset in results_df_list:\n",
    "    final_results = final_results.append(dataset)\n",
    "\n",
    "final_results.to_csv('logistic_regression_parameters.csv')\n",
    "print('- Results stored')"
   ]
  },
  {
   "cell_type": "markdown",
   "metadata": {},
   "source": [
    "# Compare product categories across dimensions"
   ]
  },
  {
   "cell_type": "code",
   "execution_count": 4,
   "metadata": {},
   "outputs": [],
   "source": [
    "import numpy as np\n",
    "import pandas as pd\n",
    "import seaborn as sns\n",
    "import dataframe_image\n",
    "import matplotlib\n",
    "import matplotlib.pyplot as plt\n",
    "import matplotlib.image as mpimg\n",
    "import plotly.graph_objects as go\n",
    "\n",
    "from scipy import spatial\n",
    "from sklearn.preprocessing import MinMaxScaler\n",
    "\n",
    "import warnings\n",
    "warnings.filterwarnings(\"ignore\")"
   ]
  },
  {
   "cell_type": "code",
   "execution_count": 5,
   "metadata": {},
   "outputs": [],
   "source": [
    "def read_pretrained_embeddings(path):\n",
    "    ''' Takes file path to embeddings json file, returns full embeddings in np array format'''\n",
    "\n",
    "    embeddings_glove = {}\n",
    "    with open(path) as f:\n",
    "        for line in f:\n",
    "            word, coefs = line.split(maxsplit=1)\n",
    "            coefs = np.fromstring(coefs, \"f\", sep=\" \")\n",
    "            embeddings_glove[word] = coefs\n",
    "\n",
    "    return embeddings_glove\n",
    "\n",
    "\n",
    "def euclidean_distance_word_vectors(vector_1, vector_2):\n",
    "    ''' Takes 2 word embedding vectors, returns their euclidean distance'''\n",
    "    distance = spatial.distance.euclidean(vector_1, vector_2)\n",
    "\n",
    "    return distance\n",
    "\n",
    "\n",
    "def find_closest_n_embeddings(target_word, full_embeddings, number_nn):\n",
    "    '''\n",
    "    Takes word and embedding matrix, and produces top n nearest words to a chosen word, acroos all embeddings\n",
    "    Inputs:\n",
    "        target_word (str): Word for which we want to find nearest neighbors\n",
    "        full_embeddings (np matrix): matrix of vector encodings for all words\n",
    "        number_nn (int): number of nearest neighbors\n",
    "    Returns:\n",
    "        list of top n words (string)\n",
    "    '''\n",
    "\n",
    "    sorted_list = sorted(full_embeddings.keys(),\n",
    "                         key=lambda iteration_word: euclidean_distance_word_vectors(full_embeddings[iteration_word],\n",
    "                                                                                    full_embeddings[target_word]))\n",
    "    top_n_words = sorted_list[0:number_nn]\n",
    "    return top_n_words\n",
    "\n",
    "\n",
    "def return_n_nn_for_all_dimensions(list_of_list_dimensions, list_dimension_names, number_nn):\n",
    "    '''\n",
    "    Takes in list of words describing each dimension, returns pd dataframe listing n neareast neighbors for each word\n",
    "    Inputs:\n",
    "        list_of_list_dimensions (list of list): list of strings describing each dimension\n",
    "        list_dimension_names (list of strings): name of each dimension\n",
    "        number_nn (int): number of nearest neighbors\n",
    "    Returns:\n",
    "        pd dataframe containing the nearest neighbor to each word describing dimensions\n",
    "    '''\n",
    "\n",
    "    # Create list of all dimension nearest neighbor words\n",
    "    dimension_list = []\n",
    "    word_list = []\n",
    "    nn_list = []\n",
    "    n_dim = 0\n",
    "\n",
    "    for dimension in list_of_list_dimensions:\n",
    "        words_in_dimension = []\n",
    "        for word in dimension:\n",
    "            nn_all = find_closest_n_embeddings(word, embeddings_glove, number_nn)\n",
    "            for iter_nn in nn_all:\n",
    "                # Check that nn word is not already among nearest neighbors for this dimension\n",
    "                if (iter_nn not in words_in_dimension):\n",
    "                    words_in_dimension.append(iter_nn)\n",
    "                    dimension_list.append(list_dimension_names[n_dim])\n",
    "                    word_list.append(word)\n",
    "                    nn_list.append(iter_nn)\n",
    "        n_dim = n_dim + 1\n",
    "\n",
    "    summary_nn_words = pd.DataFrame({'dimension_list': dimension_list,\n",
    "                                     'word_list': word_list,\n",
    "                                     'nn_list': nn_list})\n",
    "    return summary_nn_words\n",
    "\n",
    "\n",
    "# MEAN OR MIN?\n",
    "def min_dist_from_dimension(word, dimension_summary, full_embeddings):\n",
    "    '''\n",
    "    Takes in a word, a pd object storing the nearest neighbors for each dimension, and a matrix object of embeddings\n",
    "    Inputs:\n",
    "        word (str): word which will be scored\n",
    "        dimension_summary (pd df): contains one row per unique dimension, word describing dimension and nn for word\n",
    "        full_embeddings (np ): matrix of vector encodings for all words\n",
    "    Returns:\n",
    "        pd dataframe containing 1 row per dimension, returning the distance of the dimension to the word\n",
    "    '''\n",
    "\n",
    "    current_dimension = dimension_summary.dimension_list[0]\n",
    "    compared_word_index = -1\n",
    "\n",
    "    dimension_list = []  # to store the dimension name\n",
    "    dimension_distance_running_list = []  # to store the distance to each word used for a dimension\n",
    "    dimension_mean_list = []  # to store the mean distance for a dimension\n",
    "\n",
    "    for compared_word in dimension_summary.nn_list:\n",
    "\n",
    "        # For every new word that is compared to a feature, increase the index\n",
    "        compared_word_index = compared_word_index + 1\n",
    "\n",
    "        # If the feature tests for the existing dimension, calculate distance, then append to running dist list\n",
    "        if (current_dimension == dimension_summary.dimension_list[compared_word_index]):\n",
    "            dist = euclidean_distance_word_vectors(full_embeddings[word], full_embeddings[compared_word])\n",
    "            dimension_distance_running_list.append(dist)\n",
    "        else:\n",
    "\n",
    "            # Calculate mean for old list\n",
    "            mean_past_dimension = np.mean(dimension_distance_running_list)\n",
    "\n",
    "            # Store all details for former dimension\n",
    "            dimension_list.append(current_dimension)\n",
    "            dimension_mean_list.append(mean_past_dimension)\n",
    "\n",
    "            # Change current dimension and re-initialize list\n",
    "            current_dimension = dimension_summary.dimension_list[compared_word_index]\n",
    "            dimension_distance_running_list = []\n",
    "\n",
    "            # Append first value to list\n",
    "            dist = euclidean_distance_word_vectors(embeddings_glove[word], embeddings_glove[compared_word])\n",
    "            dimension_distance_running_list.append(dist)\n",
    "\n",
    "    # Store all details for final former dimension\n",
    "    mean_past_dimension = np.mean(dimension_distance_running_list)\n",
    "    dimension_list.append(current_dimension)\n",
    "    dimension_mean_list.append(mean_past_dimension)\n",
    "\n",
    "    # Create summary, sorted from shorted distance to least\n",
    "    summary_for_word = pd.DataFrame({'dimension': dimension_list,\n",
    "                                     'mean_dist': dimension_mean_list})\n",
    "    summary_for_word = summary_for_word.sort_values('mean_dist')\n",
    "\n",
    "    return summary_for_word\n",
    "\n",
    "\n",
    "def evaluate_paremeter_versus_dimension(summary_parameters, dimension_summary, full_embeddings, list_word_embeddings):\n",
    "    '''\n",
    "    Evaluates the logit parameters and attributes their 'belonging' score to a dimension, weighted by parameter importance\n",
    "    Inputs:\n",
    "        summary_parameters (pd df): A pd df which contains the logit weight attached to each word parameter per category\n",
    "        dimension_summary (pd df): contains one row per unique dimension, word describing dimension and nn for word\n",
    "        full_embeddings (np matrix): matrix of vector encodings for all words\n",
    "        list_word_embeddings (list of string): a list of all words contained in parameters\n",
    "    Returns:\n",
    "        pd dataframe containing 1 row per parameter, with weighted\n",
    "    '''\n",
    "\n",
    "    # Create new pd dataframe\n",
    "    new_df = pd.DataFrame()\n",
    "    new_df['category_word'] = []\n",
    "    new_df['weight'] = []\n",
    "    new_df['abs_weight'] = []\n",
    "    for i in dimension_names:\n",
    "        new_df[i] = []\n",
    "\n",
    "    # Keep track of word index\n",
    "    feature_number = 0\n",
    "\n",
    "    # for each word in feature list\n",
    "    for feature in summary_parameters.feature_name:\n",
    "\n",
    "        # Test if feature appears in pretrained parameters\n",
    "        if feature in list_word_embeddings:\n",
    "\n",
    "            # Extract parameter specific info\n",
    "            category = summary_parameters.category[feature_number]\n",
    "            weight = summary_parameters.weight_num[feature_number]\n",
    "            abs_weigth = abs(weight)\n",
    "\n",
    "            # Store basic information in df\n",
    "            new_df.at[feature_number, 'category_word'] = str(category) + ('-') + str(feature)\n",
    "            new_df.at[feature_number, 'weight'] = weight\n",
    "            new_df.at[feature_number, 'abs_weight'] = abs_weigth\n",
    "\n",
    "            # Create summary of dimension scores for given feature\n",
    "            dist_summary_dim = min_dist_from_dimension(str(feature), dimension_summary, full_embeddings)\n",
    "            # print(dist_summary_dim)\n",
    "            # For each row of distance summary\n",
    "            for i in range(0, dist_summary_dim.shape[0]):\n",
    "                # Extract key information\n",
    "                dimension_name = dist_summary_dim.dimension[i]\n",
    "                dimension_summary_dist = dist_summary_dim.mean_dist[i]\n",
    "                # Avoid inf values when distance = 0\n",
    "                dimension_summary_dist = np.where(dimension_summary_dist <= 0.001,\n",
    "                                                  0.5 * np.mean(dist_summary_dim.mean_dist),\n",
    "                                                  dimension_summary_dist)\n",
    "                dimension_summary_simil_weighted = 1 / dimension_summary_dist * abs_weigth\n",
    "\n",
    "                # Append similarity score\n",
    "                new_df.at[feature_number, dimension_name] = dimension_summary_simil_weighted\n",
    "\n",
    "        # Increase index when all info is stored for one number\n",
    "        feature_number = feature_number + 1\n",
    "\n",
    "    return new_df\n",
    "\n",
    "\n",
    "def calculate_agg_dim_score_for_each_category(list_of_categories, parameter_dim_scores):\n",
    "    '''\n",
    "    Calculates the aggregate similarity score of a category to each dimension\n",
    "    Inputs:\n",
    "        list_of_categories (list): list of category names\n",
    "        parameter_dim_scores (pd df): contains one row per dimension * word and score against each dimension\n",
    "    Returns:\n",
    "        pd dataframe containing 1 row per product category, with a score for each dimension (higher score = higher similarity )\n",
    "    '''\n",
    "\n",
    "    # Create dataframe to store results\n",
    "    new_df = pd.DataFrame()\n",
    "    new_df['product_category'] = []\n",
    "    for i in dimension_names:\n",
    "        new_df[i] = []\n",
    "\n",
    "    category_index = 0\n",
    "\n",
    "    # Iterate through every category\n",
    "    for category in list_of_categories:\n",
    "\n",
    "        # Store category name in df\n",
    "        new_df.at[category_index, 'product_category'] = category\n",
    "\n",
    "        # Create subset of data for just one category by filtering for given category\n",
    "        subset = parameter_dim_scores[parameter_dim_scores['category'] == category]\n",
    "\n",
    "        # Select only columns with numeric values\n",
    "        subset_num = subset[dimension_names]\n",
    "\n",
    "        # Calculate sum across each dimension / total (giving relative score summing to 100%)\n",
    "        grouped_summary_sum = pd.DataFrame(subset_num.sum() / sum(subset_num.sum()))\n",
    "\n",
    "        for i in range(0, grouped_summary_sum.shape[0]):\n",
    "            # Write data into summary table\n",
    "            new_df.at[category_index, grouped_summary_sum.index[i]] = grouped_summary_sum.values[i][0]\n",
    "\n",
    "        category_index = category_index + 1\n",
    "\n",
    "    return new_df\n",
    "\n",
    "\n",
    "def scale_agg_summary(agg_results_df, min_max, names_of_dimensions):\n",
    "    '''\n",
    "    Scales summary df based on desired min and max values\n",
    "    Inputs:\n",
    "        agg_results_df (pd df): pd dataframe containing 1 row per product category, with a score for each dimension\n",
    "        min_max (int): the absolute value of the min and max value\n",
    "        names_of_dimensions (list): name of all dimensions that are measured\n",
    "    Returns:\n",
    "        Scaled df\n",
    "    '''\n",
    "\n",
    "    scaler = MinMaxScaler(feature_range=(-min_max, min_max))\n",
    "    for dimension in names_of_dimensions:\n",
    "        agg_results_df[dimension] = scaler.fit_transform(agg_results_df[[dimension]])\n",
    "\n",
    "    return agg_results_df\n",
    "\n",
    "def heatmap_product_dimensions(names_of_dimensions, scaled_agg_results):\n",
    "    cm = sns.light_palette(\"green\", as_cmap=True)\n",
    "    results = scaled_agg_results.style.background_gradient(cmap=cm, subset=names_of_dimensions)\n",
    "\n",
    "    return results\n",
    "\n",
    "\n",
    "def heatmap_product_dimensions_png(names_of_dimensions, scaled_agg_results):\n",
    "    cm = sns.light_palette(\"green\", as_cmap=True)\n",
    "    results = scaled_agg_results.style.background_gradient(cmap=cm, subset=names_of_dimensions)\n",
    "    dataframe_image.export(results, \"dimension_heatmap.png\")\n",
    "\n",
    "    img = mpimg.imread('dimension_heatmap.png')\n",
    "    plt.rcParams['figure.figsize'] = [20, 10]\n",
    "    imgplot = plt.imshow(img)\n",
    "\n",
    "    return plt.show()\n",
    "\n",
    "\n",
    "def plot_sns_heatmap(df):\n",
    "\n",
    "    sns.set()\n",
    "\n",
    "    fig, ax1 = matplotlib.pyplot.subplots(figsize=(20,10))\n",
    "    ax2 = sns.heatmap(df,\n",
    "                     #annot=True,\n",
    "                     cmap=\"YlGnBu\", cbar=True)\n",
    "    ax2.set_xticklabels(ax2.get_xmajorticklabels(),\n",
    "                        #fontsize = 12,\n",
    "                        rotation=360)\n",
    "    ax2.set(title='Impact of customer impact dimension in product reviews')\n",
    "    ax2.set(xlabel='Customer experience dimension')\n",
    "    ax2.set(ylabel='Product')\n",
    "\n",
    "    sns.set(font_scale=1.3)\n",
    "    # return ax2\n",
    "    fig.data = df\n",
    "\n",
    "    plt.show()\n",
    "\n",
    "\n",
    "def plot_product_comparaison(category_1, category_2, names_of_dimensions, scaled_agg_results):\n",
    "    ''' Takes in the name of 2 categories and returns plot comparing both categories on a set of dimensions'''\n",
    "\n",
    "    fig = go.Figure()\n",
    "\n",
    "    # Extract agg data for dimension\n",
    "    category_1_data = scaled_agg_results[scaled_agg_results['product_category'] == category_1]\n",
    "    category_2_data = scaled_agg_results[scaled_agg_results['product_category'] == category_2]\n",
    "\n",
    "    # Plot for first product\n",
    "    fig.add_trace(go.Scatterpolar(\n",
    "        r=list(category_1_data[names_of_dimensions].values[0]),\n",
    "        theta=names_of_dimensions,\n",
    "        fill='toself',\n",
    "        name=category_1\n",
    "    ))\n",
    "\n",
    "    # Plot for second product\n",
    "    fig.add_trace(go.Scatterpolar(\n",
    "        r=list(category_2_data[names_of_dimensions].values[0]),\n",
    "        theta=names_of_dimensions,\n",
    "        fill='toself',\n",
    "        name=category_2\n",
    "    ))\n",
    "\n",
    "    fig.update_layout(\n",
    "        polar=dict(\n",
    "            radialaxis=dict(\n",
    "                visible=True,\n",
    "                range=[0, 1]\n",
    "            )),\n",
    "        showlegend=True\n",
    "    )\n",
    "\n",
    "    fig.show()"
   ]
  },
  {
   "cell_type": "markdown",
   "metadata": {},
   "source": [
    "### Test use of word quality"
   ]
  },
  {
   "cell_type": "code",
   "execution_count": 7,
   "metadata": {},
   "outputs": [
    {
     "name": "stdout",
     "output_type": "stream",
     "text": [
      "- pretrained glove embeddings read in\n",
      "- logistic regression parameters summary read in\n",
      "- Synonym of dimension descriptors identified, embeddings stored \n",
      "- All logit parameters evaluated (proximity to dimensions)\n",
      "- Parameter proximity to dimension aggregated at product level (weighted by parameter importance\n",
      "+ Scaled aggregated proximity:\n",
      "         product_category  Aesthetic  Smell/Touch/Taste     Price  Fit / Size  \\\n",
      "0  magazine_subscriptions   0.759677          -1.000000  0.881645   -0.979301   \n",
      "1            gourmet_food   0.756008           1.000000 -1.000000   -1.000000   \n",
      "2     musical_instruments  -0.556192          -0.248341  0.483684    0.514376   \n",
      "3                 fashion   1.000000           0.101958 -0.069672    1.000000   \n",
      "4              appliances  -1.000000          -0.630956  1.000000    0.476075   \n",
      "5          toys_and_games   0.179563           0.074318 -0.264180   -0.509082   \n",
      "\n",
      "   Delivery  Entertainment  Ease of use  Performance  \n",
      "0  0.680564       1.000000    -1.000000    -0.729005  \n",
      "1 -1.000000       0.504363     0.162680    -1.000000  \n",
      "2  0.275768      -0.562396     0.167260     0.834978  \n",
      "3 -0.752203       0.283422    -0.640864    -0.679161  \n",
      "4  1.000000      -1.000000     1.000000     1.000000  \n",
      "5 -0.344175       0.559297     0.380653     0.061942  \n",
      "+ Heatmap:\n"
     ]
    },
    {
     "data": {
      "image/png": "[encoded data removed]",
      "text/plain": [
       "<Figure size 1440x720 with 2 Axes>"
      ]
     },
     "metadata": {},
     "output_type": "display_data"
    },
    {
     "data": {
      "application/vnd.plotly.v1+json": {
       "config": {
        "plotlyServerURL": "https://plot.ly"
       },
       "data": [
        {
         "fill": "toself",
         "name": "appliances",
         "r": [
          0.16666666666666666,
          0.3333333333333333,
          1,
          0.6666666666666666,
          1,
          0.16666666666666666,
          1,
          1
         ],
         "theta": [
          "Aesthetic",
          "Smell/Touch/Taste",
          "Price",
          "Fit / Size",
          "Delivery",
          "Entertainment",
          "Ease of use",
          "Performance"
         ],
         "type": "scatterpolar"
        },
        {
         "fill": "toself",
         "name": "musical_instruments",
         "r": [
          0.3333333333333333,
          0.5,
          0.6666666666666666,
          0.8333333333333334,
          0.6666666666666666,
          0.3333333333333333,
          0.6666666666666666,
          0.8333333333333334
         ],
         "theta": [
          "Aesthetic",
          "Smell/Touch/Taste",
          "Price",
          "Fit / Size",
          "Delivery",
          "Entertainment",
          "Ease of use",
          "Performance"
         ],
         "type": "scatterpolar"
        }
       ],
       "layout": {
        "polar": {
         "radialaxis": {
          "range": [
           0,
           1
          ],
          "visible": true
         }
        },
        "showlegend": true,
        "template": {
         "data": {
          "bar": [
           {
            "error_x": {
             "color": "#2a3f5f"
            },
            "error_y": {
             "color": "#2a3f5f"
            },
            "marker": {
             "line": {
              "color": "#E5ECF6",
              "width": 0.5
             },
             "pattern": {
              "fillmode": "overlay",
              "size": 10,
              "solidity": 0.2
             }
            },
            "type": "bar"
           }
          ],
          "barpolar": [
           {
            "marker": {
             "line": {
              "color": "#E5ECF6",
              "width": 0.5
             },
             "pattern": {
              "fillmode": "overlay",
              "size": 10,
              "solidity": 0.2
             }
            },
            "type": "barpolar"
           }
          ],
          "carpet": [
           {
            "aaxis": {
             "endlinecolor": "#2a3f5f",
             "gridcolor": "white",
             "linecolor": "white",
             "minorgridcolor": "white",
             "startlinecolor": "#2a3f5f"
            },
            "baxis": {
             "endlinecolor": "#2a3f5f",
             "gridcolor": "white",
             "linecolor": "white",
             "minorgridcolor": "white",
             "startlinecolor": "#2a3f5f"
            },
            "type": "carpet"
           }
          ],
          "choropleth": [
           {
            "colorbar": {
             "outlinewidth": 0,
             "ticks": ""
            },
            "type": "choropleth"
           }
          ],
          "contour": [
           {
            "colorbar": {
             "outlinewidth": 0,
             "ticks": ""
            },
            "colorscale": [
             [
              0,
              "#0d0887"
             ],
             [
              0.1111111111111111,
              "#46039f"
             ],
             [
              0.2222222222222222,
              "#7201a8"
             ],
             [
              0.3333333333333333,
              "#9c179e"
             ],
             [
              0.4444444444444444,
              "#bd3786"
             ],
             [
              0.5555555555555556,
              "#d8576b"
             ],
             [
              0.6666666666666666,
              "#ed7953"
             ],
             [
              0.7777777777777778,
              "#fb9f3a"
             ],
             [
              0.8888888888888888,
              "#fdca26"
             ],
             [
              1,
              "#f0f921"
             ]
            ],
            "type": "contour"
           }
          ],
          "contourcarpet": [
           {
            "colorbar": {
             "outlinewidth": 0,
             "ticks": ""
            },
            "type": "contourcarpet"
           }
          ],
          "heatmap": [
           {
            "colorbar": {
             "outlinewidth": 0,
             "ticks": ""
            },
            "colorscale": [
             [
              0,
              "#0d0887"
             ],
             [
              0.1111111111111111,
              "#46039f"
             ],
             [
              0.2222222222222222,
              "#7201a8"
             ],
             [
              0.3333333333333333,
              "#9c179e"
             ],
             [
              0.4444444444444444,
              "#bd3786"
             ],
             [
              0.5555555555555556,
              "#d8576b"
             ],
             [
              0.6666666666666666,
              "#ed7953"
             ],
             [
              0.7777777777777778,
              "#fb9f3a"
             ],
             [
              0.8888888888888888,
              "#fdca26"
             ],
             [
              1,
              "#f0f921"
             ]
            ],
            "type": "heatmap"
           }
          ],
          "heatmapgl": [
           {
            "colorbar": {
             "outlinewidth": 0,
             "ticks": ""
            },
            "colorscale": [
             [
              0,
              "#0d0887"
             ],
             [
              0.1111111111111111,
              "#46039f"
             ],
             [
              0.2222222222222222,
              "#7201a8"
             ],
             [
              0.3333333333333333,
              "#9c179e"
             ],
             [
              0.4444444444444444,
              "#bd3786"
             ],
             [
              0.5555555555555556,
              "#d8576b"
             ],
             [
              0.6666666666666666,
              "#ed7953"
             ],
             [
              0.7777777777777778,
              "#fb9f3a"
             ],
             [
              0.8888888888888888,
              "#fdca26"
             ],
             [
              1,
              "#f0f921"
             ]
            ],
            "type": "heatmapgl"
           }
          ],
          "histogram": [
           {
            "marker": {
             "pattern": {
              "fillmode": "overlay",
              "size": 10,
              "solidity": 0.2
             }
            },
            "type": "histogram"
           }
          ],
          "histogram2d": [
           {
            "colorbar": {
             "outlinewidth": 0,
             "ticks": ""
            },
            "colorscale": [
             [
              0,
              "#0d0887"
             ],
             [
              0.1111111111111111,
              "#46039f"
             ],
             [
              0.2222222222222222,
              "#7201a8"
             ],
             [
              0.3333333333333333,
              "#9c179e"
             ],
             [
              0.4444444444444444,
              "#bd3786"
             ],
             [
              0.5555555555555556,
              "#d8576b"
             ],
             [
              0.6666666666666666,
              "#ed7953"
             ],
             [
              0.7777777777777778,
              "#fb9f3a"
             ],
             [
              0.8888888888888888,
              "#fdca26"
             ],
             [
              1,
              "#f0f921"
             ]
            ],
            "type": "histogram2d"
           }
          ],
          "histogram2dcontour": [
           {
            "colorbar": {
             "outlinewidth": 0,
             "ticks": ""
            },
            "colorscale": [
             [
              0,
              "#0d0887"
             ],
             [
              0.1111111111111111,
              "#46039f"
             ],
             [
              0.2222222222222222,
              "#7201a8"
             ],
             [
              0.3333333333333333,
              "#9c179e"
             ],
             [
              0.4444444444444444,
              "#bd3786"
             ],
             [
              0.5555555555555556,
              "#d8576b"
             ],
             [
              0.6666666666666666,
              "#ed7953"
             ],
             [
              0.7777777777777778,
              "#fb9f3a"
             ],
             [
              0.8888888888888888,
              "#fdca26"
             ],
             [
              1,
              "#f0f921"
             ]
            ],
            "type": "histogram2dcontour"
           }
          ],
          "mesh3d": [
           {
            "colorbar": {
             "outlinewidth": 0,
             "ticks": ""
            },
            "type": "mesh3d"
           }
          ],
          "parcoords": [
           {
            "line": {
             "colorbar": {
              "outlinewidth": 0,
              "ticks": ""
             }
            },
            "type": "parcoords"
           }
          ],
          "pie": [
           {
            "automargin": true,
            "type": "pie"
           }
          ],
          "scatter": [
           {
            "marker": {
             "colorbar": {
              "outlinewidth": 0,
              "ticks": ""
             }
            },
            "type": "scatter"
           }
          ],
          "scatter3d": [
           {
            "line": {
             "colorbar": {
              "outlinewidth": 0,
              "ticks": ""
             }
            },
            "marker": {
             "colorbar": {
              "outlinewidth": 0,
              "ticks": ""
             }
            },
            "type": "scatter3d"
           }
          ],
          "scattercarpet": [
           {
            "marker": {
             "colorbar": {
              "outlinewidth": 0,
              "ticks": ""
             }
            },
            "type": "scattercarpet"
           }
          ],
          "scattergeo": [
           {
            "marker": {
             "colorbar": {
              "outlinewidth": 0,
              "ticks": ""
             }
            },
            "type": "scattergeo"
           }
          ],
          "scattergl": [
           {
            "marker": {
             "colorbar": {
              "outlinewidth": 0,
              "ticks": ""
             }
            },
            "type": "scattergl"
           }
          ],
          "scattermapbox": [
           {
            "marker": {
             "colorbar": {
              "outlinewidth": 0,
              "ticks": ""
             }
            },
            "type": "scattermapbox"
           }
          ],
          "scatterpolar": [
           {
            "marker": {
             "colorbar": {
              "outlinewidth": 0,
              "ticks": ""
             }
            },
            "type": "scatterpolar"
           }
          ],
          "scatterpolargl": [
           {
            "marker": {
             "colorbar": {
              "outlinewidth": 0,
              "ticks": ""
             }
            },
            "type": "scatterpolargl"
           }
          ],
          "scatterternary": [
           {
            "marker": {
             "colorbar": {
              "outlinewidth": 0,
              "ticks": ""
             }
            },
            "type": "scatterternary"
           }
          ],
          "surface": [
           {
            "colorbar": {
             "outlinewidth": 0,
             "ticks": ""
            },
            "colorscale": [
             [
              0,
              "#0d0887"
             ],
             [
              0.1111111111111111,
              "#46039f"
             ],
             [
              0.2222222222222222,
              "#7201a8"
             ],
             [
              0.3333333333333333,
              "#9c179e"
             ],
             [
              0.4444444444444444,
              "#bd3786"
             ],
             [
              0.5555555555555556,
              "#d8576b"
             ],
             [
              0.6666666666666666,
              "#ed7953"
             ],
             [
              0.7777777777777778,
              "#fb9f3a"
             ],
             [
              0.8888888888888888,
              "#fdca26"
             ],
             [
              1,
              "#f0f921"
             ]
            ],
            "type": "surface"
           }
          ],
          "table": [
           {
            "cells": {
             "fill": {
              "color": "#EBF0F8"
             },
             "line": {
              "color": "white"
             }
            },
            "header": {
             "fill": {
              "color": "#C8D4E3"
             },
             "line": {
              "color": "white"
             }
            },
            "type": "table"
           }
          ]
         },
         "layout": {
          "annotationdefaults": {
           "arrowcolor": "#2a3f5f",
           "arrowhead": 0,
           "arrowwidth": 1
          },
          "autotypenumbers": "strict",
          "coloraxis": {
           "colorbar": {
            "outlinewidth": 0,
            "ticks": ""
           }
          },
          "colorscale": {
           "diverging": [
            [
             0,
             "#8e0152"
            ],
            [
             0.1,
             "#c51b7d"
            ],
            [
             0.2,
             "#de77ae"
            ],
            [
             0.3,
             "#f1b6da"
            ],
            [
             0.4,
             "#fde0ef"
            ],
            [
             0.5,
             "#f7f7f7"
            ],
            [
             0.6,
             "#e6f5d0"
            ],
            [
             0.7,
             "#b8e186"
            ],
            [
             0.8,
             "#7fbc41"
            ],
            [
             0.9,
             "#4d9221"
            ],
            [
             1,
             "#276419"
            ]
           ],
           "sequential": [
            [
             0,
             "#0d0887"
            ],
            [
             0.1111111111111111,
             "#46039f"
            ],
            [
             0.2222222222222222,
             "#7201a8"
            ],
            [
             0.3333333333333333,
             "#9c179e"
            ],
            [
             0.4444444444444444,
             "#bd3786"
            ],
            [
             0.5555555555555556,
             "#d8576b"
            ],
            [
             0.6666666666666666,
             "#ed7953"
            ],
            [
             0.7777777777777778,
             "#fb9f3a"
            ],
            [
             0.8888888888888888,
             "#fdca26"
            ],
            [
             1,
             "#f0f921"
            ]
           ],
           "sequentialminus": [
            [
             0,
             "#0d0887"
            ],
            [
             0.1111111111111111,
             "#46039f"
            ],
            [
             0.2222222222222222,
             "#7201a8"
            ],
            [
             0.3333333333333333,
             "#9c179e"
            ],
            [
             0.4444444444444444,
             "#bd3786"
            ],
            [
             0.5555555555555556,
             "#d8576b"
            ],
            [
             0.6666666666666666,
             "#ed7953"
            ],
            [
             0.7777777777777778,
             "#fb9f3a"
            ],
            [
             0.8888888888888888,
             "#fdca26"
            ],
            [
             1,
             "#f0f921"
            ]
           ]
          },
          "colorway": [
           "#636efa",
           "#EF553B",
           "#00cc96",
           "#ab63fa",
           "#FFA15A",
           "#19d3f3",
           "#FF6692",
           "#B6E880",
           "#FF97FF",
           "#FECB52"
          ],
          "font": {
           "color": "#2a3f5f"
          },
          "geo": {
           "bgcolor": "white",
           "lakecolor": "white",
           "landcolor": "#E5ECF6",
           "showlakes": true,
           "showland": true,
           "subunitcolor": "white"
          },
          "hoverlabel": {
           "align": "left"
          },
          "hovermode": "closest",
          "mapbox": {
           "style": "light"
          },
          "paper_bgcolor": "white",
          "plot_bgcolor": "#E5ECF6",
          "polar": {
           "angularaxis": {
            "gridcolor": "white",
            "linecolor": "white",
            "ticks": ""
           },
           "bgcolor": "#E5ECF6",
           "radialaxis": {
            "gridcolor": "white",
            "linecolor": "white",
            "ticks": ""
           }
          },
          "scene": {
           "xaxis": {
            "backgroundcolor": "#E5ECF6",
            "gridcolor": "white",
            "gridwidth": 2,
            "linecolor": "white",
            "showbackground": true,
            "ticks": "",
            "zerolinecolor": "white"
           },
           "yaxis": {
            "backgroundcolor": "#E5ECF6",
            "gridcolor": "white",
            "gridwidth": 2,
            "linecolor": "white",
            "showbackground": true,
            "ticks": "",
            "zerolinecolor": "white"
           },
           "zaxis": {
            "backgroundcolor": "#E5ECF6",
            "gridcolor": "white",
            "gridwidth": 2,
            "linecolor": "white",
            "showbackground": true,
            "ticks": "",
            "zerolinecolor": "white"
           }
          },
          "shapedefaults": {
           "line": {
            "color": "#2a3f5f"
           }
          },
          "ternary": {
           "aaxis": {
            "gridcolor": "white",
            "linecolor": "white",
            "ticks": ""
           },
           "baxis": {
            "gridcolor": "white",
            "linecolor": "white",
            "ticks": ""
           },
           "bgcolor": "#E5ECF6",
           "caxis": {
            "gridcolor": "white",
            "linecolor": "white",
            "ticks": ""
           }
          },
          "title": {
           "x": 0.05
          },
          "xaxis": {
           "automargin": true,
           "gridcolor": "white",
           "linecolor": "white",
           "ticks": "",
           "title": {
            "standoff": 15
           },
           "zerolinecolor": "white",
           "zerolinewidth": 2
          },
          "yaxis": {
           "automargin": true,
           "gridcolor": "white",
           "linecolor": "white",
           "ticks": "",
           "title": {
            "standoff": 15
           },
           "zerolinecolor": "white",
           "zerolinewidth": 2
          }
         }
        }
       }
      },
      "text/html": [
       "<div>                            <div id=\"2b472e23-23b6-4f4e-8d17-987234c04d36\" class=\"plotly-graph-div\" style=\"height:525px; width:100%;\"></div>            <script type=\"text/javascript\">                require([\"plotly\"], function(Plotly) {                    window.PLOTLYENV=window.PLOTLYENV || {};                                    if (document.getElementById(\"2b472e23-23b6-4f4e-8d17-987234c04d36\")) {                    Plotly.newPlot(                        \"2b472e23-23b6-4f4e-8d17-987234c04d36\",                        [{\"fill\":\"toself\",\"name\":\"appliances\",\"r\":[0.16666666666666666,0.3333333333333333,1.0,0.6666666666666666,1.0,0.16666666666666666,1.0,1.0],\"theta\":[\"Aesthetic\",\"Smell/Touch/Taste\",\"Price\",\"Fit / Size\",\"Delivery\",\"Entertainment\",\"Ease of use\",\"Performance\"],\"type\":\"scatterpolar\"},{\"fill\":\"toself\",\"name\":\"musical_instruments\",\"r\":[0.3333333333333333,0.5,0.6666666666666666,0.8333333333333334,0.6666666666666666,0.3333333333333333,0.6666666666666666,0.8333333333333334],\"theta\":[\"Aesthetic\",\"Smell/Touch/Taste\",\"Price\",\"Fit / Size\",\"Delivery\",\"Entertainment\",\"Ease of use\",\"Performance\"],\"type\":\"scatterpolar\"}],                        {\"polar\":{\"radialaxis\":{\"range\":[0,1],\"visible\":true}},\"showlegend\":true,\"template\":{\"data\":{\"bar\":[{\"error_x\":{\"color\":\"#2a3f5f\"},\"error_y\":{\"color\":\"#2a3f5f\"},\"marker\":{\"line\":{\"color\":\"#E5ECF6\",\"width\":0.5},\"pattern\":{\"fillmode\":\"overlay\",\"size\":10,\"solidity\":0.2}},\"type\":\"bar\"}],\"barpolar\":[{\"marker\":{\"line\":{\"color\":\"#E5ECF6\",\"width\":0.5},\"pattern\":{\"fillmode\":\"overlay\",\"size\":10,\"solidity\":0.2}},\"type\":\"barpolar\"}],\"carpet\":[{\"aaxis\":{\"endlinecolor\":\"#2a3f5f\",\"gridcolor\":\"white\",\"linecolor\":\"white\",\"minorgridcolor\":\"white\",\"startlinecolor\":\"#2a3f5f\"},\"baxis\":{\"endlinecolor\":\"#2a3f5f\",\"gridcolor\":\"white\",\"linecolor\":\"white\",\"minorgridcolor\":\"white\",\"startlinecolor\":\"#2a3f5f\"},\"type\":\"carpet\"}],\"choropleth\":[{\"colorbar\":{\"outlinewidth\":0,\"ticks\":\"\"},\"type\":\"choropleth\"}],\"contour\":[{\"colorbar\":{\"outlinewidth\":0,\"ticks\":\"\"},\"colorscale\":[[0.0,\"#0d0887\"],[0.1111111111111111,\"#46039f\"],[0.2222222222222222,\"#7201a8\"],[0.3333333333333333,\"#9c179e\"],[0.4444444444444444,\"#bd3786\"],[0.5555555555555556,\"#d8576b\"],[0.6666666666666666,\"#ed7953\"],[0.7777777777777778,\"#fb9f3a\"],[0.8888888888888888,\"#fdca26\"],[1.0,\"#f0f921\"]],\"type\":\"contour\"}],\"contourcarpet\":[{\"colorbar\":{\"outlinewidth\":0,\"ticks\":\"\"},\"type\":\"contourcarpet\"}],\"heatmap\":[{\"colorbar\":{\"outlinewidth\":0,\"ticks\":\"\"},\"colorscale\":[[0.0,\"#0d0887\"],[0.1111111111111111,\"#46039f\"],[0.2222222222222222,\"#7201a8\"],[0.3333333333333333,\"#9c179e\"],[0.4444444444444444,\"#bd3786\"],[0.5555555555555556,\"#d8576b\"],[0.6666666666666666,\"#ed7953\"],[0.7777777777777778,\"#fb9f3a\"],[0.8888888888888888,\"#fdca26\"],[1.0,\"#f0f921\"]],\"type\":\"heatmap\"}],\"heatmapgl\":[{\"colorbar\":{\"outlinewidth\":0,\"ticks\":\"\"},\"colorscale\":[[0.0,\"#0d0887\"],[0.1111111111111111,\"#46039f\"],[0.2222222222222222,\"#7201a8\"],[0.3333333333333333,\"#9c179e\"],[0.4444444444444444,\"#bd3786\"],[0.5555555555555556,\"#d8576b\"],[0.6666666666666666,\"#ed7953\"],[0.7777777777777778,\"#fb9f3a\"],[0.8888888888888888,\"#fdca26\"],[1.0,\"#f0f921\"]],\"type\":\"heatmapgl\"}],\"histogram\":[{\"marker\":{\"pattern\":{\"fillmode\":\"overlay\",\"size\":10,\"solidity\":0.2}},\"type\":\"histogram\"}],\"histogram2d\":[{\"colorbar\":{\"outlinewidth\":0,\"ticks\":\"\"},\"colorscale\":[[0.0,\"#0d0887\"],[0.1111111111111111,\"#46039f\"],[0.2222222222222222,\"#7201a8\"],[0.3333333333333333,\"#9c179e\"],[0.4444444444444444,\"#bd3786\"],[0.5555555555555556,\"#d8576b\"],[0.6666666666666666,\"#ed7953\"],[0.7777777777777778,\"#fb9f3a\"],[0.8888888888888888,\"#fdca26\"],[1.0,\"#f0f921\"]],\"type\":\"histogram2d\"}],\"histogram2dcontour\":[{\"colorbar\":{\"outlinewidth\":0,\"ticks\":\"\"},\"colorscale\":[[0.0,\"#0d0887\"],[0.1111111111111111,\"#46039f\"],[0.2222222222222222,\"#7201a8\"],[0.3333333333333333,\"#9c179e\"],[0.4444444444444444,\"#bd3786\"],[0.5555555555555556,\"#d8576b\"],[0.6666666666666666,\"#ed7953\"],[0.7777777777777778,\"#fb9f3a\"],[0.8888888888888888,\"#fdca26\"],[1.0,\"#f0f921\"]],\"type\":\"histogram2dcontour\"}],\"mesh3d\":[{\"colorbar\":{\"outlinewidth\":0,\"ticks\":\"\"},\"type\":\"mesh3d\"}],\"parcoords\":[{\"line\":{\"colorbar\":{\"outlinewidth\":0,\"ticks\":\"\"}},\"type\":\"parcoords\"}],\"pie\":[{\"automargin\":true,\"type\":\"pie\"}],\"scatter\":[{\"marker\":{\"colorbar\":{\"outlinewidth\":0,\"ticks\":\"\"}},\"type\":\"scatter\"}],\"scatter3d\":[{\"line\":{\"colorbar\":{\"outlinewidth\":0,\"ticks\":\"\"}},\"marker\":{\"colorbar\":{\"outlinewidth\":0,\"ticks\":\"\"}},\"type\":\"scatter3d\"}],\"scattercarpet\":[{\"marker\":{\"colorbar\":{\"outlinewidth\":0,\"ticks\":\"\"}},\"type\":\"scattercarpet\"}],\"scattergeo\":[{\"marker\":{\"colorbar\":{\"outlinewidth\":0,\"ticks\":\"\"}},\"type\":\"scattergeo\"}],\"scattergl\":[{\"marker\":{\"colorbar\":{\"outlinewidth\":0,\"ticks\":\"\"}},\"type\":\"scattergl\"}],\"scattermapbox\":[{\"marker\":{\"colorbar\":{\"outlinewidth\":0,\"ticks\":\"\"}},\"type\":\"scattermapbox\"}],\"scatterpolar\":[{\"marker\":{\"colorbar\":{\"outlinewidth\":0,\"ticks\":\"\"}},\"type\":\"scatterpolar\"}],\"scatterpolargl\":[{\"marker\":{\"colorbar\":{\"outlinewidth\":0,\"ticks\":\"\"}},\"type\":\"scatterpolargl\"}],\"scatterternary\":[{\"marker\":{\"colorbar\":{\"outlinewidth\":0,\"ticks\":\"\"}},\"type\":\"scatterternary\"}],\"surface\":[{\"colorbar\":{\"outlinewidth\":0,\"ticks\":\"\"},\"colorscale\":[[0.0,\"#0d0887\"],[0.1111111111111111,\"#46039f\"],[0.2222222222222222,\"#7201a8\"],[0.3333333333333333,\"#9c179e\"],[0.4444444444444444,\"#bd3786\"],[0.5555555555555556,\"#d8576b\"],[0.6666666666666666,\"#ed7953\"],[0.7777777777777778,\"#fb9f3a\"],[0.8888888888888888,\"#fdca26\"],[1.0,\"#f0f921\"]],\"type\":\"surface\"}],\"table\":[{\"cells\":{\"fill\":{\"color\":\"#EBF0F8\"},\"line\":{\"color\":\"white\"}},\"header\":{\"fill\":{\"color\":\"#C8D4E3\"},\"line\":{\"color\":\"white\"}},\"type\":\"table\"}]},\"layout\":{\"annotationdefaults\":{\"arrowcolor\":\"#2a3f5f\",\"arrowhead\":0,\"arrowwidth\":1},\"autotypenumbers\":\"strict\",\"coloraxis\":{\"colorbar\":{\"outlinewidth\":0,\"ticks\":\"\"}},\"colorscale\":{\"diverging\":[[0,\"#8e0152\"],[0.1,\"#c51b7d\"],[0.2,\"#de77ae\"],[0.3,\"#f1b6da\"],[0.4,\"#fde0ef\"],[0.5,\"#f7f7f7\"],[0.6,\"#e6f5d0\"],[0.7,\"#b8e186\"],[0.8,\"#7fbc41\"],[0.9,\"#4d9221\"],[1,\"#276419\"]],\"sequential\":[[0.0,\"#0d0887\"],[0.1111111111111111,\"#46039f\"],[0.2222222222222222,\"#7201a8\"],[0.3333333333333333,\"#9c179e\"],[0.4444444444444444,\"#bd3786\"],[0.5555555555555556,\"#d8576b\"],[0.6666666666666666,\"#ed7953\"],[0.7777777777777778,\"#fb9f3a\"],[0.8888888888888888,\"#fdca26\"],[1.0,\"#f0f921\"]],\"sequentialminus\":[[0.0,\"#0d0887\"],[0.1111111111111111,\"#46039f\"],[0.2222222222222222,\"#7201a8\"],[0.3333333333333333,\"#9c179e\"],[0.4444444444444444,\"#bd3786\"],[0.5555555555555556,\"#d8576b\"],[0.6666666666666666,\"#ed7953\"],[0.7777777777777778,\"#fb9f3a\"],[0.8888888888888888,\"#fdca26\"],[1.0,\"#f0f921\"]]},\"colorway\":[\"#636efa\",\"#EF553B\",\"#00cc96\",\"#ab63fa\",\"#FFA15A\",\"#19d3f3\",\"#FF6692\",\"#B6E880\",\"#FF97FF\",\"#FECB52\"],\"font\":{\"color\":\"#2a3f5f\"},\"geo\":{\"bgcolor\":\"white\",\"lakecolor\":\"white\",\"landcolor\":\"#E5ECF6\",\"showlakes\":true,\"showland\":true,\"subunitcolor\":\"white\"},\"hoverlabel\":{\"align\":\"left\"},\"hovermode\":\"closest\",\"mapbox\":{\"style\":\"light\"},\"paper_bgcolor\":\"white\",\"plot_bgcolor\":\"#E5ECF6\",\"polar\":{\"angularaxis\":{\"gridcolor\":\"white\",\"linecolor\":\"white\",\"ticks\":\"\"},\"bgcolor\":\"#E5ECF6\",\"radialaxis\":{\"gridcolor\":\"white\",\"linecolor\":\"white\",\"ticks\":\"\"}},\"scene\":{\"xaxis\":{\"backgroundcolor\":\"#E5ECF6\",\"gridcolor\":\"white\",\"gridwidth\":2,\"linecolor\":\"white\",\"showbackground\":true,\"ticks\":\"\",\"zerolinecolor\":\"white\"},\"yaxis\":{\"backgroundcolor\":\"#E5ECF6\",\"gridcolor\":\"white\",\"gridwidth\":2,\"linecolor\":\"white\",\"showbackground\":true,\"ticks\":\"\",\"zerolinecolor\":\"white\"},\"zaxis\":{\"backgroundcolor\":\"#E5ECF6\",\"gridcolor\":\"white\",\"gridwidth\":2,\"linecolor\":\"white\",\"showbackground\":true,\"ticks\":\"\",\"zerolinecolor\":\"white\"}},\"shapedefaults\":{\"line\":{\"color\":\"#2a3f5f\"}},\"ternary\":{\"aaxis\":{\"gridcolor\":\"white\",\"linecolor\":\"white\",\"ticks\":\"\"},\"baxis\":{\"gridcolor\":\"white\",\"linecolor\":\"white\",\"ticks\":\"\"},\"bgcolor\":\"#E5ECF6\",\"caxis\":{\"gridcolor\":\"white\",\"linecolor\":\"white\",\"ticks\":\"\"}},\"title\":{\"x\":0.05},\"xaxis\":{\"automargin\":true,\"gridcolor\":\"white\",\"linecolor\":\"white\",\"ticks\":\"\",\"title\":{\"standoff\":15},\"zerolinecolor\":\"white\",\"zerolinewidth\":2},\"yaxis\":{\"automargin\":true,\"gridcolor\":\"white\",\"linecolor\":\"white\",\"ticks\":\"\",\"title\":{\"standoff\":15},\"zerolinecolor\":\"white\",\"zerolinewidth\":2}}}},                        {\"responsive\": true}                    ).then(function(){\n",
       "                            \n",
       "var gd = document.getElementById('2b472e23-23b6-4f4e-8d17-987234c04d36');\n",
       "var x = new MutationObserver(function (mutations, observer) {{\n",
       "        var display = window.getComputedStyle(gd).display;\n",
       "        if (!display || display === 'none') {{\n",
       "            console.log([gd, 'removed!']);\n",
       "            Plotly.purge(gd);\n",
       "            observer.disconnect();\n",
       "        }}\n",
       "}});\n",
       "\n",
       "// Listen for the removal of the full notebook cells\n",
       "var notebookContainer = gd.closest('#notebook-container');\n",
       "if (notebookContainer) {{\n",
       "    x.observe(notebookContainer, {childList: true});\n",
       "}}\n",
       "\n",
       "// Listen for the clearing of the current output cell\n",
       "var outputEl = gd.closest('.output');\n",
       "if (outputEl) {{\n",
       "    x.observe(outputEl, {childList: true});\n",
       "}}\n",
       "\n",
       "                        })                };                });            </script>        </div>"
      ]
     },
     "metadata": {},
     "output_type": "display_data"
    }
   ],
   "source": [
    "# Read in pretrained embeddings\n",
    "path_to_glove_pretrained = '/Users/louisgenereux/Desktop/Term 4/Text_analytics/glove.6B/glove.6B.100d.txt'\n",
    "embeddings_glove = read_pretrained_embeddings(path_to_glove_pretrained)\n",
    "glove_words = list(embeddings_glove.keys())\n",
    "print('- pretrained glove embeddings read in')\n",
    "\n",
    "# Read in logistic regression parameters summary\n",
    "parameters_summary = pd.read_csv('logistic_regression_parameters.csv')\n",
    "print('- logistic regression parameters summary read in')\n",
    "\n",
    "# Define dimensions for product evaluation\n",
    "dim_aesthetic = ['beautiful', 'ugly', 'appearance']\n",
    "dim_appeal_to_senses = ['sensory', 'smelly', 'aromatic']\n",
    "dim_price = ['money', 'expensive', 'affordable']\n",
    "dim_size = ['fit', 'bulky', 'weight']\n",
    "dim_punctuality = ['delivery', 'delay', 'timely']\n",
    "dim_entertainment = ['boring', 'fun', 'literature']\n",
    "dim_ease_of_use = ['demanding', 'straightforward', 'intuitive']\n",
    "dim_product_quality = ['functional', 'operational', 'defective']\n",
    "\n",
    "# Create list of all words used to define dimensions\n",
    "list_dimensions = [dim_aesthetic, dim_appeal_to_senses, dim_price, dim_size, dim_punctuality, dim_entertainment,\n",
    "                   dim_ease_of_use, dim_product_quality]\n",
    "# dimension_names = ['visual aesthetic', 'sensory appeal (smell, touch taste)', 'price', 'size, weight and fit',\n",
    "#                   'delivery / punctuality', 'entertainment power', 'ease / difficulty of use',\n",
    "#                   'performance and quality']\n",
    "dimension_names = ['Aesthetic', 'Smell/Touch/Taste', 'Price', 'Fit / Size',\n",
    "                   'Delivery', 'Entertainment', 'Ease of use', 'Performance']\n",
    "\n",
    "# Extract the top 5 synonyms for each word used to describe dimensions\n",
    "nn_for_dimensions = return_n_nn_for_all_dimensions(list_dimensions, dimension_names, 5)\n",
    "print('- Synonym of dimension descriptors identified, embeddings stored ')\n",
    "\n",
    "# Evaluate similarity of each logit parameter versus dimension descriptors\n",
    "results = evaluate_paremeter_versus_dimension(parameters_summary, nn_for_dimensions,\n",
    "                                              embeddings_glove, glove_words)\n",
    "results['category'] = list(map(lambda cat_word: cat_word.split('-')[0], results['category_word']))\n",
    "print('- All logit parameters evaluated (proximity to dimensions)')\n",
    "\n",
    "# List of all the categories considered\n",
    "unique_categories = list(results.category.value_counts().index)\n",
    "\n",
    "# Aggregate logit parameter similarity to dimension for each product category (one row per product type)\n",
    "results_agg = calculate_agg_dim_score_for_each_category(unique_categories, results)\n",
    "print('- Parameter proximity to dimension aggregated at product level (weighted by parameter importance')\n",
    "\n",
    "# Scale aggregate results\n",
    "results_agg_scaled = scale_agg_summary(results_agg, 1, dimension_names)\n",
    "print('+ Scaled aggregated proximity:')\n",
    "print(results_agg_scaled)\n",
    "\n",
    "# Evaluate relative importance\n",
    "relative_dimension_importance = pd.DataFrame()\n",
    "relative_dimension_importance['product_category'] = results_agg['product_category']\n",
    "for i in dimension_names:\n",
    "    relative_dimension_importance[i] = results_agg[i].rank() / 6\n",
    "\n",
    "dimension_importance_with_index = relative_dimension_importance\n",
    "dimension_importance_with_index = dimension_importance_with_index.set_index('product_category')\n",
    "\n",
    "# Visualize heatmap\n",
    "print('+ Heatmap:')\n",
    "# heatmap_product_dimensions(dimension_names, results_agg_scaled)\n",
    "# heatmap_product_dimensions_png(dimension_names, results_agg_scaled)\n",
    "plot_sns_heatmap(dimension_importance_with_index)\n",
    "\n",
    "# Compare 2 product categories\n",
    "plot_product_comparaison('appliances', 'musical_instruments', dimension_names, relative_dimension_importance)"
   ]
  }
 ],
 "metadata": {
  "kernelspec": {
   "display_name": "Python 3",
   "language": "python",
   "name": "python3"
  },
  "language_info": {
   "codemirror_mode": {
    "name": "ipython",
    "version": 3
   },
   "file_extension": ".py",
   "mimetype": "text/x-python",
   "name": "python",
   "nbconvert_exporter": "python",
   "pygments_lexer": "ipython3",
   "version": "3.7.9"
  }
 },
 "nbformat": 4,
 "nbformat_minor": 4
}
