{
 "cells": [
  {
   "cell_type": "code",
   "execution_count": 1,
   "metadata": {},
   "outputs": [],
   "source": [
    "import os\n",
    "import pandas as pd\n",
    "import re\n",
    "import string\n",
    "\n",
    "from nltk.tokenize import sent_tokenize\n",
    "from nltk.tokenize import word_tokenize\n",
    "import gensim"
   ]
  },
  {
   "cell_type": "code",
   "execution_count": 2,
   "metadata": {},
   "outputs": [],
   "source": [
    "def preprocessing_corpus(corpus):\n",
    "\n",
    "    '''\n",
    "    Takes string from news corpus, normalizes and tokenizes into sentences\n",
    "    '''\n",
    "\n",
    "    # Removal of white space\n",
    "    step_1 = re.sub('\\s+', ' ', corpus)\n",
    "    # RFrom/To and subject line of email\n",
    "    step_2 = re.sub(r'\\bFrom: .*? writes: ', '', step_1)\n",
    "    # Removal of digits\n",
    "    step_3 = re.sub(r'\\d+', '', step_2)\n",
    "    # Remove other signs\n",
    "    step_4 = re.sub(r'[\"_“”\\'\\`\\-\\*\\(\\)]', '', step_3)\n",
    "    # Tokenize to sentences while punctuation is still in place\n",
    "    tokens_news = sent_tokenize(step_4)\n",
    "    # Convert each token to lowercase\n",
    "    lower_token = list(map(lambda token: token.lower(), tokens_news))\n",
    "    # Remove punctuation from lowercase token\n",
    "    punct_less_token = list(map(lambda token:\n",
    "                                token.translate(str.maketrans('', '', string.punctuation)), lower_token))\n",
    "\n",
    "    return punct_less_token\n",
    "\n",
    "\n",
    "def build_word2vec(list_of_list, dimension_size, window_size, min_obs, model_type, model_name):\n",
    "\n",
    "    \"\"\"\n",
    "    Creates a model object\n",
    "    Args:\n",
    "        list_of_list (list): preprocessed text corpus\n",
    "        dimension_size (int): size of dimensions in model\n",
    "        window_size (int): window size used for training\n",
    "        min_obs (int): minimum observed instances of a word to be considered\n",
    "        model_type (binary 1 or 0): 1 = skipgram, 0 = CBOW\n",
    "        model_name: name of object\n",
    "    Returns:\n",
    "        A trained word2vec model, that is saved as an object\n",
    "    \"\"\"\n",
    "\n",
    "    new_model = gensim.models.Word2Vec(list_of_list, vector_size=dimension_size, window=window_size,\n",
    "                                       sg=model_type, min_count=min_obs)\n",
    "    new_model.save(model_name)\n",
    "\n",
    "    return new_model\n",
    "\n",
    "\n",
    "def evaluate_model_nn(model_object, index_model_name, evaluation_word_lists, top_n):\n",
    "    \"\"\"\n",
    "    Identifies top n nearest words for words in a lit\n",
    "    Args:\n",
    "        model_object (obj): word2vec model\n",
    "        index_model_name (str): name of model for row indices naming\n",
    "        evaluation_word_lists (list): words to be used as reference to identify nearest neighbors\n",
    "        top_n (int): top n number of nearest neighbors\n",
    "    Returns:\n",
    "        A pd dataframe summary\n",
    "    \"\"\"\n",
    "\n",
    "    # Create blank df\n",
    "    results_df = pd.DataFrame()\n",
    "\n",
    "    for i, word in enumerate(evaluation_word_lists):\n",
    "        result = model_object.wv.most_similar(word, topn=top_n)\n",
    "        result = list(map(lambda x: str(x[0]) + ', ' + str(round(x[1],3)), result))\n",
    "        results_df[word] = [result]\n",
    "\n",
    "    results_df.index = [str(index_model_name)]\n",
    "\n",
    "    return results_df"
   ]
  },
  {
   "cell_type": "code",
   "execution_count": 3,
   "metadata": {},
   "outputs": [
    {
     "name": "stdout",
     "output_type": "stream",
     "text": [
      "- Gendered CSV read, entries referencing both genders are removed\n"
     ]
    }
   ],
   "source": [
    "# Reading in pre-processed gendered df\n",
    "gender_mentionned = pd.read_csv('yelp_gendered.csv')\n",
    "gender_mentionned_unique = gender_mentionned[(gender_mentionned['male_present'] +\n",
    "                                              gender_mentionned['female_present']) == 1]\n",
    "print(\"- Gendered CSV read, entries referencing both genders are removed\")"
   ]
  },
  {
   "cell_type": "code",
   "execution_count": 4,
   "metadata": {},
   "outputs": [
    {
     "name": "stdout",
     "output_type": "stream",
     "text": [
      "- All words of corpus added to list of list\n",
      "- READY FOR WORD2VEC MODELING!\n"
     ]
    }
   ],
   "source": [
    "# Subset of full dataset\n",
    "subset = gender_mentionned_unique[0:100000]\n",
    "\n",
    "# Create a list of all words (for word2vec modeling)\n",
    "word_tokens_list_of_list = []\n",
    "for review in subset.text:\n",
    "    tokenized_review = preprocessing_corpus(review)\n",
    "    for sentence in tokenized_review:\n",
    "        word_tokens_list = word_tokenize(sentence)\n",
    "        word_tokens_list_of_list.append(word_tokens_list)\n",
    "print('- All words of corpus added to list of list')\n",
    "print('- READY FOR WORD2VEC MODELING!')"
   ]
  },
  {
   "cell_type": "code",
   "execution_count": 5,
   "metadata": {},
   "outputs": [
    {
     "name": "stdout",
     "output_type": "stream",
     "text": [
      "+ Created skipgram models with 100 embeddings and window size 5\n"
     ]
    }
   ],
   "source": [
    "# Create Skipgram model\n",
    "model_sg_100_5 = build_word2vec(word_tokens_list_of_list, 100, 5, 5, 1, \"model_sg_100_5\")\n",
    "print('+ Created skipgram models with 100 embeddings and window size 5')"
   ]
  },
  {
   "cell_type": "code",
   "execution_count": 9,
   "metadata": {},
   "outputs": [
    {
     "data": {
      "text/html": [
       "<div>\n",
       "<style scoped>\n",
       "    .dataframe tbody tr th:only-of-type {\n",
       "        vertical-align: middle;\n",
       "    }\n",
       "\n",
       "    .dataframe tbody tr th {\n",
       "        vertical-align: top;\n",
       "    }\n",
       "\n",
       "    .dataframe thead th {\n",
       "        text-align: right;\n",
       "    }\n",
       "</style>\n",
       "<table border=\"1\" class=\"dataframe\">\n",
       "  <thead>\n",
       "    <tr style=\"text-align: right;\">\n",
       "      <th></th>\n",
       "      <th>lady</th>\n",
       "      <th>sales</th>\n",
       "      <th>owner</th>\n",
       "      <th>employee</th>\n",
       "      <th>cashier</th>\n",
       "      <th>driver</th>\n",
       "      <th>saleswoman</th>\n",
       "      <th>salesman</th>\n",
       "    </tr>\n",
       "  </thead>\n",
       "  <tbody>\n",
       "    <tr>\n",
       "      <th>model_sg_100_5</th>\n",
       "      <td>[woman, 0.939, girl, 0.903, gal, 0.822, gentleman, 0.788, guy, 0.725, gent, 0.711, fella, 0.691, man, 0.676, cashier, 0.673, person, 0.665]</td>\n",
       "      <td>[finance, 0.803, salesperson, 0.735, salesman, 0.711, patrick, 0.7, rep, 0.667, financing, 0.664, leasing, 0.648, cody, 0.642, vito, 0.639, consultants, 0.636]</td>\n",
       "      <td>[manager, 0.803, gm, 0.786, proprietor, 0.773, managerowner, 0.773, ownermanager, 0.773, owners, 0.742, manger, 0.715, chefowner, 0.711, trevor, 0.71, paige, 0.675]</td>\n",
       "      <td>[staffer, 0.814, associate, 0.801, worker, 0.793, clerk, 0.756, cashier, 0.737, wench, 0.732, pharmacist, 0.724, person, 0.717, attendant, 0.702, saleswoman, 0.699]</td>\n",
       "      <td>[register, 0.867, counter, 0.809, clerk, 0.777, barista, 0.74, employee, 0.737, trainee, 0.732, sneered, 0.728, gent, 0.726, staffer, 0.721, greeter, 0.72]</td>\n",
       "      <td>[dispatcher, 0.767, drivers, 0.7, operator, 0.694, shuttle, 0.687, bellman, 0.677, delivery, 0.674, mover, 0.671, dispatch, 0.67, estimator, 0.666, lyft, 0.665]</td>\n",
       "      <td>[staffer, 0.773, associate, 0.771, wench, 0.768, himi, 0.768, bartenderwaitress, 0.76, kash, 0.758, clerk, 0.757, doormen, 0.757, marissa, 0.756, saleslady, 0.753]</td>\n",
       "      <td>[salesperson, 0.812, dealership, 0.731, rep, 0.719, dealer, 0.718, mechanic, 0.717, sales, 0.711, salesmen, 0.696, robert, 0.69, finance, 0.69, mike, 0.684]</td>\n",
       "    </tr>\n",
       "  </tbody>\n",
       "</table>\n",
       "</div>"
      ],
      "text/plain": [
       "                                                                                                                                                       lady  \\\n",
       "model_sg_100_5  [woman, 0.939, girl, 0.903, gal, 0.822, gentleman, 0.788, guy, 0.725, gent, 0.711, fella, 0.691, man, 0.676, cashier, 0.673, person, 0.665]   \n",
       "\n",
       "                                                                                                                                                                          sales  \\\n",
       "model_sg_100_5  [finance, 0.803, salesperson, 0.735, salesman, 0.711, patrick, 0.7, rep, 0.667, financing, 0.664, leasing, 0.648, cody, 0.642, vito, 0.639, consultants, 0.636]   \n",
       "\n",
       "                                                                                                                                                                               owner  \\\n",
       "model_sg_100_5  [manager, 0.803, gm, 0.786, proprietor, 0.773, managerowner, 0.773, ownermanager, 0.773, owners, 0.742, manger, 0.715, chefowner, 0.711, trevor, 0.71, paige, 0.675]   \n",
       "\n",
       "                                                                                                                                                                            employee  \\\n",
       "model_sg_100_5  [staffer, 0.814, associate, 0.801, worker, 0.793, clerk, 0.756, cashier, 0.737, wench, 0.732, pharmacist, 0.724, person, 0.717, attendant, 0.702, saleswoman, 0.699]   \n",
       "\n",
       "                                                                                                                                                                    cashier  \\\n",
       "model_sg_100_5  [register, 0.867, counter, 0.809, clerk, 0.777, barista, 0.74, employee, 0.737, trainee, 0.732, sneered, 0.728, gent, 0.726, staffer, 0.721, greeter, 0.72]   \n",
       "\n",
       "                                                                                                                                                                          driver  \\\n",
       "model_sg_100_5  [dispatcher, 0.767, drivers, 0.7, operator, 0.694, shuttle, 0.687, bellman, 0.677, delivery, 0.674, mover, 0.671, dispatch, 0.67, estimator, 0.666, lyft, 0.665]   \n",
       "\n",
       "                                                                                                                                                                         saleswoman  \\\n",
       "model_sg_100_5  [staffer, 0.773, associate, 0.771, wench, 0.768, himi, 0.768, bartenderwaitress, 0.76, kash, 0.758, clerk, 0.757, doormen, 0.757, marissa, 0.756, saleslady, 0.753]   \n",
       "\n",
       "                                                                                                                                                                    salesman  \n",
       "model_sg_100_5  [salesperson, 0.812, dealership, 0.731, rep, 0.719, dealer, 0.718, mechanic, 0.717, sales, 0.711, salesmen, 0.696, robert, 0.69, finance, 0.69, mike, 0.684]  "
      ]
     },
     "execution_count": 9,
     "metadata": {},
     "output_type": "execute_result"
    }
   ],
   "source": [
    "pd.set_option('max_colwidth', 500)\n",
    "evaluation_list = ['lady', 'sales', 'owner', 'employee', 'cashier', 'driver', 'saleswoman', 'salesman']\n",
    "agg_results = evaluate_model_nn(model_sg_100_5, 'model_sg_100_5', evaluation_list, 10)\n",
    "agg_results"
   ]
  },
  {
   "cell_type": "code",
   "execution_count": 7,
   "metadata": {
    "scrolled": true
   },
   "outputs": [
    {
     "name": "stdout",
     "output_type": "stream",
     "text": [
      "NEAREST NEIGHBORS FOR: lady\n",
      "woman, 0.939\n",
      "girl, 0.903\n",
      "gal, 0.822\n",
      "gentleman, 0.788\n",
      "guy, 0.725\n",
      "gent, 0.711\n",
      "fella, 0.691\n",
      "man, 0.676\n",
      "cashier, 0.673\n",
      "person, 0.665\n",
      "---   ---   ---   ---   ---   ---   ---   ---\n",
      "NEAREST NEIGHBORS FOR: sales\n",
      "finance, 0.803\n",
      "salesperson, 0.735\n",
      "salesman, 0.711\n",
      "patrick, 0.7\n",
      "rep, 0.667\n",
      "financing, 0.664\n",
      "leasing, 0.648\n",
      "cody, 0.642\n",
      "vito, 0.639\n",
      "consultants, 0.636\n",
      "---   ---   ---   ---   ---   ---   ---   ---\n",
      "NEAREST NEIGHBORS FOR: owner\n",
      "manager, 0.803\n",
      "gm, 0.786\n",
      "proprietor, 0.773\n",
      "managerowner, 0.773\n",
      "ownermanager, 0.773\n",
      "owners, 0.742\n",
      "manger, 0.715\n",
      "chefowner, 0.711\n",
      "trevor, 0.71\n",
      "paige, 0.675\n",
      "---   ---   ---   ---   ---   ---   ---   ---\n",
      "NEAREST NEIGHBORS FOR: employee\n",
      "staffer, 0.814\n",
      "associate, 0.801\n",
      "worker, 0.793\n",
      "clerk, 0.756\n",
      "cashier, 0.737\n",
      "wench, 0.732\n",
      "pharmacist, 0.724\n",
      "person, 0.717\n",
      "attendant, 0.702\n",
      "saleswoman, 0.699\n",
      "---   ---   ---   ---   ---   ---   ---   ---\n",
      "NEAREST NEIGHBORS FOR: cashier\n",
      "register, 0.867\n",
      "counter, 0.809\n",
      "clerk, 0.777\n",
      "barista, 0.74\n",
      "employee, 0.737\n",
      "trainee, 0.732\n",
      "sneered, 0.728\n",
      "gent, 0.726\n",
      "staffer, 0.721\n",
      "greeter, 0.72\n",
      "---   ---   ---   ---   ---   ---   ---   ---\n",
      "NEAREST NEIGHBORS FOR: driver\n",
      "dispatcher, 0.767\n",
      "drivers, 0.7\n",
      "operator, 0.694\n",
      "shuttle, 0.687\n",
      "bellman, 0.677\n",
      "delivery, 0.674\n",
      "mover, 0.671\n",
      "dispatch, 0.67\n",
      "estimator, 0.666\n",
      "lyft, 0.665\n",
      "---   ---   ---   ---   ---   ---   ---   ---\n",
      "NEAREST NEIGHBORS FOR: saleswoman\n",
      "staffer, 0.773\n",
      "associate, 0.771\n",
      "wench, 0.768\n",
      "himi, 0.768\n",
      "bartenderwaitress, 0.76\n",
      "kash, 0.758\n",
      "clerk, 0.757\n",
      "doormen, 0.757\n",
      "marissa, 0.756\n",
      "saleslady, 0.753\n",
      "---   ---   ---   ---   ---   ---   ---   ---\n",
      "NEAREST NEIGHBORS FOR: salesman\n",
      "salesperson, 0.812\n",
      "dealership, 0.731\n",
      "rep, 0.719\n",
      "dealer, 0.718\n",
      "mechanic, 0.717\n",
      "sales, 0.711\n",
      "salesmen, 0.696\n",
      "robert, 0.69\n",
      "finance, 0.69\n",
      "mike, 0.684\n",
      "---   ---   ---   ---   ---   ---   ---   ---\n"
     ]
    }
   ],
   "source": [
    "# Printing results\n",
    "for i in range(0,agg_results.shape[1]):\n",
    "    print('NEAREST NEIGHBORS FOR: ' + agg_results.columns[i])\n",
    "    result = agg_results.iloc[0,i]\n",
    "    for j in result:\n",
    "        print(j)\n",
    "    print('---   ---   ---   ---   ---   ---   ---   ---')"
   ]
  },
  {
   "cell_type": "code",
   "execution_count": 21,
   "metadata": {},
   "outputs": [
    {
     "data": {
      "text/html": [
       "<div>\n",
       "<style scoped>\n",
       "    .dataframe tbody tr th:only-of-type {\n",
       "        vertical-align: middle;\n",
       "    }\n",
       "\n",
       "    .dataframe tbody tr th {\n",
       "        vertical-align: top;\n",
       "    }\n",
       "\n",
       "    .dataframe thead th {\n",
       "        text-align: right;\n",
       "    }\n",
       "</style>\n",
       "<table border=\"1\" class=\"dataframe\">\n",
       "  <thead>\n",
       "    <tr style=\"text-align: right;\">\n",
       "      <th></th>\n",
       "      <th>gentleman</th>\n",
       "    </tr>\n",
       "  </thead>\n",
       "  <tbody>\n",
       "    <tr>\n",
       "      <th>model_sg_100_5</th>\n",
       "      <td>[woman, 0.831, guy, 0.817, lady, 0.788, man, 0.77, gentlemen, 0.759, gent, 0.747, fella, 0.72, person, 0.689, lad, 0.686, associate, 0.683]</td>\n",
       "    </tr>\n",
       "  </tbody>\n",
       "</table>\n",
       "</div>"
      ],
      "text/plain": [
       "                                                                                                                                                  gentleman\n",
       "model_sg_100_5  [woman, 0.831, guy, 0.817, lady, 0.788, man, 0.77, gentlemen, 0.759, gent, 0.747, fella, 0.72, person, 0.689, lad, 0.686, associate, 0.683]"
      ]
     },
     "execution_count": 21,
     "metadata": {},
     "output_type": "execute_result"
    }
   ],
   "source": [
    "pd.set_option('max_colwidth', 500)\n",
    "\n",
    "evaluation_list = ['gentleman']\n",
    "agg_results = evaluate_model_nn(model_sg_100_5, 'model_sg_100_5', evaluation_list, 10)\n",
    "agg_results"
   ]
  }
 ],
 "metadata": {
  "kernelspec": {
   "display_name": "Python 3",
   "language": "python",
   "name": "python3"
  },
  "language_info": {
   "codemirror_mode": {
    "name": "ipython",
    "version": 3
   },
   "file_extension": ".py",
   "mimetype": "text/x-python",
   "name": "python",
   "nbconvert_exporter": "python",
   "pygments_lexer": "ipython3",
   "version": "3.7.9"
  }
 },
 "nbformat": 4,
 "nbformat_minor": 4
}
